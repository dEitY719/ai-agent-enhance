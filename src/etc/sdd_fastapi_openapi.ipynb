{
  "cells": [
    {
      "cell_type": "markdown",
      "metadata": {},
      "source": [
        "# 📓 Spec-Driven Development (SDD) 실습 예제\n",
        "\n",
        "---\n",
        "## 0. 소개\n",
        "이 노트북은 **OpenAPI 스펙을 기반으로 FastAPI 애플리케이션을 자동 생성하고 검증**하는 과정을 다룹니다.  \n",
        "핵심 메시지: **\"코드는 스펙을 따른다 (Code Follows Spec)\"**"
      ]
    },
    {
      "cell_type": "markdown",
      "metadata": {},
      "source": [
        "## 1. OpenAPI 스펙 작성\n",
        "먼저 간단한 **사용자(User) API**를 정의합니다."
      ]
    },
    {
      "cell_type": "code",
      "execution_count": 11,
      "metadata": {},
      "outputs": [
        {
          "name": "stdout",
          "output_type": "stream",
          "text": [
            "Overwriting api-spec.yaml\n"
          ]
        }
      ],
      "source": [
        "%%writefile api-spec.yaml\n",
        "openapi: 3.0.3\n",
        "info:\n",
        "  title: User Service API\n",
        "  version: 1.0.0\n",
        "paths:\n",
        "  /users:\n",
        "    get:\n",
        "      summary: Get list of users\n",
        "      responses:\n",
        "        '200':\n",
        "          description: A JSON array of users\n",
        "          content:\n",
        "            application/json:\n",
        "              schema:\n",
        "                type: array\n",
        "                items:\n",
        "                  $ref: '#/components/schemas/User'\n",
        "    post:\n",
        "      summary: Create a new user\n",
        "      requestBody:\n",
        "        required: true\n",
        "        content:\n",
        "          application/json:\n",
        "            schema:\n",
        "              $ref: '#/components/schemas/UserCreate'\n",
        "      responses:\n",
        "        '201':\n",
        "          description: User created\n",
        "          content:\n",
        "            application/json:\n",
        "              schema:\n",
        "                $ref: '#/components/schemas/User'\n",
        "        '422':\n",
        "          description: Validation Error\n",
        "          content:\n",
        "            application/json:\n",
        "              schema:\n",
        "                $ref: '#/components/schemas/HTTPValidationError'\n",
        "components:\n",
        "  schemas:\n",
        "    User:\n",
        "      type: object\n",
        "      properties:\n",
        "        id:\n",
        "          type: integer\n",
        "        name:\n",
        "          type: string\n",
        "    UserCreate:\n",
        "      type: object\n",
        "      properties:\n",
        "        name:\n",
        "          type: string\n",
        "      required:\n",
        "        - name"
      ]
    },
    {
      "cell_type": "markdown",
      "metadata": {},
      "source": [
        "## 2. 스펙 기반 모델 코드 생성\n",
        "`datamodel-code-generator` 라이브러리를 사용해 Pydantic 모델을 생성합니다."
      ]
    },
    {
      "cell_type": "code",
      "execution_count": 3,
      "metadata": {},
      "outputs": [
        {
          "name": "stdout",
          "output_type": "stream",
          "text": [
            "Collecting datamodel-code-generator\n",
            "  Downloading datamodel_code_generator-0.33.0-py3-none-any.whl.metadata (26 kB)\n",
            "Collecting argcomplete<4,>=2.10.1 (from datamodel-code-generator)\n",
            "  Downloading argcomplete-3.6.2-py3-none-any.whl.metadata (16 kB)\n",
            "Collecting black>=19.10b0 (from datamodel-code-generator)\n",
            "  Using cached black-25.1.0-cp313-cp313-manylinux_2_17_x86_64.manylinux2014_x86_64.manylinux_2_28_x86_64.whl.metadata (81 kB)\n",
            "Collecting genson<2,>=1.2.1 (from datamodel-code-generator)\n",
            "  Downloading genson-1.3.0-py3-none-any.whl.metadata (28 kB)\n",
            "Collecting inflect<8,>=4.1 (from datamodel-code-generator)\n",
            "  Downloading inflect-7.5.0-py3-none-any.whl.metadata (24 kB)\n",
            "Collecting isort<7,>=4.3.21 (from datamodel-code-generator)\n",
            "  Using cached isort-6.0.1-py3-none-any.whl.metadata (11 kB)\n",
            "Requirement already satisfied: jinja2<4,>=2.10.1 in /home/bwyoon/para/project/ai-agent-enhance/.venv/lib/python3.13/site-packages (from datamodel-code-generator) (3.1.6)\n",
            "Requirement already satisfied: packaging in /home/bwyoon/para/project/ai-agent-enhance/.venv/lib/python3.13/site-packages (from datamodel-code-generator) (25.0)\n",
            "Requirement already satisfied: pydantic>=1.5 in /home/bwyoon/para/project/ai-agent-enhance/.venv/lib/python3.13/site-packages (from datamodel-code-generator) (2.11.7)\n",
            "Requirement already satisfied: pyyaml>=6.0.1 in /home/bwyoon/para/project/ai-agent-enhance/.venv/lib/python3.13/site-packages (from datamodel-code-generator) (6.0.2)\n",
            "Collecting more_itertools>=8.5.0 (from inflect<8,>=4.1->datamodel-code-generator)\n",
            "  Downloading more_itertools-10.8.0-py3-none-any.whl.metadata (39 kB)\n",
            "Collecting typeguard>=4.0.1 (from inflect<8,>=4.1->datamodel-code-generator)\n",
            "  Downloading typeguard-4.4.4-py3-none-any.whl.metadata (3.3 kB)\n",
            "Requirement already satisfied: MarkupSafe>=2.0 in /home/bwyoon/para/project/ai-agent-enhance/.venv/lib/python3.13/site-packages (from jinja2<4,>=2.10.1->datamodel-code-generator) (3.0.2)\n",
            "Requirement already satisfied: click>=8.0.0 in /home/bwyoon/para/project/ai-agent-enhance/.venv/lib/python3.13/site-packages (from black>=19.10b0->datamodel-code-generator) (8.2.1)\n",
            "Requirement already satisfied: mypy-extensions>=0.4.3 in /home/bwyoon/para/project/ai-agent-enhance/.venv/lib/python3.13/site-packages (from black>=19.10b0->datamodel-code-generator) (1.1.0)\n",
            "Collecting pathspec>=0.9.0 (from black>=19.10b0->datamodel-code-generator)\n",
            "  Using cached pathspec-0.12.1-py3-none-any.whl.metadata (21 kB)\n",
            "Requirement already satisfied: platformdirs>=2 in /home/bwyoon/para/project/ai-agent-enhance/.venv/lib/python3.13/site-packages (from black>=19.10b0->datamodel-code-generator) (4.4.0)\n",
            "Requirement already satisfied: annotated-types>=0.6.0 in /home/bwyoon/para/project/ai-agent-enhance/.venv/lib/python3.13/site-packages (from pydantic>=1.5->datamodel-code-generator) (0.7.0)\n",
            "Requirement already satisfied: pydantic-core==2.33.2 in /home/bwyoon/para/project/ai-agent-enhance/.venv/lib/python3.13/site-packages (from pydantic>=1.5->datamodel-code-generator) (2.33.2)\n",
            "Requirement already satisfied: typing-extensions>=4.12.2 in /home/bwyoon/para/project/ai-agent-enhance/.venv/lib/python3.13/site-packages (from pydantic>=1.5->datamodel-code-generator) (4.15.0)\n",
            "Requirement already satisfied: typing-inspection>=0.4.0 in /home/bwyoon/para/project/ai-agent-enhance/.venv/lib/python3.13/site-packages (from pydantic>=1.5->datamodel-code-generator) (0.4.1)\n",
            "Downloading datamodel_code_generator-0.33.0-py3-none-any.whl (121 kB)\n",
            "Downloading argcomplete-3.6.2-py3-none-any.whl (43 kB)\n",
            "Downloading genson-1.3.0-py3-none-any.whl (21 kB)\n",
            "Downloading inflect-7.5.0-py3-none-any.whl (35 kB)\n",
            "Using cached isort-6.0.1-py3-none-any.whl (94 kB)\n",
            "Using cached black-25.1.0-cp313-cp313-manylinux_2_17_x86_64.manylinux2014_x86_64.manylinux_2_28_x86_64.whl (1.8 MB)\n",
            "Downloading more_itertools-10.8.0-py3-none-any.whl (69 kB)\n",
            "Using cached pathspec-0.12.1-py3-none-any.whl (31 kB)\n",
            "Downloading typeguard-4.4.4-py3-none-any.whl (34 kB)\n",
            "Installing collected packages: genson, typeguard, pathspec, more_itertools, isort, argcomplete, inflect, black, datamodel-code-generator\n",
            "\u001b[2K   \u001b[90m━━━━━━━━━━━━━━━━━━━━━━━━━━━━━━━━━━━━━━━━\u001b[0m \u001b[32m9/9\u001b[0m [datamodel-code-generator]el-code-generator]\n",
            "\u001b[1A\u001b[2KSuccessfully installed argcomplete-3.6.2 black-25.1.0 datamodel-code-generator-0.33.0 genson-1.3.0 inflect-7.5.0 isort-6.0.1 more_itertools-10.8.0 pathspec-0.12.1 typeguard-4.4.4\n"
          ]
        }
      ],
      "source": [
        "!pip install datamodel-code-generator"
      ]
    },
    {
      "cell_type": "code",
      "execution_count": 4,
      "metadata": {},
      "outputs": [],
      "source": [
        "!datamodel-codegen --input api-spec.yaml --input-file-type openapi --output models.py"
      ]
    },
    {
      "cell_type": "markdown",
      "metadata": {},
      "source": [
        "## 3. FastAPI 서버 뼈대 작성\n",
        "스펙을 기반으로 FastAPI 서버를 구현합니다."
      ]
    },
    {
      "cell_type": "code",
      "execution_count": 12,
      "metadata": {},
      "outputs": [
        {
          "name": "stdout",
          "output_type": "stream",
          "text": [
            "Overwriting main.py\n"
          ]
        }
      ],
      "source": [
        "%%writefile main.py\n",
        "from fastapi import FastAPI\n",
        "from models import User, UserCreate\n",
        "\n",
        "app = FastAPI()\n",
        "\n",
        "@app.get(\"/users\", response_model=list[User])\n",
        "def list_users():\n",
        "    return [User(id=1, name=\"Alice\")]\n",
        "\n",
        "@app.post(\"/users\", response_model=User, status_code=201)\n",
        "def create_user(user: UserCreate):\n",
        "    return User(id=2, name=user.name)"
      ]
    },
    {
      "cell_type": "markdown",
      "metadata": {},
      "source": [
        "## 4. 서버 실행 및 확인\n",
        "Jupyter 노트북에서 uvicorn을 실행합니다. (백그라운드 모드)"
      ]
    },
    {
      "cell_type": "code",
      "execution_count": 6,
      "metadata": {},
      "outputs": [
        {
          "name": "stdout",
          "output_type": "stream",
          "text": [
            "Collecting fastapi\n",
            "  Using cached fastapi-0.116.1-py3-none-any.whl.metadata (28 kB)\n",
            "Requirement already satisfied: uvicorn in /home/bwyoon/para/project/ai-agent-enhance/.venv/lib/python3.13/site-packages (0.35.0)\n",
            "Collecting starlette<0.48.0,>=0.40.0 (from fastapi)\n",
            "  Downloading starlette-0.47.3-py3-none-any.whl.metadata (6.2 kB)\n",
            "Requirement already satisfied: pydantic!=1.8,!=1.8.1,!=2.0.0,!=2.0.1,!=2.1.0,<3.0.0,>=1.7.4 in /home/bwyoon/para/project/ai-agent-enhance/.venv/lib/python3.13/site-packages (from fastapi) (2.11.7)\n",
            "Requirement already satisfied: typing-extensions>=4.8.0 in /home/bwyoon/para/project/ai-agent-enhance/.venv/lib/python3.13/site-packages (from fastapi) (4.15.0)\n",
            "Requirement already satisfied: annotated-types>=0.6.0 in /home/bwyoon/para/project/ai-agent-enhance/.venv/lib/python3.13/site-packages (from pydantic!=1.8,!=1.8.1,!=2.0.0,!=2.0.1,!=2.1.0,<3.0.0,>=1.7.4->fastapi) (0.7.0)\n",
            "Requirement already satisfied: pydantic-core==2.33.2 in /home/bwyoon/para/project/ai-agent-enhance/.venv/lib/python3.13/site-packages (from pydantic!=1.8,!=1.8.1,!=2.0.0,!=2.0.1,!=2.1.0,<3.0.0,>=1.7.4->fastapi) (2.33.2)\n",
            "Requirement already satisfied: typing-inspection>=0.4.0 in /home/bwyoon/para/project/ai-agent-enhance/.venv/lib/python3.13/site-packages (from pydantic!=1.8,!=1.8.1,!=2.0.0,!=2.0.1,!=2.1.0,<3.0.0,>=1.7.4->fastapi) (0.4.1)\n",
            "Requirement already satisfied: anyio<5,>=3.6.2 in /home/bwyoon/para/project/ai-agent-enhance/.venv/lib/python3.13/site-packages (from starlette<0.48.0,>=0.40.0->fastapi) (4.10.0)\n",
            "Requirement already satisfied: idna>=2.8 in /home/bwyoon/para/project/ai-agent-enhance/.venv/lib/python3.13/site-packages (from anyio<5,>=3.6.2->starlette<0.48.0,>=0.40.0->fastapi) (3.10)\n",
            "Requirement already satisfied: sniffio>=1.1 in /home/bwyoon/para/project/ai-agent-enhance/.venv/lib/python3.13/site-packages (from anyio<5,>=3.6.2->starlette<0.48.0,>=0.40.0->fastapi) (1.3.1)\n",
            "Requirement already satisfied: click>=7.0 in /home/bwyoon/para/project/ai-agent-enhance/.venv/lib/python3.13/site-packages (from uvicorn) (8.2.1)\n",
            "Requirement already satisfied: h11>=0.8 in /home/bwyoon/para/project/ai-agent-enhance/.venv/lib/python3.13/site-packages (from uvicorn) (0.16.0)\n",
            "Using cached fastapi-0.116.1-py3-none-any.whl (95 kB)\n",
            "Downloading starlette-0.47.3-py3-none-any.whl (72 kB)\n",
            "Installing collected packages: starlette, fastapi\n",
            "\u001b[2K   \u001b[90m━━━━━━━━━━━━━━━━━━━━━━━━━━━━━━━━━━━━━━━━\u001b[0m \u001b[32m2/2\u001b[0m [fastapi]\n",
            "\u001b[1A\u001b[2KSuccessfully installed fastapi-0.116.1 starlette-0.47.3\n"
          ]
        }
      ],
      "source": [
        "!pip install fastapi uvicorn"
      ]
    },
    {
      "cell_type": "code",
      "execution_count": 13,
      "metadata": {},
      "outputs": [],
      "source": [
        "import subprocess, time\n",
        "\n",
        "# 서버 실행 (백그라운드)\n",
        "process = subprocess.Popen(\n",
        "    [\"uvicorn\", \"main:app\", \"--port\", \"8000\"], stdout=subprocess.PIPE, stderr=subprocess.PIPE\n",
        ")\n",
        "time.sleep(3)  # 서버 기동 대기"
      ]
    },
    {
      "cell_type": "markdown",
      "metadata": {},
      "source": [
        "## 5. 스펙 기반 테스트 자동화\n",
        "`schemathesis`를 사용해 OpenAPI 스펙과 실제 서버 구현이 일치하는지 자동 검증합니다."
      ]
    },
    {
      "cell_type": "code",
      "execution_count": 8,
      "metadata": {},
      "outputs": [
        {
          "name": "stdout",
          "output_type": "stream",
          "text": [
            "Collecting schemathesis\n",
            "  Downloading schemathesis-4.1.4-py3-none-any.whl.metadata (8.5 kB)\n",
            "Requirement already satisfied: backoff<3.0,>=2.1.2 in /home/bwyoon/para/project/ai-agent-enhance/.venv/lib/python3.13/site-packages (from schemathesis) (2.2.1)\n",
            "Requirement already satisfied: click<9,>=8.0 in /home/bwyoon/para/project/ai-agent-enhance/.venv/lib/python3.13/site-packages (from schemathesis) (8.2.1)\n",
            "Collecting colorama<1.0,>=0.4 (from schemathesis)\n",
            "  Using cached colorama-0.4.6-py2.py3-none-any.whl.metadata (17 kB)\n",
            "Collecting harfile<1.0,>=0.3.1 (from schemathesis)\n",
            "  Downloading harfile-0.3.1-py3-none-any.whl.metadata (3.9 kB)\n",
            "Requirement already satisfied: httpx<1.0,>=0.22.0 in /home/bwyoon/para/project/ai-agent-enhance/.venv/lib/python3.13/site-packages (from schemathesis) (0.28.1)\n",
            "Collecting hypothesis-graphql<1,>=0.11.1 (from schemathesis)\n",
            "  Downloading hypothesis_graphql-0.11.1-py3-none-any.whl.metadata (6.9 kB)\n",
            "Collecting hypothesis-jsonschema<0.24,>=0.23.1 (from schemathesis)\n",
            "  Downloading hypothesis_jsonschema-0.23.1-py3-none-any.whl.metadata (4.4 kB)\n",
            "Collecting hypothesis<7,>=6.108.0 (from schemathesis)\n",
            "  Downloading hypothesis-6.138.17-py3-none-any.whl.metadata (5.6 kB)\n",
            "Requirement already satisfied: jsonschema<5.0,>=4.18.0 in /home/bwyoon/para/project/ai-agent-enhance/.venv/lib/python3.13/site-packages (from jsonschema[format]<5.0,>=4.18.0->schemathesis) (4.25.1)\n",
            "Collecting junit-xml<2.0,>=1.9 (from schemathesis)\n",
            "  Downloading junit_xml-1.9-py2.py3-none-any.whl.metadata (3.2 kB)\n",
            "Collecting pyrate-limiter<4.0,>=3.0 (from schemathesis)\n",
            "  Downloading pyrate_limiter-3.9.0-py3-none-any.whl.metadata (28 kB)\n",
            "Collecting pytest-subtests<0.15.0,>=0.11 (from schemathesis)\n",
            "  Downloading pytest_subtests-0.14.2-py3-none-any.whl.metadata (6.0 kB)\n",
            "Collecting pytest<9,>=8 (from schemathesis)\n",
            "  Downloading pytest-8.4.2-py3-none-any.whl.metadata (7.7 kB)\n",
            "Requirement already satisfied: pyyaml<7.0,>=5.1 in /home/bwyoon/para/project/ai-agent-enhance/.venv/lib/python3.13/site-packages (from schemathesis) (6.0.2)\n",
            "Requirement already satisfied: requests<3,>=2.22 in /home/bwyoon/para/project/ai-agent-enhance/.venv/lib/python3.13/site-packages (from schemathesis) (2.32.5)\n",
            "Requirement already satisfied: rich>=13.9.4 in /home/bwyoon/para/project/ai-agent-enhance/.venv/lib/python3.13/site-packages (from schemathesis) (14.1.0)\n",
            "Collecting starlette-testclient<1,>=0.4.1 (from schemathesis)\n",
            "  Downloading starlette_testclient-0.4.1-py3-none-any.whl.metadata (2.5 kB)\n",
            "Collecting tomli>=2.2.1 (from schemathesis)\n",
            "  Using cached tomli-2.2.1-cp313-cp313-manylinux_2_17_x86_64.manylinux2014_x86_64.whl.metadata (11 kB)\n",
            "Requirement already satisfied: typing-extensions>=4.12.2 in /home/bwyoon/para/project/ai-agent-enhance/.venv/lib/python3.13/site-packages (from schemathesis) (4.15.0)\n",
            "Collecting werkzeug<4,>=0.16.0 (from schemathesis)\n",
            "  Using cached werkzeug-3.1.3-py3-none-any.whl.metadata (3.7 kB)\n",
            "Requirement already satisfied: anyio in /home/bwyoon/para/project/ai-agent-enhance/.venv/lib/python3.13/site-packages (from httpx<1.0,>=0.22.0->schemathesis) (4.10.0)\n",
            "Requirement already satisfied: certifi in /home/bwyoon/para/project/ai-agent-enhance/.venv/lib/python3.13/site-packages (from httpx<1.0,>=0.22.0->schemathesis) (2025.8.3)\n",
            "Requirement already satisfied: httpcore==1.* in /home/bwyoon/para/project/ai-agent-enhance/.venv/lib/python3.13/site-packages (from httpx<1.0,>=0.22.0->schemathesis) (1.0.9)\n",
            "Requirement already satisfied: idna in /home/bwyoon/para/project/ai-agent-enhance/.venv/lib/python3.13/site-packages (from httpx<1.0,>=0.22.0->schemathesis) (3.10)\n",
            "Requirement already satisfied: h11>=0.16 in /home/bwyoon/para/project/ai-agent-enhance/.venv/lib/python3.13/site-packages (from httpcore==1.*->httpx<1.0,>=0.22.0->schemathesis) (0.16.0)\n",
            "Requirement already satisfied: attrs>=22.2.0 in /home/bwyoon/para/project/ai-agent-enhance/.venv/lib/python3.13/site-packages (from hypothesis<7,>=6.108.0->schemathesis) (25.3.0)\n",
            "Collecting sortedcontainers<3.0.0,>=2.1.0 (from hypothesis<7,>=6.108.0->schemathesis)\n",
            "  Downloading sortedcontainers-2.4.0-py2.py3-none-any.whl.metadata (10 kB)\n",
            "Collecting graphql-core<3.3.0,>=3.1.0 (from hypothesis-graphql<1,>=0.11.1->schemathesis)\n",
            "  Downloading graphql_core-3.2.6-py3-none-any.whl.metadata (11 kB)\n",
            "Requirement already satisfied: jsonschema-specifications>=2023.03.6 in /home/bwyoon/para/project/ai-agent-enhance/.venv/lib/python3.13/site-packages (from jsonschema<5.0,>=4.18.0->jsonschema[format]<5.0,>=4.18.0->schemathesis) (2025.4.1)\n",
            "Requirement already satisfied: referencing>=0.28.4 in /home/bwyoon/para/project/ai-agent-enhance/.venv/lib/python3.13/site-packages (from jsonschema<5.0,>=4.18.0->jsonschema[format]<5.0,>=4.18.0->schemathesis) (0.36.2)\n",
            "Requirement already satisfied: rpds-py>=0.7.1 in /home/bwyoon/para/project/ai-agent-enhance/.venv/lib/python3.13/site-packages (from jsonschema<5.0,>=4.18.0->jsonschema[format]<5.0,>=4.18.0->schemathesis) (0.27.1)\n",
            "Collecting fqdn (from jsonschema[format]<5.0,>=4.18.0->schemathesis)\n",
            "  Using cached fqdn-1.5.1-py3-none-any.whl.metadata (1.4 kB)\n",
            "Collecting isoduration (from jsonschema[format]<5.0,>=4.18.0->schemathesis)\n",
            "  Using cached isoduration-20.11.0-py3-none-any.whl.metadata (5.7 kB)\n",
            "Requirement already satisfied: jsonpointer>1.13 in /home/bwyoon/para/project/ai-agent-enhance/.venv/lib/python3.13/site-packages (from jsonschema[format]<5.0,>=4.18.0->schemathesis) (3.0.0)\n",
            "Collecting rfc3339-validator (from jsonschema[format]<5.0,>=4.18.0->schemathesis)\n",
            "  Using cached rfc3339_validator-0.1.4-py2.py3-none-any.whl.metadata (1.5 kB)\n",
            "Collecting rfc3987 (from jsonschema[format]<5.0,>=4.18.0->schemathesis)\n",
            "  Downloading rfc3987-1.3.8-py2.py3-none-any.whl.metadata (7.5 kB)\n",
            "Collecting uri-template (from jsonschema[format]<5.0,>=4.18.0->schemathesis)\n",
            "  Using cached uri_template-1.3.0-py3-none-any.whl.metadata (8.8 kB)\n",
            "Collecting webcolors>=1.11 (from jsonschema[format]<5.0,>=4.18.0->schemathesis)\n",
            "  Using cached webcolors-24.11.1-py3-none-any.whl.metadata (2.2 kB)\n",
            "Requirement already satisfied: six in /home/bwyoon/para/project/ai-agent-enhance/.venv/lib/python3.13/site-packages (from junit-xml<2.0,>=1.9->schemathesis) (1.17.0)\n",
            "Collecting iniconfig>=1 (from pytest<9,>=8->schemathesis)\n",
            "  Using cached iniconfig-2.1.0-py3-none-any.whl.metadata (2.7 kB)\n",
            "Requirement already satisfied: packaging>=20 in /home/bwyoon/para/project/ai-agent-enhance/.venv/lib/python3.13/site-packages (from pytest<9,>=8->schemathesis) (25.0)\n",
            "Collecting pluggy<2,>=1.5 (from pytest<9,>=8->schemathesis)\n",
            "  Using cached pluggy-1.6.0-py3-none-any.whl.metadata (4.8 kB)\n",
            "Requirement already satisfied: pygments>=2.7.2 in /home/bwyoon/para/project/ai-agent-enhance/.venv/lib/python3.13/site-packages (from pytest<9,>=8->schemathesis) (2.19.2)\n",
            "Requirement already satisfied: charset_normalizer<4,>=2 in /home/bwyoon/para/project/ai-agent-enhance/.venv/lib/python3.13/site-packages (from requests<3,>=2.22->schemathesis) (3.4.3)\n",
            "Requirement already satisfied: urllib3<3,>=1.21.1 in /home/bwyoon/para/project/ai-agent-enhance/.venv/lib/python3.13/site-packages (from requests<3,>=2.22->schemathesis) (1.26.20)\n",
            "Requirement already satisfied: starlette>=0.20.1 in /home/bwyoon/para/project/ai-agent-enhance/.venv/lib/python3.13/site-packages (from starlette-testclient<1,>=0.4.1->schemathesis) (0.47.3)\n",
            "Requirement already satisfied: MarkupSafe>=2.1.1 in /home/bwyoon/para/project/ai-agent-enhance/.venv/lib/python3.13/site-packages (from werkzeug<4,>=0.16.0->schemathesis) (3.0.2)\n",
            "Requirement already satisfied: markdown-it-py>=2.2.0 in /home/bwyoon/para/project/ai-agent-enhance/.venv/lib/python3.13/site-packages (from rich>=13.9.4->schemathesis) (4.0.0)\n",
            "Requirement already satisfied: mdurl~=0.1 in /home/bwyoon/para/project/ai-agent-enhance/.venv/lib/python3.13/site-packages (from markdown-it-py>=2.2.0->rich>=13.9.4->schemathesis) (0.1.2)\n",
            "Requirement already satisfied: sniffio>=1.1 in /home/bwyoon/para/project/ai-agent-enhance/.venv/lib/python3.13/site-packages (from anyio->httpx<1.0,>=0.22.0->schemathesis) (1.3.1)\n",
            "Collecting arrow>=0.15.0 (from isoduration->jsonschema[format]<5.0,>=4.18.0->schemathesis)\n",
            "  Using cached arrow-1.3.0-py3-none-any.whl.metadata (7.5 kB)\n",
            "Requirement already satisfied: python-dateutil>=2.7.0 in /home/bwyoon/para/project/ai-agent-enhance/.venv/lib/python3.13/site-packages (from arrow>=0.15.0->isoduration->jsonschema[format]<5.0,>=4.18.0->schemathesis) (2.9.0.post0)\n",
            "Collecting types-python-dateutil>=2.8.10 (from arrow>=0.15.0->isoduration->jsonschema[format]<5.0,>=4.18.0->schemathesis)\n",
            "  Using cached types_python_dateutil-2.9.0.20250822-py3-none-any.whl.metadata (1.8 kB)\n",
            "Downloading schemathesis-4.1.4-py3-none-any.whl (314 kB)\n",
            "Using cached colorama-0.4.6-py2.py3-none-any.whl (25 kB)\n",
            "Downloading harfile-0.3.1-py3-none-any.whl (6.9 kB)\n",
            "Downloading hypothesis-6.138.17-py3-none-any.whl (533 kB)\n",
            "\u001b[2K   \u001b[90m━━━━━━━━━━━━━━━━━━━━━━━━━━━━━━━━━━━━━━━━\u001b[0m \u001b[32m533.7/533.7 kB\u001b[0m \u001b[31m11.1 MB/s\u001b[0m  \u001b[33m0:00:00\u001b[0m\n",
            "\u001b[?25hDownloading hypothesis_graphql-0.11.1-py3-none-any.whl (16 kB)\n",
            "Downloading graphql_core-3.2.6-py3-none-any.whl (203 kB)\n",
            "Downloading hypothesis_jsonschema-0.23.1-py3-none-any.whl (29 kB)\n",
            "Downloading junit_xml-1.9-py2.py3-none-any.whl (7.1 kB)\n",
            "Downloading pyrate_limiter-3.9.0-py3-none-any.whl (33 kB)\n",
            "Downloading pytest-8.4.2-py3-none-any.whl (365 kB)\n",
            "Using cached pluggy-1.6.0-py3-none-any.whl (20 kB)\n",
            "Downloading pytest_subtests-0.14.2-py3-none-any.whl (9.1 kB)\n",
            "Downloading sortedcontainers-2.4.0-py2.py3-none-any.whl (29 kB)\n",
            "Downloading starlette_testclient-0.4.1-py3-none-any.whl (8.1 kB)\n",
            "Using cached werkzeug-3.1.3-py3-none-any.whl (224 kB)\n",
            "Using cached iniconfig-2.1.0-py3-none-any.whl (6.0 kB)\n",
            "Using cached tomli-2.2.1-cp313-cp313-manylinux_2_17_x86_64.manylinux2014_x86_64.whl (241 kB)\n",
            "Using cached webcolors-24.11.1-py3-none-any.whl (14 kB)\n",
            "Using cached fqdn-1.5.1-py3-none-any.whl (9.1 kB)\n",
            "Using cached isoduration-20.11.0-py3-none-any.whl (11 kB)\n",
            "Using cached arrow-1.3.0-py3-none-any.whl (66 kB)\n",
            "Using cached types_python_dateutil-2.9.0.20250822-py3-none-any.whl (17 kB)\n",
            "Using cached rfc3339_validator-0.1.4-py2.py3-none-any.whl (3.5 kB)\n",
            "Downloading rfc3987-1.3.8-py2.py3-none-any.whl (13 kB)\n",
            "Using cached uri_template-1.3.0-py3-none-any.whl (11 kB)\n",
            "Installing collected packages: sortedcontainers, rfc3987, werkzeug, webcolors, uri-template, types-python-dateutil, tomli, rfc3339-validator, pyrate-limiter, pluggy, junit-xml, iniconfig, hypothesis, harfile, graphql-core, fqdn, colorama, pytest, hypothesis-graphql, arrow, starlette-testclient, pytest-subtests, isoduration, hypothesis-jsonschema, schemathesis\n",
            "\u001b[2K   \u001b[90m━━━━━━━━━━━━━━━━━━━━━━━━━━━━━━━━━━━━━━━━\u001b[0m \u001b[32m25/25\u001b[0m [schemathesis][0m [schemathesis]ator]\n",
            "\u001b[1A\u001b[2KSuccessfully installed arrow-1.3.0 colorama-0.4.6 fqdn-1.5.1 graphql-core-3.2.6 harfile-0.3.1 hypothesis-6.138.17 hypothesis-graphql-0.11.1 hypothesis-jsonschema-0.23.1 iniconfig-2.1.0 isoduration-20.11.0 junit-xml-1.9 pluggy-1.6.0 pyrate-limiter-3.9.0 pytest-8.4.2 pytest-subtests-0.14.2 rfc3339-validator-0.1.4 rfc3987-1.3.8 schemathesis-4.1.4 sortedcontainers-2.4.0 starlette-testclient-0.4.1 tomli-2.2.1 types-python-dateutil-2.9.0.20250822 uri-template-1.3.0 webcolors-24.11.1 werkzeug-3.1.3\n"
          ]
        }
      ],
      "source": [
        "!pip install schemathesis"
      ]
    },
    {
      "cell_type": "code",
      "execution_count": 15,
      "metadata": {},
      "outputs": [
        {
          "name": "stdout",
          "output_type": "stream",
          "text": [
            "\u001b[1mSchemathesis v4.1.4\u001b[0m\n",
            "\u001b[1m━━━━━━━━━━━━━━━━━━━\u001b[0m\n",
            "\n",
            "\u001b[2K \u001b[32m🕐 \u001b[0m \u001b[37mLoading specification from \u001b[0m\u001b[36mapi-spec.yaml\u001b[0m0m\n",
            "\u001b[1A\u001b[2K \u001b[32m✅  \u001b[0m\u001b[97mLoaded specification from \u001b[0m\u001b[36mapi-spec.yaml\u001b[0m\u001b[97m (in 0.15s)\u001b[0m                         \n",
            "\n",
            " \u001b[1;97m    \u001b[0m\u001b[1;97mBase URL:     \u001b[0m\u001b[1;97m    \u001b[0m\u001b[36mhttp://localhost:8000\u001b[0m\u001b[36m    \u001b[0m                                \n",
            " \u001b[1;97m    \u001b[0m\u001b[1;97mSpecification:\u001b[0m\u001b[1;97m    \u001b[0m\u001b[36mOpen API 3.0.3       \u001b[0m\u001b[36m    \u001b[0m                                \n",
            " \u001b[1;97m    \u001b[0m\u001b[1;97mOperations:   \u001b[0m\u001b[1;97m    \u001b[0m\u001b[36m2 selected / 2 total \u001b[0m\u001b[36m    \u001b[0m                                \n",
            "\n",
            "\u001b[2K \u001b[32m🕛 \u001b[0m \u001b[97mProbing API capabilities\u001b[0m0m\n",
            "\u001b[1A\u001b[2K \u001b[32m✅  \u001b[0m\u001b[97mAPI capabilities:\u001b[0m                                                          \n",
            "\n",
            " \u001b[1;97m    \u001b[0m\u001b[1;97mSupports NULL byte in headers:\u001b[0m\u001b[1;97m    \u001b[0m\u001b[31m✘\u001b[0m\u001b[36m    \u001b[0m                                    \n",
            "\n",
            "\u001b[?25l   \u001b[37m  Examples\u001b[0m\n",
            "\n",
            "     \u001b[33m0:00:00\u001b[0m \u001b[90m━━━━━━━━━━━━━━━━━━━━━━━━━━━━━━━━━━━━━━━━━━━━━━━━━━━━━━━━\u001b[0m 100% (2/2)\n",
            "\n",
            "\n",
            "\u001b[2K\u001b[1A\u001b[2K\u001b[1A\u001b[2K\u001b[1A\u001b[2K\u001b[1A\u001b[2K\u001b[1A\u001b[2K   \u001b[37m  Examples\u001b[0m\n",
            "\n",
            "     \u001b[33m0:00:00\u001b[0m \u001b[90m━━━━━━━━━━━━━━━━━━━━━━━━━━━━━━━━━━━━━━━━━━━━━━━━━━━━━━━━\u001b[0m 100% (2/2)\n",
            "\n",
            "\n",
            "     🚫 1 error  ⏭  1 skipped\n",
            "\u001b[1A\u001b[2K\u001b[1A\u001b[2K\u001b[1A\u001b[2K\u001b[1A\u001b[2K\u001b[1A\u001b[2K\u001b[1A\u001b[2K \u001b[37m🚫  Examples (in 0.11s)\u001b[0m                                                        \n",
            "                                                                                \n",
            " \u001b[37m    🚫 1 error  ⏭  1 skipped\u001b[0m                                                   \n",
            "\n",
            "\u001b[?25l   \u001b[37m  Coverage\u001b[0m\n",
            "\n",
            "     \u001b[33m0:00:00\u001b[0m \u001b[90m━━━━━━━━━━━━━━━━━━━━━━━━━━━━━━━━━━━━━━━━━━━━━━━━━━━━━━━━\u001b[0m 100% (2/2)\n",
            "\n",
            "\n",
            "\u001b[2K\u001b[1A\u001b[2K\u001b[1A\u001b[2K\u001b[1A\u001b[2K\u001b[1A\u001b[2K\u001b[1A\u001b[2K   \u001b[37m  Coverage\u001b[0m\n",
            "\n",
            "     \u001b[33m0:00:00\u001b[0m \u001b[90m━━━━━━━━━━━━━━━━━━━━━━━━━━━━━━━━━━━━━━━━━━━━━━━━━━━━━━━━\u001b[0m 100% (2/2)\n",
            "\n",
            "\n",
            "     ✅ 1 passed  🚫 1 error\n",
            "\u001b[1A\u001b[2K\u001b[1A\u001b[2K\u001b[1A\u001b[2K\u001b[1A\u001b[2K\u001b[1A\u001b[2K\u001b[1A\u001b[2K \u001b[37m🚫  Coverage (in 0.18s)\u001b[0m                                                        \n",
            "                                                                                \n",
            " \u001b[37m    ✅ 1 passed  🚫 1 error\u001b[0m                                                    \n",
            "\n",
            "\u001b[?25l   \u001b[37m  Fuzzing\u001b[0m\n",
            "\n",
            "     \u001b[33m0:00:00\u001b[0m \u001b[90m━━━━━━━━━━━━━━━━━━━━━━━━━━━━━━━━━━━━━━━━━━━━━━━━━━━━━━━━\u001b[0m 100% (2/2)\n",
            "\n",
            "\n",
            "\u001b[2K\u001b[1A\u001b[2K\u001b[1A\u001b[2K\u001b[1A\u001b[2K\u001b[1A\u001b[2K\u001b[1A\u001b[2K   \u001b[37m  Fuzzing\u001b[0m\n",
            "\n",
            "     \u001b[33m0:00:00\u001b[0m \u001b[90m━━━━━━━━━━━━━━━━━━━━━━━━━━━━━━━━━━━━━━━━━━━━━━━━━━━━━━━━\u001b[0m 100% (2/2)\n",
            "\n",
            "\n",
            "     ✅ 1 passed  🚫 1 error\n",
            "\u001b[1A\u001b[2K\u001b[1A\u001b[2K\u001b[1A\u001b[2K\u001b[1A\u001b[2K\u001b[1A\u001b[2K\u001b[1A\u001b[2K \u001b[37m🚫  Fuzzing (in 0.13s)\u001b[0m                                                         \n",
            "                                                                                \n",
            " \u001b[37m    ✅ 1 passed  🚫 1 error\u001b[0m                                                    \n",
            "\n",
            "\u001b[1m==================================== ERRORS ====================================\u001b[0m\n",
            "\u001b[31m\u001b[1m_________________________________ POST /users __________________________________\u001b[0m\n",
            "Schema Error\n",
            "\n",
            "Unresolvable JSON pointer in the schema\n",
            "\n",
            "Error details:\n",
            "    JSON pointer: '#/components/schemas/HTTPValidationError'\n",
            "    This typically means that the schema is referencing a component that doesn't exist.\n",
            "\n",
            "Ensure that the definition complies with the OpenAPI specification\n",
            "\u001b[31m\n",
            "Need more help?\n",
            "    Join our Discord server: https://discord.gg/R9ASRAmHnA\u001b[0m\n",
            "\u001b[1m=================================== SUMMARY ====================================\u001b[0m\n",
            "\n",
            "\u001b[1mAPI Operations:\u001b[0m\n",
            "  Selected: \u001b[1m2\u001b[0m/\u001b[1m2\u001b[0m\u001b[0m\n",
            "  Tested: \u001b[1m1\u001b[0m\u001b[0m\n",
            "  Errored: \u001b[1m1\u001b[0m\u001b[0m\n",
            "\n",
            "\u001b[1mTest Phases:\u001b[0m\n",
            "\u001b[31m  🚫 Examples\u001b[0m\n",
            "\u001b[31m  🚫 Coverage\u001b[0m\n",
            "\u001b[31m  🚫 Fuzzing\u001b[0m\n",
            "\u001b[33m  ⏭  Stateful\u001b[0m\u001b[33m (not applicable)\u001b[0m\n",
            "\n",
            "\u001b[1mErrors:\u001b[0m\n",
            "  🚫 Schema Error: \u001b[0m\u001b[1m1\u001b[0m\n",
            "\n",
            "\u001b[1mTest cases:\u001b[0m\n",
            "  \u001b[1m7\u001b[0m generated, \u001b[1m7\u001b[0m passed\n",
            "\u001b[0m\n",
            "\u001b[1mSeed: \u001b[0m3974372803759801144094623934506049628\n",
            "\n",
            "\u001b[31m\u001b[1m=============================== 1 error in 0.45s ===============================\u001b[0m\n"
          ]
        }
      ],
      "source": [
        "!schemathesis run api-spec.yaml --url=http://localhost:8000"
      ]
    },
    {
      "cell_type": "markdown",
      "metadata": {},
      "source": [
        "## 6. 서버 종료"
      ]
    },
    {
      "cell_type": "code",
      "execution_count": 16,
      "metadata": {},
      "outputs": [],
      "source": [
        "process.terminate()"
      ]
    },
    {
      "cell_type": "markdown",
      "metadata": {},
      "source": [
        "# 📌 정리\n",
        "1. OpenAPI 스펙을 작성한다.  \n",
        "2. 모델/클라이언트/문서/테스트는 스펙에서 자동 생성한다.  \n",
        "3. FastAPI는 스펙에 정의된 API만 구현하면 된다.  \n",
        "4. **CI/CD 파이프라인에 `schemathesis`를 추가하면, 스펙-코드 일관성이 자동 보장된다.**"
      ]
    }
  ],
  "metadata": {
    "kernelspec": {
      "display_name": ".venv",
      "language": "python",
      "name": "python3"
    },
    "language_info": {
      "codemirror_mode": {
        "name": "ipython",
        "version": 3
      },
      "file_extension": ".py",
      "mimetype": "text/x-python",
      "name": "python",
      "nbconvert_exporter": "python",
      "pygments_lexer": "ipython3",
      "version": "3.13.5"
    }
  },
  "nbformat": 4,
  "nbformat_minor": 5
}
