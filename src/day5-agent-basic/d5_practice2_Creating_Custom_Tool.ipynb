{
 "cells": [
  {
   "cell_type": "markdown",
   "metadata": {
    "id": "w_IyvEyInn0X"
   },
   "source": [
    "# [실습 2] Custom Tool 만들기\n",
    "학습 내용:\n",
    "1. 환경 설정 및 기본 세팅\n",
    "2. Custom Tool을 만드는 4가지 방법\n",
    "   - @tool 데코레이터: 가장 간단한 방법\n",
    "   - StructuredTool 클래스: 인자(argument)에 대한 상세한 설명이 필요할 때\n",
    "   - BaseTool 클래스 상속: 가장 유연하고 확장성 있는 방법\n",
    "   - LangChain Runnable(LCEL) 활용: LangChain 표현식 언어를 도구로 변환\n",
    "3. Agent 생성: 직접 만든 Custom Tool을 탑재한 Agent 만들기\n"
   ]
  },
  {
   "cell_type": "markdown",
   "metadata": {
    "id": "6wXE4z7qn9X1"
   },
   "source": [
    "## 1. 환경 설정"
   ]
  },
  {
   "cell_type": "code",
   "execution_count": 1,
   "metadata": {
    "colab": {
     "base_uri": "https://localhost:8080/"
    },
    "id": "DmfO8B6fnoC-",
    "outputId": "df4da4c0-36a8-4fd2-81c0-5e79dd18237c"
   },
   "outputs": [],
   "source": [
    "# !pip install -qU langchain langchain_openai"
   ]
  },
  {
   "cell_type": "code",
   "execution_count": 1,
   "metadata": {
    "id": "c4g_Gx6poEcp"
   },
   "outputs": [],
   "source": [
    "import os\n",
    "from dotenv import load_dotenv\n",
    "\n",
    "# .env 파일 로드, 환경 변수에서 API 키 읽기\n",
    "load_dotenv()\n",
    "os.environ[\"OPENAI_API_KEY\"] = os.getenv(\"OPENAI_API_KEY\")"
   ]
  },
  {
   "cell_type": "code",
   "execution_count": 2,
   "metadata": {
    "id": "qr7W5fhyoEfF"
   },
   "outputs": [
    {
     "name": "stderr",
     "output_type": "stream",
     "text": [
      "/home/elicer/.local/lib/python3.10/site-packages/IPython/core/interactiveshell.py:3577: LangChainDeprecationWarning: As of langchain-core 0.3.0, LangChain uses pydantic v2 internally. The langchain.pydantic_v1 module was a compatibility shim for pydantic v1, and should no longer be used. Please update the code to import from Pydantic directly.\n",
      "\n",
      "For example, replace imports like: `from langchain.pydantic_v1 import BaseModel`\n",
      "with: `from pydantic import BaseModel`\n",
      "or the v1 compatibility namespace if you are working in a code base that has not been fully upgraded to pydantic 2 yet. \tfrom pydantic.v1 import BaseModel\n",
      "\n",
      "  exec(code_obj, self.user_global_ns, self.user_ns)\n"
     ]
    }
   ],
   "source": [
    "import datetime\n",
    "\n",
    "# LangChain 관련 기본 import\n",
    "from langchain_openai import ChatOpenAI\n",
    "from langchain_core.tools import Tool, BaseTool\n",
    "from langchain.pydantic_v1 import BaseModel, Field\n",
    "from langchain import hub\n",
    "from langchain.agents import create_openai_functions_agent, AgentExecutor\n",
    "from typing import Type"
   ]
  },
  {
   "cell_type": "code",
   "execution_count": 4,
   "metadata": {
    "id": "Itbg3a6_oEhd"
   },
   "outputs": [],
   "source": [
    "# LLM 모델을 초기화합니다.\n",
    "llm = ChatOpenAI(\n",
    "    model_name = \"gpt-4o-mini\", # e.g. \"openai/gpt-4o-mini\", \"openai/gpt-5\"\n",
    "    temperature=0\n",
    ")"
   ]
  },
  {
   "cell_type": "markdown",
   "metadata": {
    "id": "WF2SNsIloWLV"
   },
   "source": [
    "## 2. Custom Tool을 만드는 4가지 방법\n",
    "- Agent가 사용할 도구는 명확한 '이름(name)', '설명(description)',\n",
    "- 그리고 '인자 스키마(args_schema)'를 가져야 합니다.\n",
    "- 특히 '설명'은 Agent가 도구의 용도를 파악하는 데 결정적인 역할을 합니다."
   ]
  },
  {
   "cell_type": "markdown",
   "metadata": {
    "id": "Bwvl4HDJoh0t"
   },
   "source": [
    "### 2-1. @tool 데코레이터 사용\n",
    "가장 직관적이고 간단하게 함수를 도구로 만드는 방법입니다.\n",
    "함수의 docstring이 자동으로 도구의 설명(description)이 됩니다."
   ]
  },
  {
   "cell_type": "code",
   "execution_count": 6,
   "metadata": {
    "id": "MYlJVRMAoEjl"
   },
   "outputs": [],
   "source": [
    "from langchain.tools import tool\n",
    "from datetime import datetime\n",
    "\n",
    "@tool\n",
    "def get_current_time(format: str = \"%Y-%m-%d %H:%M:%S\") -> str:\n",
    "    \"\"\"\n",
    "    현재 날짜와 시간을 지정된 포맷으로 반환합니다.\n",
    "    사용자가 '지금 몇 시야?', '오늘 날짜 알려줘' 등 시간과 관련된 질문을 할 때 사용하세요.\n",
    "    \"\"\"\n",
    "    return datetime.now().strftime(format)"
   ]
  },
  {
   "cell_type": "code",
   "execution_count": 7,
   "metadata": {
    "colab": {
     "base_uri": "https://localhost:8080/"
    },
    "id": "U-8q0IKQov3s",
    "outputId": "dd8e3994-4672-44a6-9f19-a4a22d61f013"
   },
   "outputs": [
    {
     "name": "stdout",
     "output_type": "stream",
     "text": [
      "--- @tool 데코레이터로 만든 도구 정보 ---\n",
      "이름: get_current_time\n",
      "설명: 현재 날짜와 시간을 지정된 포맷으로 반환합니다.\n",
      "사용자가 '지금 몇 시야?', '오늘 날짜 알려줘' 등 시간과 관련된 질문을 할 때 사용하세요.\n",
      "인자 스키마: {'format': {'default': '%Y-%m-%d %H:%M:%S', 'title': 'Format', 'type': 'string'}}\n",
      "--------------------\n"
     ]
    }
   ],
   "source": [
    "# tool 데코레이터로 생성된 도구의 정보를 확인해봅시다.\n",
    "print(\"--- @tool 데코레이터로 만든 도구 정보 ---\")\n",
    "print(f\"이름: {get_current_time.name}\")\n",
    "print(f\"설명: {get_current_time.description}\")\n",
    "print(f\"인자 스키마: {get_current_time.args}\")\n",
    "print(\"-\" * 20)"
   ]
  },
  {
   "cell_type": "markdown",
   "metadata": {
    "id": "CjPTQbL9o53Q"
   },
   "source": [
    "### 2-2. StructuredTool 클래스 사용\n",
    "도구에 전달되는 인자(argument)에 대해 더 상세한 설명이 필요할 때 유용합니다.\n",
    "Pydantic 모델을 사용하여 인자의 타입과 설명을 명확하게 정의할 수 있습니다."
   ]
  },
  {
   "cell_type": "code",
   "execution_count": 36,
   "metadata": {
    "id": "B27bWD5_o9Vc"
   },
   "outputs": [],
   "source": [
    "from langchain.tools import StructuredTool\n",
    "from pydantic import BaseModel, Field\n",
    "\n",
    "# 계산기 함수의 인자를 정의할 Pydantic 모델\n",
    "class CalculatorInput(BaseModel):\n",
    "    a: int = Field(description=\"첫 번째 숫자\")\n",
    "    b: int = Field(description=\"두 번째 숫자\")\n",
    "\n",
    "def multiply(a: int, b: int) -> int:\n",
    "    \"\"\"두 수를 곱한 결과를 반환합니다.\"\"\"\n",
    "    return a * b"
   ]
  },
  {
   "cell_type": "code",
   "execution_count": 37,
   "metadata": {
    "id": "mCECBFmVo9X8"
   },
   "outputs": [],
   "source": [
    "# StructuredTool.from_function()을 사용하여 함수로부터 도구를 생성합니다.\n",
    "multiply_tool = StructuredTool.from_function(\n",
    "    func=multiply,\n",
    "    name=\"Multiplier\",\n",
    "    description=\"두 개의 숫자를 곱셈하는 계산기입니다. 곱셈이 필요할 때 사용하세요.\",\n",
    "    args_schema=CalculatorInput\n",
    ")"
   ]
  },
  {
   "cell_type": "code",
   "execution_count": 38,
   "metadata": {
    "colab": {
     "base_uri": "https://localhost:8080/"
    },
    "id": "SZsBnl2Eo9aO",
    "outputId": "1dfed9dc-1f0f-4bda-b296-d9dff645214f"
   },
   "outputs": [
    {
     "name": "stdout",
     "output_type": "stream",
     "text": [
      "--- StructuredTool로 만든 도구 정보 ---\n",
      "이름: Multiplier\n",
      "설명: 두 개의 숫자를 곱셈하는 계산기입니다. 곱셈이 필요할 때 사용하세요.\n",
      "인자 스키마: {'a': {'description': '첫 번째 숫자', 'title': 'A', 'type': 'integer'}, 'b': {'description': '두 번째 숫자', 'title': 'B', 'type': 'integer'}}\n",
      "--------------------\n"
     ]
    }
   ],
   "source": [
    "print(\"--- StructuredTool로 만든 도구 정보 ---\")\n",
    "print(f\"이름: {multiply_tool.name}\")\n",
    "print(f\"설명: {multiply_tool.description}\")\n",
    "print(f\"인자 스키마: {multiply_tool.args}\")\n",
    "print(\"-\" * 20)"
   ]
  },
  {
   "cell_type": "markdown",
   "metadata": {
    "id": "81pS8GCIpQ5U"
   },
   "source": [
    "### 2-3. BaseTool 클래스 상속\n",
    "가장 유연한 방법으로, 클래스로 도구를 정의합니다.\n",
    "동기/비동기 실행을 모두 구현하거나, 복잡한 로직을 캡슐화할 때 적합합니다."
   ]
  },
  {
   "cell_type": "code",
   "execution_count": 39,
   "metadata": {
    "id": "bV17oRBjpRND"
   },
   "outputs": [],
   "source": [
    "# 인자 스키마 정의\n",
    "class UserProfileInput(BaseModel):\n",
    "    user_id: str = Field(description=\"정보를 조회할 사용자의 아이디\")\n",
    "\n",
    "class UserProfileTool(BaseTool):\n",
    "    name: str = \"get_user_profile\"\n",
    "    description: str = \"주어진 사용자 ID에 해당하는 프로필 정보(이름, 이메일)를 조회합니다. 사용자 정보를 찾아야 할 때 사용하세요.\"\n",
    "    args_schema: Type[BaseModel] = UserProfileInput\n",
    "\n",
    "    def _run(self, user_id: str) -> dict:\n",
    "        \"\"\"도구의 동기적 실행 로직을 구현합니다.\"\"\"\n",
    "        # 실제 애플리케이션에서는 DB나 API를 조회하는 코드가 들어갑니다.\n",
    "        # 여기서는 예시를 위해 더미 데이터를 반환합니다.\n",
    "        if user_id == \"student\":\n",
    "            return {\"name\": \"홍길동\", \"email\": \"gildong.hong@langchain.com\"}\n",
    "        else:\n",
    "            return {\"error\": \"사용자를 찾을 수 없습니다.\"}\n",
    "\n",
    "    async def _arun(self, user_id: str) -> dict:\n",
    "        \"\"\"도구의 비동기적 실행 로직을 구현합니다.\"\"\"\n",
    "        # 비동기 DB 조회 등의 코드를 여기에 구현할 수 있습니다.\n",
    "        return self._run(user_id)\n",
    "\n",
    "user_profile_tool = UserProfileTool()"
   ]
  },
  {
   "cell_type": "code",
   "execution_count": 40,
   "metadata": {
    "colab": {
     "base_uri": "https://localhost:8080/"
    },
    "id": "n_GacvSppRPY",
    "outputId": "32c3b7b2-f04f-4faa-de07-47860a8d3827"
   },
   "outputs": [
    {
     "name": "stdout",
     "output_type": "stream",
     "text": [
      "--- BaseTool 상속으로 만든 도구 정보 ---\n",
      "이름: get_user_profile\n",
      "설명: 주어진 사용자 ID에 해당하는 프로필 정보(이름, 이메일)를 조회합니다. 사용자 정보를 찾아야 할 때 사용하세요.\n",
      "인자 스키마: {'user_id': {'description': '정보를 조회할 사용자의 아이디', 'title': 'User Id', 'type': 'string'}}\n",
      "--------------------\n"
     ]
    }
   ],
   "source": [
    "print(\"--- BaseTool 상속으로 만든 도구 정보 ---\")\n",
    "print(f\"이름: {user_profile_tool.name}\")\n",
    "print(f\"설명: {user_profile_tool.description}\")\n",
    "print(f\"인자 스키마: {user_profile_tool.args}\")\n",
    "print(\"-\" * 20)"
   ]
  },
  {
   "cell_type": "markdown",
   "metadata": {
    "id": "LwAYExoCpawL"
   },
   "source": [
    "### 2-4. LangChain Runnable(LCEL) 활용\n",
    "LangChain Expression Language(LCEL)로 구성된 체인(Chain) 자체를 도구로 만들 수 있습니다.\n",
    "복잡한 프롬프트와 모델 호출을 하나의 도구로 캡슐화할 때 강력합니다."
   ]
  },
  {
   "cell_type": "code",
   "execution_count": 41,
   "metadata": {
    "id": "ESe5rRBSpbK5"
   },
   "outputs": [],
   "source": [
    "from langchain_core.prompts import ChatPromptTemplate\n",
    "from langchain_core.runnables import Runnable\n",
    "from langchain.tools.render import render_text_description\n",
    "\n",
    "# 간단한 요약 체인(Runnable)을 정의합니다.\n",
    "prompt_template = ChatPromptTemplate.from_messages([\n",
    "    (\"system\", \"You are a helpful assistant that summarizes text in Korean.\"),\n",
    "    (\"human\", \"다음 텍스트를 한 문장으로 요약해 주세요: {text_to_summarize}\")\n",
    "])\n",
    "summarizer_chain = prompt_template | llm\n",
    "\n",
    "# Runnable을 Tool로 변환합니다.\n",
    "summarizer_tool = Tool(\n",
    "    name=\"Text_Summarizer\",\n",
    "    func=summarizer_chain.invoke,\n",
    "    description=\"주어진 텍스트를 한 문장으로 요약합니다. 긴 글을 요약해야 할 때 사용하세요.\",\n",
    "    # Runnable은 args_schema를 자동으로 추론하지 못하므로 직접 정의해줘야 합니다.\n",
    "    # 이 경우, invoke의 인자인 'text_to_summarize'를 설명합니다.\n",
    "    # 간단한 단일 문자열 인자이므로, 여기서는 생략하고 func.invoke를 사용합니다.\n",
    ")"
   ]
  },
  {
   "cell_type": "code",
   "execution_count": 42,
   "metadata": {
    "colab": {
     "base_uri": "https://localhost:8080/"
    },
    "id": "fAkRSMZipRRU",
    "outputId": "955e4ec1-de5d-4075-f709-58bc63ca9e58"
   },
   "outputs": [
    {
     "name": "stdout",
     "output_type": "stream",
     "text": [
      "--- Runnable로 만든 도구 정보 ---\n",
      "이름: Text_Summarizer\n",
      "설명: 주어진 텍스트를 한 문장으로 요약합니다. 긴 글을 요약해야 할 때 사용하세요.\n",
      "--------------------\n"
     ]
    }
   ],
   "source": [
    "print(\"--- Runnable로 만든 도구 정보 ---\")\n",
    "print(f\"이름: {summarizer_tool.name}\")\n",
    "print(f\"설명: {summarizer_tool.description}\")\n",
    "print(\"-\" * 20)"
   ]
  },
  {
   "cell_type": "markdown",
   "metadata": {
    "id": "WJbhHBKDpj6_"
   },
   "source": [
    "## 3. Agent 생성 및 실행\n",
    "이제 우리가 직접 만든 4개의 Custom Tool을 Agent에게 장착시켜 보겠습니다."
   ]
  },
  {
   "cell_type": "code",
   "execution_count": 43,
   "metadata": {
    "id": "wKTrjTqIpoEz"
   },
   "outputs": [],
   "source": [
    "tools = [\n",
    "    get_current_time,\n",
    "    multiply_tool,\n",
    "    user_profile_tool,\n",
    "    summarizer_tool\n",
    "]"
   ]
  },
  {
   "cell_type": "code",
   "execution_count": 44,
   "metadata": {
    "colab": {
     "base_uri": "https://localhost:8080/"
    },
    "id": "bKY-ucbhpq1W",
    "outputId": "afcf9ce2-8b21-446c-b707-c0ea12132200"
   },
   "outputs": [],
   "source": [
    "# 프롬프트와 Agent, AgentExecutor를 생성합니다. (실습 1과 동일)\n",
    "prompt = hub.pull(\"hwchase17/openai-functions-agent\")\n",
    "agent = create_openai_functions_agent(llm, tools, prompt)\n",
    "agent_executor = AgentExecutor(agent=agent, tools=tools, verbose=True)"
   ]
  },
  {
   "cell_type": "code",
   "execution_count": 45,
   "metadata": {
    "colab": {
     "base_uri": "https://localhost:8080/"
    },
    "id": "zTxiiVzHpsOE",
    "outputId": "1a2f9c2f-1d86-488a-a6d9-b6794c4e1bd1"
   },
   "outputs": [
    {
     "name": "stdout",
     "output_type": "stream",
     "text": [
      "\n",
      "--- Agent 실행 예시 1 (시간 물어보기) ---\n",
      "\n",
      "\n",
      "\u001b[1m> Entering new AgentExecutor chain...\u001b[0m\n",
      "\u001b[32;1m\u001b[1;3m\n",
      "Invoking: `get_current_time` with `{}`\n",
      "\n",
      "\n",
      "\u001b[0m\u001b[36;1m\u001b[1;3m2025-09-02 05:45:23\u001b[0m\u001b[32;1m\u001b[1;3m지금은 2025년 9월 2일 05시 45분입니다.\u001b[0m\n",
      "\n",
      "\u001b[1m> Finished chain.\u001b[0m\n",
      "\n",
      "[최종 답변]: 지금은 2025년 9월 2일 05시 45분입니다.\n"
     ]
    }
   ],
   "source": [
    "# Custom Tool을 활용하는 질문들을 테스트해봅니다.\n",
    "print(\"\\n--- Agent 실행 예시 1 (시간 물어보기) ---\")\n",
    "response1 = agent_executor.invoke({\"input\": \"지금 몇 시야?\"})\n",
    "print(\"\\n[최종 답변]:\", response1[\"output\"])"
   ]
  },
  {
   "cell_type": "code",
   "execution_count": 46,
   "metadata": {
    "colab": {
     "base_uri": "https://localhost:8080/"
    },
    "id": "HW3hN-ZepsQj",
    "outputId": "db3befdf-c178-49b2-8e0b-e1b752a47a9f"
   },
   "outputs": [
    {
     "name": "stdout",
     "output_type": "stream",
     "text": [
      "\n",
      "--- Agent 실행 예시 2 (곱셈하기) ---\n",
      "\n",
      "\n",
      "\u001b[1m> Entering new AgentExecutor chain...\u001b[0m\n",
      "\u001b[32;1m\u001b[1;3m\n",
      "Invoking: `Multiplier` with `{'a': 12345, 'b': 54321}`\n",
      "\n",
      "\n",
      "\u001b[0m\u001b[33;1m\u001b[1;3m670592745\u001b[0m\u001b[32;1m\u001b[1;3m12345 곱하기 54321은 670592745입니다.\u001b[0m\n",
      "\n",
      "\u001b[1m> Finished chain.\u001b[0m\n",
      "\n",
      "[최종 답변]: 12345 곱하기 54321은 670592745입니다.\n"
     ]
    }
   ],
   "source": [
    "print(\"\\n--- Agent 실행 예시 2 (곱셈하기) ---\")\n",
    "response2 = agent_executor.invoke({\"input\": \"12345 곱하기 54321은 얼마야?\"})\n",
    "print(\"\\n[최종 답변]:\", response2[\"output\"])"
   ]
  },
  {
   "cell_type": "code",
   "execution_count": 47,
   "metadata": {
    "colab": {
     "base_uri": "https://localhost:8080/"
    },
    "id": "ZFEuc28KpuQz",
    "outputId": "9c07dde5-3cb8-4b9c-91ff-9e3f08b1286d"
   },
   "outputs": [
    {
     "name": "stdout",
     "output_type": "stream",
     "text": [
      "\n",
      "--- Agent 실행 예시 3 (사용자 정보 조회) ---\n",
      "\n",
      "\n",
      "\u001b[1m> Entering new AgentExecutor chain...\u001b[0m\n",
      "\u001b[32;1m\u001b[1;3m\n",
      "Invoking: `get_user_profile` with `{'user_id': 'student'}`\n",
      "\n",
      "\n",
      "\u001b[0m\u001b[38;5;200m\u001b[1;3m{'name': '홍길동', 'email': 'gildong.hong@langchain.com'}\u001b[0m\u001b[32;1m\u001b[1;3m학생 사용자의 이메일 주소는 gildong.hong@langchain.com입니다.\u001b[0m\n",
      "\n",
      "\u001b[1m> Finished chain.\u001b[0m\n",
      "\n",
      "[최종 답변]: 학생 사용자의 이메일 주소는 gildong.hong@langchain.com입니다.\n"
     ]
    }
   ],
   "source": [
    "print(\"\\n--- Agent 실행 예시 3 (사용자 정보 조회) ---\")\n",
    "response3 = agent_executor.invoke({\"input\": \"student 사용자의 이메일 주소를 알려줘.\"})\n",
    "print(\"\\n[최종 답변]:\", response3[\"output\"])"
   ]
  },
  {
   "cell_type": "code",
   "execution_count": 49,
   "metadata": {
    "colab": {
     "base_uri": "https://localhost:8080/"
    },
    "id": "kZwfPm4reNBn",
    "outputId": "a7132249-317c-4f03-c493-f214e6100a9e"
   },
   "outputs": [
    {
     "name": "stdout",
     "output_type": "stream",
     "text": [
      "\n",
      "--- Agent 실행 예시 4 (복합 질문) ---\n",
      "\n",
      "\n",
      "\u001b[1m> Entering new AgentExecutor chain...\u001b[0m\n",
      "\u001b[32;1m\u001b[1;3m\n",
      "Invoking: `get_user_profile` with `{'user_id': 'student'}`\n",
      "\n",
      "\n",
      "\u001b[0m\u001b[38;5;200m\u001b[1;3m{'name': '홍길동', 'email': 'gildong.hong@langchain.com'}\u001b[0m\u001b[32;1m\u001b[1;3m\n",
      "Invoking: `Multiplier` with `{'a': 25, 'b': 4}`\n",
      "\n",
      "\n",
      "\u001b[0m\u001b[33;1m\u001b[1;3m100\u001b[0m\u001b[32;1m\u001b[1;3m학생 사용자의 이름은 홍길동입니다. 그리고 25와 4를 곱한 값은 100입니다.\u001b[0m\n",
      "\n",
      "\u001b[1m> Finished chain.\u001b[0m\n",
      "\n",
      "[최종 답변]: 학생 사용자의 이름은 홍길동입니다. 그리고 25와 4를 곱한 값은 100입니다.\n"
     ]
    }
   ],
   "source": [
    "print(\"\\n--- Agent 실행 예시 4 (복합 질문) ---\")\n",
    "# 여러 도구를 순차적으로 사용해야 하는 복잡한 질문\n",
    "complex_question = \"student 사용자의 이름이 뭐야? 그리고 25와 4를 곱한 값도 알려줘.\"\n",
    "response4 = agent_executor.invoke({\"input\": complex_question})\n",
    "print(\"\\n[최종 답변]:\", response4[\"output\"])"
   ]
  },
  {
   "cell_type": "code",
   "execution_count": null,
   "metadata": {
    "id": "qMGQBf9Vqb3U"
   },
   "outputs": [],
   "source": []
  }
 ],
 "metadata": {
  "colab": {
   "collapsed_sections": [
    "6wXE4z7qn9X1",
    "Bwvl4HDJoh0t",
    "CjPTQbL9o53Q",
    "81pS8GCIpQ5U",
    "LwAYExoCpawL",
    "WJbhHBKDpj6_"
   ],
   "provenance": []
  },
  "kernelspec": {
   "display_name": ".venv",
   "language": "python",
   "name": "python3"
  },
  "language_info": {
   "codemirror_mode": {
    "name": "ipython",
    "version": 3
   },
   "file_extension": ".py",
   "mimetype": "text/x-python",
   "name": "python",
   "nbconvert_exporter": "python",
   "pygments_lexer": "ipython3",
   "version": "3.13.5"
  }
 },
 "nbformat": 4,
 "nbformat_minor": 1
}
