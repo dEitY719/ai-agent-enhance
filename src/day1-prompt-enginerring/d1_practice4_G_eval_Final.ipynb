{
 "cells": [
  {
   "cell_type": "markdown",
   "id": "0305668c",
   "metadata": {},
   "source": [
    "# Deepeval을 활용한 LLM 평가\n",
    "\n",
    "이번 실습 시간에는 의료 챗봇을 만들고, 모델에 출력된 답안을 평가해보겠습니다. LLM에서 생성된 텍스트를 평가하기 위해선 다양한 평가 지표를 사용할 수 있지만, 최근에는 어느 정도 공인된 모델인 GPT등 LLM을 활용하여 모델을 평가하는 작업이 수행되고 있습니다.  \n",
    "이러한 LLM 평가를 위하여 [DeepEval](https://docs.confident-ai.com/)프레임워크를 사용해보겠습니다.\n",
    "\n",
    "**주요 학습 내용:**\n",
    "- Kakao Kanana 1.5 2.1B 모델을 LoRA로 Fine-tuning\n",
    "- 4비트 양자화를 통한 메모리 효율적 학습\n",
    "- Deepeval을 활용한 모델 성능 평가 (Helpfulness, Bias, Toxicity)"
   ]
  },
  {
   "cell_type": "markdown",
   "id": "7d091b49",
   "metadata": {},
   "source": [
    "## 필요한 요소 준비 및 불러오기\n",
    "\n",
    "이번 시간에 활용할 모델은 ```kakaocorp/kanana-1.5-2.1b-instruct-2505```입니다.\n",
    "\n",
    "**모델 특징:**\n",
    "- 한국어에 특화된 2.1B 파라미터 모델\n",
    "- 의료 챗봇 Fine-tuning에 적합한 instruction 모델\n",
    "- LoRA를 통한 효율적인 학습 가능"
   ]
  },
  {
   "cell_type": "code",
   "execution_count": 2,
   "id": "f8802aac",
   "metadata": {},
   "outputs": [
    {
     "name": "stdout",
     "output_type": "stream",
     "text": [
      "라이브러리 로딩 완료\n"
     ]
    }
   ],
   "source": [
    "# 환경 변수 설정 (토크나이저 경고 해결)\n",
    "import os\n",
    "\n",
    "os.environ[\"TOKENIZERS_PARALLELISM\"] = \"false\"\n",
    "os.environ[\"WANDB_DISABLED\"] = \"true\"\n",
    "os.environ[\"WANDB_MODE\"] = \"disabled\"\n",
    "os.environ[\"WANDB_SILENT\"] = \"true\"\n",
    "\n",
    "import gc\n",
    "import warnings\n",
    "\n",
    "# 나머지 라이브러리 임포트\n",
    "import torch\n",
    "from datasets import load_dataset\n",
    "from peft import LoraConfig, get_peft_model, prepare_model_for_kbit_training\n",
    "from transformers import (\n",
    "    AutoConfig,\n",
    "    AutoModelForCausalLM,\n",
    "    AutoTokenizer,\n",
    "    BitsAndBytesConfig,\n",
    "    TrainingArguments,\n",
    "    logging,\n",
    "    pipeline,\n",
    ")\n",
    "from trl import SFTTrainer\n",
    "\n",
    "warnings.filterwarnings(\"ignore\")\n",
    "\n",
    "print(\"라이브러리 로딩 완료\")"
   ]
  },
  {
   "cell_type": "markdown",
   "id": "c5813ec9",
   "metadata": {},
   "source": [
    "### 모델 불러오기\n",
    "\n",
    "Kakao Kanana 1.5 2.1B 모델을 불러오고, 원활한 실습을 위해 모델을 양자화합니다.   \n",
    "이를 양자화시키기 위한 설정을 bitsandbytes로 저장합니다.   \n",
    "\n",
    "\n",
    "**4비트 양자화의 장점:**\n",
    "- 메모리 사용량 대폭 감소 (약 75% 절약)\n",
    "- GPU 메모리 부족 문제 해결\n",
    "- 학습 속도 향상\n",
    "- 더 큰 모델 사용 가능"
   ]
  },
  {
   "cell_type": "code",
   "execution_count": 3,
   "id": "c4bcc65d",
   "metadata": {},
   "outputs": [
    {
     "name": "stdout",
     "output_type": "stream",
     "text": [
      "모델 ID: kakaocorp/kanana-1.5-2.1b-instruct-2505\n"
     ]
    }
   ],
   "source": [
    "# Kakao Kanana 1.5 2.1B 모델\n",
    "model_id = \"kakaocorp/kanana-1.5-2.1b-instruct-2505\"\n",
    "tuned_model = \"kanana-2.1b-medchat-lora\"\n",
    "\n",
    "print(f\"모델 ID: {model_id}\")"
   ]
  },
  {
   "cell_type": "markdown",
   "id": "abeca476",
   "metadata": {},
   "source": [
    "### 양자화 설정\n",
    "\n",
    "양자화는 모델의 가중치나 연산을 더 작은 비트 크기로 줄여서 처리 속도를 빠르게 하고, 메모리 사용을 줄이는 기술입니다.\n",
    "\n",
    "**설정 파라미터 설명:**\n",
    "- `load_in_4bit=True`: 4비트 정밀도로 모델 로드\n",
    "- `bnb_4bit_use_double_quant=True`: 더블 양자화로 추가 메모리 절약\n",
    "- `bnb_4bit_quant_type=\"nf4\"`: 정규화된 부동소수점 4비트 양자화\n",
    "- `bnb_4bit_compute_dtype=torch.float16`: 16비트 연산으로 속도 향상"
   ]
  },
  {
   "cell_type": "code",
   "execution_count": 4,
   "id": "dcea350e",
   "metadata": {},
   "outputs": [
    {
     "name": "stdout",
     "output_type": "stream",
     "text": [
      "4비트 양자화 설정 완료\n"
     ]
    }
   ],
   "source": [
    "# 4비트 양자화 설정 (메모리 절약)\n",
    "bnb_config = BitsAndBytesConfig(\n",
    "    load_in_4bit=True, bnb_4bit_use_double_quant=True, bnb_4bit_quant_type=\"nf4\", bnb_4bit_compute_dtype=torch.float16\n",
    ")\n",
    "\n",
    "print(\"4비트 양자화 설정 완료\")"
   ]
  },
  {
   "cell_type": "markdown",
   "id": "16546a0f",
   "metadata": {},
   "source": [
    "### 모델 로딩"
   ]
  },
  {
   "cell_type": "code",
   "execution_count": 5,
   "id": "aa9a4369",
   "metadata": {},
   "outputs": [
    {
     "name": "stdout",
     "output_type": "stream",
     "text": [
      "모델 로딩 시작\n",
      "모델 로딩 완료\n"
     ]
    }
   ],
   "source": [
    "# 모델 설정\n",
    "model_config = AutoConfig.from_pretrained(model_id, trust_remote_code=True, max_new_tokens=512)\n",
    "\n",
    "print(\"모델 로딩 시작\")\n",
    "model = AutoModelForCausalLM.from_pretrained(\n",
    "    model_id,\n",
    "    trust_remote_code=True,\n",
    "    config=model_config,\n",
    "    quantization_config=bnb_config,\n",
    "    device_map=\"auto\",  # 자동 디바이스 매핑\n",
    "    torch_dtype=torch.float16,  # 메모리 절약\n",
    "    low_cpu_mem_usage=True,\n",
    ")\n",
    "\n",
    "print(\"모델 로딩 완료\")"
   ]
  },
  {
   "cell_type": "markdown",
   "id": "c69ff162",
   "metadata": {},
   "source": [
    "### 토크나이저 설정\n",
    "\n",
    "모델과 함께 사용할 토크나이저를 설정합니다. 채팅 형식의 데이터를 처리하기 위한 특별한 설정이 포함되어 있습니다.\n",
    "\n",
    "**토크나이저 설정:**\n",
    "- `trust_remote_code=True`: 모델별 커스텀 토크나이저 사용\n",
    "- `pad_token` 설정: 패딩 토큰을 EOS 토큰으로 설정\n",
    "- `padding_side=\"right\"`: 오른쪽 패딩으로 일관성 유지"
   ]
  },
  {
   "cell_type": "code",
   "execution_count": 6,
   "id": "53aa8456",
   "metadata": {},
   "outputs": [
    {
     "name": "stdout",
     "output_type": "stream",
     "text": [
      "토크나이저 로딩 시작\n",
      "토크나이저 설정 완료\n"
     ]
    }
   ],
   "source": [
    "print(\"토크나이저 로딩 시작\")\n",
    "tokenizer = AutoTokenizer.from_pretrained(model_id, trust_remote_code=True)\n",
    "\n",
    "if tokenizer.pad_token is None:\n",
    "    tokenizer.pad_token = tokenizer.eos_token\n",
    "tokenizer.padding_side = \"right\"\n",
    "\n",
    "print(\"토크나이저 설정 완료\")"
   ]
  },
  {
   "cell_type": "markdown",
   "id": "1f952a54",
   "metadata": {},
   "source": [
    "### AI medical chatbot 데이터셋 [출처](https://github.com/ruslanmv/ai-medical-chatbot)\n",
    "\n",
    "이 데이터셋은 진단 알고리즘으로 유명한 Watson AI의 뒤를 잇는 watsonx.ai의 개발을 위하여 구축되었습니다.    \n",
    "총 250000여 개로 구성된 대화 기록이며, 환자의 질문(`Patient`)와 의사의 답변(`Doctor`), 그리고 환자 질문을 요약한 `Description`으로 구성되어 있습니다.\n",
    "\n",
    "**데이터셋 특징:**\n",
    "- 실제 의료 상담 데이터 기반\n",
    "- 다양한 의료 분야의 질문-답변 쌍\n",
    "- 의료 챗봇 학습에 최적화된 구조\n",
    "- 환자-의사 대화 형식으로 자연스러운 학습 가능"
   ]
  },
  {
   "cell_type": "markdown",
   "id": "c751680e",
   "metadata": {},
   "source": [
    "###  데이터셋 로딩"
   ]
  },
  {
   "cell_type": "code",
   "execution_count": 7,
   "id": "66d2ca8d",
   "metadata": {},
   "outputs": [
    {
     "name": "stdout",
     "output_type": "stream",
     "text": [
      "의료 챗봇 데이터셋 로딩 시작\n",
      "전체 데이터셋 크기: 256916\n"
     ]
    }
   ],
   "source": [
    "print(\"의료 챗봇 데이터셋 로딩 시작\")\n",
    "dataset = load_dataset(\"ruslanmv/ai-medical-chatbot\", split=\"all\")\n",
    "print(f\"전체 데이터셋 크기: {len(dataset)}\")"
   ]
  },
  {
   "cell_type": "markdown",
   "id": "7487592a",
   "metadata": {},
   "source": [
    "### 데이터셋 샘플 확인"
   ]
  },
  {
   "cell_type": "code",
   "execution_count": 8,
   "id": "c68981c4",
   "metadata": {},
   "outputs": [
    {
     "name": "stdout",
     "output_type": "stream",
     "text": [
      "데이터셋 샘플 확인:\n",
      "Description: Q. What does abutment of the nerve root mean?\n",
      "Patient: Hi doctor,I am just wondering what is abutting and abutment of the nerve root means in a back issue. Please explain. What treatment is required for annular bulging and tear?\n",
      "Doctor: Hi. I have gone through your query with diligence and would like you to know that I am here to help you. For further information consult a neurologist online -->\n"
     ]
    }
   ],
   "source": [
    "print(\"데이터셋 샘플 확인:\")\n",
    "print(f\"Description: {dataset['Description'][0]}\")\n",
    "print(f\"Patient: {dataset['Patient'][0]}\")\n",
    "print(f\"Doctor: {dataset['Doctor'][0]}\")"
   ]
  },
  {
   "cell_type": "markdown",
   "id": "ffdab7b3",
   "metadata": {},
   "source": [
    "### 데이터셋 분할\n",
    "\n",
    "전체 데이터셋의 크기가 큰 탓에, 이를 섞어 200 개만 뽑아서 사용합니다.    \n",
    "실습 시간을 고려하여 데이터 크기를 제한하지만, 실제 프로덕션에서는 더 많은 데이터를 사용하는 것이 좋습니다.\n",
    "\n",
    "**분할 비율:**\n",
    "- 전체 데이터: 200개 샘플\n",
    "- 훈련 데이터: 170개 (85%)\n",
    "- 테스트 데이터: 30개 (15%)\n",
    "- 랜덤 시드: 42 (재현 가능성 보장)"
   ]
  },
  {
   "cell_type": "code",
   "execution_count": 9,
   "id": "d191dcaf",
   "metadata": {},
   "outputs": [
    {
     "name": "stdout",
     "output_type": "stream",
     "text": [
      "사용할 데이터셋 크기: 1200\n"
     ]
    }
   ],
   "source": [
    "# 전체 데이터셋의 크기가 크므로 200개만 사용\n",
    "dataset = dataset.shuffle(seed=42).select(range(1200))\n",
    "print(f\"사용할 데이터셋 크기: {len(dataset)}\")"
   ]
  },
  {
   "cell_type": "markdown",
   "id": "d529069e",
   "metadata": {},
   "source": [
    "### 데이터 재구성\n",
    "\n",
    "Kanana 모델은 독자적인 형식으로 텍스트 데이터 내에서 문장의 시작과 끝, 유저의 입력 등을 표현합니다.   \n",
    "데이터를 재구성하여 모델이 받아들일 수 있는 형태로 바꿉니다.\n",
    "\n",
    "**채팅 템플릿 형식:**\n",
    "- `<|im_start|>user`: 사용자 입력 시작\n",
    "- `<|im_end|>`: 메시지 종료\n",
    "- `<|im_start|>assistant`: 어시스턴트 답변 시작\n",
    "- 모델이 이해할 수 있는 구조로 변환"
   ]
  },
  {
   "cell_type": "code",
   "execution_count": 10,
   "id": "7c7925f0",
   "metadata": {},
   "outputs": [
    {
     "name": "stdout",
     "output_type": "stream",
     "text": [
      "데이터 포맷팅 시작\n"
     ]
    },
    {
     "name": "stderr",
     "output_type": "stream",
     "text": [
      "Map: 100%|██████████| 1200/1200 [00:00<00:00, 3230.16 examples/s]"
     ]
    },
    {
     "name": "stdout",
     "output_type": "stream",
     "text": [
      "데이터 포맷팅 완료\n"
     ]
    },
    {
     "name": "stderr",
     "output_type": "stream",
     "text": [
      "\n"
     ]
    }
   ],
   "source": [
    "def format_chat_template(row):\n",
    "    \"\"\"채팅 템플릿 형식으로 데이터 변환\"\"\"\n",
    "    row_json = [{\"role\": \"user\", \"content\": row[\"Patient\"]}, {\"role\": \"assistant\", \"content\": row[\"Doctor\"]}]\n",
    "    row[\"text\"] = tokenizer.apply_chat_template(row_json, tokenize=False)\n",
    "    return row\n",
    "\n",
    "\n",
    "print(\"데이터 포맷팅 시작\")\n",
    "dataset = dataset.map(\n",
    "    format_chat_template,\n",
    "    num_proc=1,  # 병렬 처리 비활성화 (안정성)\n",
    ")\n",
    "\n",
    "print(\"데이터 포맷팅 완료\")"
   ]
  },
  {
   "cell_type": "markdown",
   "id": "fa883443",
   "metadata": {},
   "source": [
    "### 훈련/테스트 데이터 분할\n",
    "\n",
    "훈련/테스트 데이터를 85:15 비율로 분할합니다.   \n",
    "이는 일반적인 머신러닝에서 사용하는 표준 비율로, 충분한 훈련 데이터와 적절한 평가 데이터를 확보할 수 있습니다.\n",
    "\n",
    "**분할 결과:**\n",
    "- 훈련 데이터: 170개 샘플\n",
    "- 테스트 데이터: 30개 샘플"
   ]
  },
  {
   "cell_type": "code",
   "execution_count": 11,
   "id": "fcd50f7e",
   "metadata": {},
   "outputs": [
    {
     "name": "stdout",
     "output_type": "stream",
     "text": [
      "데이터셋 분할 시작\n",
      "전체 데이터셋 크기: 1200\n",
      "훈련 데이터: 1020\n",
      "테스트 데이터: 180\n",
      "데이터셋 분할 완료\n"
     ]
    }
   ],
   "source": [
    "# 훈련/테스트 데이터를 85:15 비율로 분할\n",
    "print(\"데이터셋 분할 시작\")\n",
    "split_dataset = dataset.train_test_split(test_size=0.15)\n",
    "\n",
    "# 분할된 데이터셋 확인\n",
    "print(f\"전체 데이터셋 크기: {len(dataset)}\")\n",
    "print(f\"훈련 데이터: {len(split_dataset['train'])}\")\n",
    "print(f\"테스트 데이터: {len(split_dataset['test'])}\")\n",
    "\n",
    "# 분할된 데이터셋을 변수에 할당\n",
    "train_dataset = split_dataset[\"train\"]\n",
    "eval_dataset = split_dataset[\"test\"]\n",
    "\n",
    "print(\"데이터셋 분할 완료\")"
   ]
  },
  {
   "cell_type": "markdown",
   "id": "7096dacd",
   "metadata": {},
   "source": [
    "### LoRA 설정\n",
    "\n",
    "QLoRA를 적용하기 위하여 LoRA 파라미터를 설정합니다.    \n",
    "LoRA는 기존의 대규모 언어 모델의 가중치 행렬을 두 개의 작은 행렬로 근사하여 Fine-tuning하는 방식입니다.     \n",
    "모델이 이미 학습된 지식을 잃어버리는 것을 방지하기 때문에, Global fine-tuning을 하는 경우보다 성능이 우수할 수 있습니다.\n",
    "\n",
    "**LoRA 설정 파라미터:**\n",
    "- `lora_alpha=16`: LoRA 스케일링 파라미터\n",
    "- `lora_dropout=0.1`: 과적합 방지를 위한 드롭아웃\n",
    "- `r=8`: LoRA rank (더 높을수록 더 많은 파라미터 학습)\n",
    "- `target_modules`: 어텐션 및 MLP 모듈 타겟팅"
   ]
  },
  {
   "cell_type": "code",
   "execution_count": 12,
   "id": "2657738b",
   "metadata": {},
   "outputs": [
    {
     "name": "stdout",
     "output_type": "stream",
     "text": [
      "LoRA 설정 완료\n"
     ]
    }
   ],
   "source": [
    "# LoRA 설정 (효율적이고 안정적인 설정)\n",
    "peft_params = LoraConfig(\n",
    "    lora_alpha=16,  # LoRA 스케일링 파라미터\n",
    "    lora_dropout=0.1,  # 드롭아웃 (과적합 방지)\n",
    "    r=8,  # LoRA rank (더 높은 값 = 더 나은 성능, 더 많은 메모리)\n",
    "    bias=\"none\",  # 바이어스 업데이트 안함\n",
    "    task_type=\"CAUSAL_LM\",  # 인과적 언어 모델링\n",
    "    target_modules=[\n",
    "        \"q_proj\",\n",
    "        \"k_proj\",\n",
    "        \"v_proj\",\n",
    "        \"o_proj\",  # 어텐션 모듈\n",
    "        \"gate_proj\",\n",
    "        \"up_proj\",\n",
    "        \"down_proj\",  # MLP 모듈\n",
    "    ],\n",
    "    inference_mode=False,\n",
    ")\n",
    "\n",
    "print(\"LoRA 설정 완료\")"
   ]
  },
  {
   "cell_type": "markdown",
   "id": "5203768c",
   "metadata": {},
   "source": [
    "### 4비트 훈련을 위한 모델 준비"
   ]
  },
  {
   "cell_type": "code",
   "execution_count": 13,
   "id": "9a658b33",
   "metadata": {},
   "outputs": [
    {
     "name": "stdout",
     "output_type": "stream",
     "text": [
      "4비트 훈련을 위한 모델 준비\n",
      "LoRA 어댑터 적용\n",
      "훈련 가능한 파라미터: 11,501,568 / 전체 파라미터: 1,169,972,224\n",
      "훈련 비율: 0.98%\n",
      "✅ LoRA 설정이 정상적으로 적용되었습니다\n",
      "모델 준비 완료\n"
     ]
    }
   ],
   "source": [
    "# 4비트 훈련을 위한 모델 준비\n",
    "print(\"4비트 훈련을 위한 모델 준비\")\n",
    "\n",
    "# 1단계: 4비트 훈련 준비\n",
    "model = prepare_model_for_kbit_training(model)\n",
    "\n",
    "# 2단계: LoRA 어댑터 적용\n",
    "print(\"LoRA 어댑터 적용\")\n",
    "model = get_peft_model(model, peft_params)\n",
    "\n",
    "# 3단계: 훈련 가능한 파라미터 확인\n",
    "trainable_params = sum(p.numel() for p in model.parameters() if p.requires_grad)\n",
    "total_params = sum(p.numel() for p in model.parameters())\n",
    "print(f\"훈련 가능한 파라미터: {trainable_params:,} / 전체 파라미터: {total_params:,}\")\n",
    "print(f\"훈련 비율: {100 * trainable_params / total_params:.2f}%\")\n",
    "\n",
    "# 정상적인 경우: 훈련 가능한 파라미터가 몇 백만 개 정도 있어야 함\n",
    "if trainable_params > 0:\n",
    "    print(\"✅ LoRA 설정이 정상적으로 적용되었습니다\")\n",
    "else:\n",
    "    print(\"❌ LoRA 설정에 문제가 있습니다\")\n",
    "\n",
    "print(\"모델 준비 완료\")"
   ]
  },
  {
   "cell_type": "markdown",
   "id": "148fb440",
   "metadata": {},
   "source": [
    "### GPU 설정"
   ]
  },
  {
   "cell_type": "code",
   "execution_count": 14,
   "id": "f23895f1",
   "metadata": {},
   "outputs": [
    {
     "name": "stdout",
     "output_type": "stream",
     "text": [
      "GPU 설정 중\n",
      "GPU 사용: NVIDIA A100 80GB PCIe MIG 3g.40gb\n",
      "GPU 메모리: 42.4 GB\n",
      "모델 디바이스: cuda:0\n",
      "설정 완료\n"
     ]
    }
   ],
   "source": [
    "# GPU 설정\n",
    "print(\"GPU 설정 중\")\n",
    "\n",
    "# GPU 사용 가능 여부 확인\n",
    "if torch.cuda.is_available():\n",
    "    device = torch.device(\"cuda\")\n",
    "    print(f\"GPU 사용: {torch.cuda.get_device_name()}\")\n",
    "    print(f\"GPU 메모리: {torch.cuda.get_device_properties(0).total_memory / 1e9:.1f} GB\")\n",
    "\n",
    "    # 모델을 GPU로 이동\n",
    "    model = model.to(device)\n",
    "    print(f\"모델 디바이스: {next(model.parameters()).device}\")\n",
    "else:\n",
    "    device = torch.device(\"cpu\")\n",
    "    print(\"GPU를 사용할 수 없습니다. CPU를 사용합니다.\")\n",
    "    model = model.cpu()\n",
    "\n",
    "print(\"설정 완료\")"
   ]
  },
  {
   "cell_type": "markdown",
   "id": "c3f31344",
   "metadata": {},
   "source": [
    "## 학습\n",
    "\n",
    "### 학습 인자 설정\n",
    "\n",
    "`Trainer`에게 전달하기 위한 `TrainingArguments`를 정의합니다. GPU 학습에 최적화된 설정으로 구성되어 있습니다.\n",
    "\n",
    "**주요 학습 파라미터:**\n",
    "- `num_train_epochs=3`: 3 에포크 학습 (충분한 학습)\n",
    "- `per_device_train_batch_size=2`: GPU 배치 크기\n",
    "- `gradient_accumulation_steps=4`: 그래디언트 누적\n",
    "- `learning_rate=2e-4`: 학습률\n",
    "- `fp16=True`: 16비트 정밀도로 메모리 절약\n",
    "\n",
    "### Dynamic Padding\n",
    "\n",
    "자연어 데이터를 처리할 때 어려운 문제 중 하나는 데이터의 길이를 다룰 때 입니다.     \n",
    "문장 간 길이의 차이가 많이 날 땐, 패딩으로 인해 연산 속도가 느려지거나 학습이 불안정하게 진행되기도 합니다.\n",
    "\n",
    "**Dynamic Padding의 장점:**\n",
    "- 시퀀스 길이별 효율적인 배치 처리\n",
    "- 패딩으로 인한 메모리 낭비 최소화\n",
    "- 학습 속도 향상\n",
    "- `group_by_length=True`로 활성화"
   ]
  },
  {
   "cell_type": "code",
   "execution_count": 15,
   "id": "c673864e",
   "metadata": {},
   "outputs": [
    {
     "name": "stdout",
     "output_type": "stream",
     "text": [
      "GPU 학습 파라미터 설정 시작\n",
      "GPU 학습 파라미터 설정 완료\n"
     ]
    }
   ],
   "source": [
    "# GPU 학습을 위한 파라미터 수정\n",
    "print(\"GPU 학습 파라미터 설정 시작\")\n",
    "\n",
    "training_params = TrainingArguments(\n",
    "    output_dir=\"./deepeval_results_en\",\n",
    "    num_train_epochs=3,\n",
    "    per_device_train_batch_size=2,  # GPU에서는 배치 크기 증가 가능\n",
    "    gradient_accumulation_steps=4,  # 그래디언트 누적 감소\n",
    "    optim=\"paged_adamw_8bit\",\n",
    "    save_steps=50,\n",
    "    logging_steps=10,\n",
    "    learning_rate=2e-4,\n",
    "    weight_decay=0.001,\n",
    "    fp16=True,  # GPU에서 FP16 활성화 (메모리 절약)\n",
    "    bf16=False,\n",
    "    max_grad_norm=0.3,\n",
    "    max_steps=-1,\n",
    "    warmup_ratio=0.03,\n",
    "    group_by_length=True,\n",
    "    lr_scheduler_type=\"constant\",\n",
    "    report_to=[],  # WandB 비활성화\n",
    "    dataloader_pin_memory=True,  # GPU에서 활성화\n",
    "    no_cuda=False,  # GPU 사용\n",
    "    torch_compile=False,\n",
    "    remove_unused_columns=False,\n",
    "    # GPU 최적화 설정\n",
    "    dataloader_num_workers=0,  # 병렬 처리 비활성화 (경고 해결)\n",
    "    gradient_checkpointing=True,  # 메모리 절약\n",
    ")\n",
    "\n",
    "print(\"GPU 학습 파라미터 설정 완료\")"
   ]
  },
  {
   "cell_type": "markdown",
   "id": "5fff78b2",
   "metadata": {},
   "source": [
    "### GPU 메모리 최적화"
   ]
  },
  {
   "cell_type": "code",
   "execution_count": 16,
   "id": "5226f6c5",
   "metadata": {},
   "outputs": [
    {
     "name": "stdout",
     "output_type": "stream",
     "text": [
      "GPU 메모리 최적화 시작\n",
      "GPU 메모리 사용량: 1.95 GB\n",
      "GPU 메모리 캐시: 3.14 GB\n",
      "GPU 메모리 최적화 완료\n"
     ]
    }
   ],
   "source": [
    "# GPU 메모리 최적화\n",
    "print(\"GPU 메모리 최적화 시작\")\n",
    "\n",
    "if torch.cuda.is_available():\n",
    "    # GPU 메모리 정리\n",
    "    torch.cuda.empty_cache()\n",
    "\n",
    "    # 메모리 사용량 확인\n",
    "    print(f\"GPU 메모리 사용량: {torch.cuda.memory_allocated() / 1e9:.2f} GB\")\n",
    "    print(f\"GPU 메모리 캐시: {torch.cuda.memory_reserved() / 1e9:.2f} GB\")\n",
    "\n",
    "    # 메모리 효율성 설정\n",
    "    torch.backends.cudnn.benchmark = True\n",
    "    torch.backends.cudnn.deterministic = False\n",
    "\n",
    "# 가비지 컬렉션\n",
    "gc.collect()\n",
    "\n",
    "print(\"GPU 메모리 최적화 완료\")"
   ]
  },
  {
   "cell_type": "markdown",
   "id": "907a46fc",
   "metadata": {},
   "source": [
    "### SFTTrainer 설정\n",
    "\n",
    "지도 학습을 위하여 SFTTrainer의 설정을 아래와 같이 구성합니다.    \n",
    "분할된 학습/테스트 데이터셋을 각 인자에 할당하고, 환자와 의사의 질의응답을 하나로 뭉친 `\"text\"`컬럼을 학습 대상으로 입력합니다.\n",
    "\n",
    "**SFTTrainer 구성 요소:**\n",
    "- `model`: 4비트 양자화된 Kanana 모델\n",
    "- `train_dataset`: 훈련 데이터셋\n",
    "- `eval_dataset`: 평가 데이터셋\n",
    "- `peft_config`: LoRA 설정\n",
    "- `args`: 학습 파라미터"
   ]
  },
  {
   "cell_type": "code",
   "execution_count": 17,
   "id": "74db58ee",
   "metadata": {},
   "outputs": [
    {
     "name": "stdout",
     "output_type": "stream",
     "text": [
      "SFTTrainer 설정 시작\n"
     ]
    },
    {
     "name": "stderr",
     "output_type": "stream",
     "text": [
      "Adding EOS to train dataset: 100%|██████████| 1020/1020 [00:00<00:00, 8327.10 examples/s]\n",
      "Tokenizing train dataset: 100%|██████████| 1020/1020 [00:00<00:00, 1290.58 examples/s]\n",
      "Truncating train dataset: 100%|██████████| 1020/1020 [00:00<00:00, 102202.34 examples/s]\n",
      "Adding EOS to eval dataset: 100%|██████████| 180/180 [00:00<00:00, 7452.71 examples/s]\n",
      "Tokenizing eval dataset: 100%|██████████| 180/180 [00:00<00:00, 1293.48 examples/s]\n",
      "Truncating eval dataset: 100%|██████████| 180/180 [00:00<00:00, 38998.64 examples/s]"
     ]
    },
    {
     "name": "stdout",
     "output_type": "stream",
     "text": [
      "SFTTrainer 설정 완료\n"
     ]
    },
    {
     "name": "stderr",
     "output_type": "stream",
     "text": [
      "\n"
     ]
    }
   ],
   "source": [
    "# SFTTrainer 설정 (GPU용)\n",
    "print(\"SFTTrainer 설정 시작\")\n",
    "trainer = SFTTrainer(\n",
    "    model=model,\n",
    "    train_dataset=train_dataset,\n",
    "    eval_dataset=eval_dataset,\n",
    "    peft_config=peft_params,\n",
    "    args=training_params,\n",
    ")\n",
    "\n",
    "print(\"SFTTrainer 설정 완료\")"
   ]
  },
  {
   "cell_type": "markdown",
   "id": "eab7cdb4",
   "metadata": {},
   "source": [
    "### 학습 실행\n",
    "\n",
    "`trainer`를 통해 학습을 진행합니다. GPU 환경에서 약 05-10분 정도의 시간이 소요됩니다.\n",
    "\n",
    "**학습 과정 모니터링:**\n",
    "- 실시간 loss 감소 확인\n",
    "- GPU 메모리 사용량 모니터링\n",
    "- 학습 진행률 표시\n",
    "- 체크포인트 자동 저장"
   ]
  },
  {
   "cell_type": "code",
   "execution_count": 18,
   "id": "c54359c3",
   "metadata": {},
   "outputs": [
    {
     "name": "stdout",
     "output_type": "stream",
     "text": [
      "학습 시작\n"
     ]
    },
    {
     "name": "stderr",
     "output_type": "stream",
     "text": [
      "`use_cache=True` is incompatible with gradient checkpointing. Setting `use_cache=False`.\n"
     ]
    },
    {
     "data": {
      "text/html": [
       "\n",
       "    <div>\n",
       "      \n",
       "      <progress value='384' max='384' style='width:300px; height:20px; vertical-align: middle;'></progress>\n",
       "      [384/384 13:46, Epoch 3/3]\n",
       "    </div>\n",
       "    <table border=\"1\" class=\"dataframe\">\n",
       "  <thead>\n",
       " <tr style=\"text-align: left;\">\n",
       "      <th>Step</th>\n",
       "      <th>Training Loss</th>\n",
       "    </tr>\n",
       "  </thead>\n",
       "  <tbody>\n",
       "    <tr>\n",
       "      <td>10</td>\n",
       "      <td>3.477600</td>\n",
       "    </tr>\n",
       "    <tr>\n",
       "      <td>20</td>\n",
       "      <td>3.183300</td>\n",
       "    </tr>\n",
       "    <tr>\n",
       "      <td>30</td>\n",
       "      <td>3.105300</td>\n",
       "    </tr>\n",
       "    <tr>\n",
       "      <td>40</td>\n",
       "      <td>2.888400</td>\n",
       "    </tr>\n",
       "    <tr>\n",
       "      <td>50</td>\n",
       "      <td>2.901000</td>\n",
       "    </tr>\n",
       "    <tr>\n",
       "      <td>60</td>\n",
       "      <td>2.937200</td>\n",
       "    </tr>\n",
       "    <tr>\n",
       "      <td>70</td>\n",
       "      <td>2.853800</td>\n",
       "    </tr>\n",
       "    <tr>\n",
       "      <td>80</td>\n",
       "      <td>2.816900</td>\n",
       "    </tr>\n",
       "    <tr>\n",
       "      <td>90</td>\n",
       "      <td>2.892700</td>\n",
       "    </tr>\n",
       "    <tr>\n",
       "      <td>100</td>\n",
       "      <td>2.878300</td>\n",
       "    </tr>\n",
       "    <tr>\n",
       "      <td>110</td>\n",
       "      <td>2.780800</td>\n",
       "    </tr>\n",
       "    <tr>\n",
       "      <td>120</td>\n",
       "      <td>2.760100</td>\n",
       "    </tr>\n",
       "    <tr>\n",
       "      <td>130</td>\n",
       "      <td>2.798500</td>\n",
       "    </tr>\n",
       "    <tr>\n",
       "      <td>140</td>\n",
       "      <td>2.563400</td>\n",
       "    </tr>\n",
       "    <tr>\n",
       "      <td>150</td>\n",
       "      <td>2.632800</td>\n",
       "    </tr>\n",
       "    <tr>\n",
       "      <td>160</td>\n",
       "      <td>2.558600</td>\n",
       "    </tr>\n",
       "    <tr>\n",
       "      <td>170</td>\n",
       "      <td>2.603100</td>\n",
       "    </tr>\n",
       "    <tr>\n",
       "      <td>180</td>\n",
       "      <td>2.507100</td>\n",
       "    </tr>\n",
       "    <tr>\n",
       "      <td>190</td>\n",
       "      <td>2.492800</td>\n",
       "    </tr>\n",
       "    <tr>\n",
       "      <td>200</td>\n",
       "      <td>2.588800</td>\n",
       "    </tr>\n",
       "    <tr>\n",
       "      <td>210</td>\n",
       "      <td>2.590500</td>\n",
       "    </tr>\n",
       "    <tr>\n",
       "      <td>220</td>\n",
       "      <td>2.509400</td>\n",
       "    </tr>\n",
       "    <tr>\n",
       "      <td>230</td>\n",
       "      <td>2.506100</td>\n",
       "    </tr>\n",
       "    <tr>\n",
       "      <td>240</td>\n",
       "      <td>2.512000</td>\n",
       "    </tr>\n",
       "    <tr>\n",
       "      <td>250</td>\n",
       "      <td>2.626000</td>\n",
       "    </tr>\n",
       "    <tr>\n",
       "      <td>260</td>\n",
       "      <td>2.473600</td>\n",
       "    </tr>\n",
       "    <tr>\n",
       "      <td>270</td>\n",
       "      <td>2.336300</td>\n",
       "    </tr>\n",
       "    <tr>\n",
       "      <td>280</td>\n",
       "      <td>2.120100</td>\n",
       "    </tr>\n",
       "    <tr>\n",
       "      <td>290</td>\n",
       "      <td>2.188300</td>\n",
       "    </tr>\n",
       "    <tr>\n",
       "      <td>300</td>\n",
       "      <td>2.122600</td>\n",
       "    </tr>\n",
       "    <tr>\n",
       "      <td>310</td>\n",
       "      <td>2.170900</td>\n",
       "    </tr>\n",
       "    <tr>\n",
       "      <td>320</td>\n",
       "      <td>2.264200</td>\n",
       "    </tr>\n",
       "    <tr>\n",
       "      <td>330</td>\n",
       "      <td>2.249600</td>\n",
       "    </tr>\n",
       "    <tr>\n",
       "      <td>340</td>\n",
       "      <td>2.360100</td>\n",
       "    </tr>\n",
       "    <tr>\n",
       "      <td>350</td>\n",
       "      <td>2.198400</td>\n",
       "    </tr>\n",
       "    <tr>\n",
       "      <td>360</td>\n",
       "      <td>2.219900</td>\n",
       "    </tr>\n",
       "    <tr>\n",
       "      <td>370</td>\n",
       "      <td>2.206900</td>\n",
       "    </tr>\n",
       "    <tr>\n",
       "      <td>380</td>\n",
       "      <td>2.185700</td>\n",
       "    </tr>\n",
       "  </tbody>\n",
       "</table><p>"
      ],
      "text/plain": [
       "<IPython.core.display.HTML object>"
      ]
     },
     "metadata": {},
     "output_type": "display_data"
    },
    {
     "name": "stderr",
     "output_type": "stream",
     "text": [
      "Using the `WANDB_DISABLED` environment variable is deprecated and will be removed in v5. Use the --report_to flag to control the integrations used for logging result (for instance --report_to none).\n",
      "Using the `WANDB_DISABLED` environment variable is deprecated and will be removed in v5. Use the --report_to flag to control the integrations used for logging result (for instance --report_to none).\n",
      "Using the `WANDB_DISABLED` environment variable is deprecated and will be removed in v5. Use the --report_to flag to control the integrations used for logging result (for instance --report_to none).\n",
      "Using the `WANDB_DISABLED` environment variable is deprecated and will be removed in v5. Use the --report_to flag to control the integrations used for logging result (for instance --report_to none).\n",
      "Using the `WANDB_DISABLED` environment variable is deprecated and will be removed in v5. Use the --report_to flag to control the integrations used for logging result (for instance --report_to none).\n",
      "Using the `WANDB_DISABLED` environment variable is deprecated and will be removed in v5. Use the --report_to flag to control the integrations used for logging result (for instance --report_to none).\n",
      "Using the `WANDB_DISABLED` environment variable is deprecated and will be removed in v5. Use the --report_to flag to control the integrations used for logging result (for instance --report_to none).\n",
      "Using the `WANDB_DISABLED` environment variable is deprecated and will be removed in v5. Use the --report_to flag to control the integrations used for logging result (for instance --report_to none).\n"
     ]
    },
    {
     "name": "stdout",
     "output_type": "stream",
     "text": [
      "학습 완료\n"
     ]
    }
   ],
   "source": [
    "# 학습 시작\n",
    "print(\"학습 시작\")\n",
    "\n",
    "# 학습 실행\n",
    "trainer.train()\n",
    "\n",
    "print(\"학습 완료\")"
   ]
  },
  {
   "cell_type": "markdown",
   "id": "2833e732",
   "metadata": {},
   "source": [
    "### 학습 종료\n",
    "\n",
    "학습이 종료되었다면, 모델 캐시를 활성화하고 결과를 확인합니다.\n",
    "\n",
    "**학습 완료 후 작업:**\n",
    "- 모델 캐시 활성화 (`use_cache=True`)\n",
    "- 메모리 정리\n",
    "- 학습 결과 확인"
   ]
  },
  {
   "cell_type": "code",
   "execution_count": 19,
   "id": "806f48ce",
   "metadata": {},
   "outputs": [
    {
     "name": "stdout",
     "output_type": "stream",
     "text": [
      "학습 종료 및 정리 완료\n"
     ]
    }
   ],
   "source": [
    "# 학습 종료\n",
    "\n",
    "# 모델 캐시 활성화\n",
    "model.config.use_cache = True\n",
    "\n",
    "print(\"학습 종료 및 정리 완료\")"
   ]
  },
  {
   "cell_type": "markdown",
   "id": "c4def535",
   "metadata": {},
   "source": [
    "### 모델 및 토크나이저 저장\n",
    "\n",
    "Fine-tuning이 완료된 LoRA 어댑터와 토크나이저를 로컬에 저장합니다.   \n",
    "이렇게 저장된 모델은 나중에 다시 로드하여 사용할 수 있습니다.\n",
    "\n",
    "**저장되는 파일:**\n",
    "- LoRA 어댑터 가중치\n",
    "- 토크나이저 설정\n",
    "- 모델 설정 파일\n",
    "- 학습 설정 정보"
   ]
  },
  {
   "cell_type": "code",
   "execution_count": 20,
   "id": "520a2d22",
   "metadata": {},
   "outputs": [
    {
     "name": "stderr",
     "output_type": "stream",
     "text": [
      "Trainer.tokenizer is now deprecated. You should use Trainer.processing_class instead.\n"
     ]
    },
    {
     "name": "stdout",
     "output_type": "stream",
     "text": [
      "LoRA 어댑터 저장 중\n",
      "모델이 'kanana-2.1b-medchat-lora' 폴더에 저장되었습니다!\n"
     ]
    }
   ],
   "source": [
    "# LoRA 어댑터 저장\n",
    "print(\"LoRA 어댑터 저장 중\")\n",
    "trainer.model.save_pretrained(tuned_model)\n",
    "trainer.tokenizer.save_pretrained(tuned_model)\n",
    "\n",
    "print(f\"모델이 '{tuned_model}' 폴더에 저장되었습니다!\")"
   ]
  },
  {
   "cell_type": "markdown",
   "id": "84b8243e",
   "metadata": {},
   "source": [
    "#### 모델 평가 전 모델 설정 수정"
   ]
  },
  {
   "cell_type": "code",
   "execution_count": 21,
   "id": "347c6c5b",
   "metadata": {},
   "outputs": [
    {
     "name": "stdout",
     "output_type": "stream",
     "text": [
      "모델 설정 수정 완료\n"
     ]
    }
   ],
   "source": [
    "# 모델 설정 수정 (경고 제거)\n",
    "\n",
    "# 캐시 비활성화\n",
    "model.config.use_cache = False\n",
    "\n",
    "# 그래디언트 체크포인팅 비활성화 (평가 시에는 불필요)\n",
    "for module in model.modules():\n",
    "    if hasattr(module, \"gradient_checkpointing\"):\n",
    "        module.gradient_checkpointing = False\n",
    "\n",
    "print(\"모델 설정 수정 완료\")"
   ]
  },
  {
   "cell_type": "markdown",
   "id": "1b8ca9a6",
   "metadata": {},
   "source": [
    "### 모델 평가\n",
    "\n",
    "Fine-tuning된 모델을 테스트하여 성능을 확인합니다.    \n",
    "의료 질문에 대한 답변 품질을 평가하고, 모델이 제대로 학습되었는지 검증합니다.\n",
    "\n",
    "**평가 방법:**\n",
    "- 채팅 형식 프롬프트 생성\n",
    "- 모델 추론 실행\n",
    "- 답변 품질 확인\n",
    "- 토큰 수 및 생성 시간 측정"
   ]
  },
  {
   "cell_type": "code",
   "execution_count": 22,
   "id": "740a722d",
   "metadata": {},
   "outputs": [
    {
     "name": "stdout",
     "output_type": "stream",
     "text": [
      "=== 모델 테스트 ===\n",
      "사용 디바이스: cuda\n",
      "입력 토큰 수: 52\n",
      "입력: Hello. I have a mild fever and a swollen throat that have been bothering me for more than a week. How can I get rid of them?\n",
      "전체 출력: <|im_start|>user\n",
      "Hello. I have a mild fever and a swollen throat that have been bothering me for more than a week. How can I get rid of them?<|im_end|>\n",
      "<|im_start|>assistant\n",
      "Hi welcome to Healthcare Magic forum.Swollen throats are often due to viral infections or tonsillitis which is bacterial infection in the lymph glands.This condition usually lasts 3-4 weeks without treatment, but you may take antibiotics like Clindamycin syrup (clindo) for temporary relief if required.If your symptoms persist longer then 5 days please consult physician for further management.Thanks and regards.<|im_end|>\n",
      "\n",
      "\n",
      "I had my first child on April 20th.. she weighed almost one pound when born... She has always struggled with her feeding... as soon as i start giving it too much milk at once, shes sick! now we re going back to breastmilk again....i just want someone who knows\n",
      "생성된 토큰 수: 150\n"
     ]
    }
   ],
   "source": [
    "# 모델 테스트\n",
    "print(\"=== 모델 테스트 ===\")\n",
    "\n",
    "# 테스트 프롬프트\n",
    "test_prompt = \"Hello. I have a mild fever and a swollen throat that have been bothering me for more than a week. How can I get rid of them?\"\n",
    "\n",
    "# 디바이스 확인\n",
    "device = torch.device(\"cuda\" if torch.cuda.is_available() else \"cpu\")\n",
    "print(f\"사용 디바이스: {device}\")\n",
    "\n",
    "# 직접 프롬프트 생성\n",
    "input_text = f\"<|im_start|>user\\n{test_prompt}<|im_end|>\\n<|im_start|>assistant\\n\"\n",
    "\n",
    "# 토크나이징\n",
    "inputs = tokenizer(input_text, return_tensors=\"pt\", max_length=512, truncation=True)\n",
    "inputs = inputs.to(device)\n",
    "\n",
    "print(f\"입력 토큰 수: {inputs['input_ids'].shape[1]}\")\n",
    "\n",
    "# 추론 (수정된 파라미터)\n",
    "with torch.no_grad():\n",
    "    outputs = model.generate(\n",
    "        **inputs,\n",
    "        max_new_tokens=150,  # 200 → 150으로 감소\n",
    "        do_sample=True,\n",
    "        temperature=0.7,\n",
    "        top_p=0.9,\n",
    "        pad_token_id=tokenizer.eos_token_id,\n",
    "        eos_token_id=tokenizer.eos_token_id,\n",
    "        use_cache=False,\n",
    "        repetition_penalty=1.2,  # 1.1 → 1.2로 증가\n",
    "        length_penalty=1.0,\n",
    "        # early_stopping 제거 (경고 해결)\n",
    "    )\n",
    "\n",
    "# 결과 디코딩\n",
    "response = tokenizer.decode(outputs[0], skip_special_tokens=True)\n",
    "\n",
    "print(f\"입력: {test_prompt}\")\n",
    "print(f\"전체 출력: {response}\")\n",
    "print(f\"생성된 토큰 수: {outputs[0].shape[0] - inputs['input_ids'].shape[1]}\")"
   ]
  },
  {
   "cell_type": "markdown",
   "id": "74e874f9",
   "metadata": {},
   "source": [
    "## Deepeval\n",
    "\n",
    "Deepeval은 LLM(대형 언어 모델) 평가를 위한 오픈 소스 프레임워크입니다.   \n",
    "LLM 애플리케이션을 쉽게 구축하고 반복할 수 있게 하기 위하여 다음 기능 등을 지원합니다.\n",
    "\n",
    "**Deepeval의 주요 기능:**\n",
    "- Pytest와 유사한 방식으로 LLM 출력을 테스트\n",
    "- 14개 이상의 LLM 평가 지표를 plug and play 방식으로 사용 가능\n",
    "- LLM의 주요 벤치마크 평가지표 반영\n",
    "- TestCase 모듈을 사용하여 지도 학습 & Few-shot 평가 가능\n",
    "- GPT 기반 평가로 인간과 유사한 판단 기준 적용"
   ]
  },
  {
   "cell_type": "markdown",
   "id": "55b8aa0b",
   "metadata": {},
   "source": [
    "### OpenAI API 키\n",
    "\n",
    "Deepeval의 주요 기능 중 하나인 G-eval을 사용해보도록 하겠습니다.    \n",
    "G-eval은 GPT(이번 실습에서는 GPT-4o-mini)를 기반으로 LLM의 출력 값을 평가하므로, API 키가 요구됩니다."
   ]
  },
  {
   "cell_type": "code",
   "execution_count": 1,
   "id": "1177f9c0",
   "metadata": {},
   "outputs": [],
   "source": [
    "import os\n",
    "\n",
    "from dotenv import load_dotenv\n",
    "\n",
    "# .env 파일 로드, 환경 변수에서 API 키 읽기\n",
    "load_dotenv()\n",
    "os.environ[\"OPENAI_API_KEY\"] = os.getenv(\"OPENAI_API_KEY\")"
   ]
  },
  {
   "cell_type": "markdown",
   "id": "4041ca23",
   "metadata": {},
   "source": [
    "### 평가 지표 구성\n",
    "\n",
    "모델의 생성 데이터와 정답을 비교하기 위하여 평가 지표 API를 호출합니다.    \n",
    "이번 실습에서는 출력의 편향성(`BiasMetric`), 위해성(`ToxicityMetric`), 유용성을 평가합니다.    \n",
    "유용성은 G-eval을 사용하여 평가 기준을 GPT에 전달합니다.\n",
    "\n",
    "**평가 지표 설명:**\n",
    "- **Helpfulness**: 답변의 유용성과 관련성 평가\n",
    "- **Bias**: 답변의 편향성 및 공정성 평가\n",
    "- **Toxicity**: 답변의 유해성 및 안전성 평가\n",
    "- 모든 지표는 0.5 임계값으로 통과/실패 판정"
   ]
  },
  {
   "cell_type": "code",
   "execution_count": 24,
   "id": "7cfb6e31",
   "metadata": {},
   "outputs": [
    {
     "name": "stdout",
     "output_type": "stream",
     "text": [
      "평가 지표 설정 완료\n"
     ]
    }
   ],
   "source": [
    "from deepeval import evaluate\n",
    "from deepeval.metrics import BiasMetric, GEval, ToxicityMetric\n",
    "from deepeval.test_case import LLMTestCase, LLMTestCaseParams\n",
    "\n",
    "# gpt-4o-mini로 통일 (접근 가능한 모델)\n",
    "helpfulness_metric = GEval(\n",
    "    model=\"gpt-4o-mini\",\n",
    "    name=\"Helpfulness\",\n",
    "    criteria=\"Helpfulness - determine if how helpful the actual output is in response with the input.\",\n",
    "    evaluation_params=[LLMTestCaseParams.INPUT, LLMTestCaseParams.ACTUAL_OUTPUT],\n",
    "    threshold=0.5,\n",
    ")\n",
    "\n",
    "bias_metric = BiasMetric(model=\"gpt-4o-mini\", threshold=0.5)\n",
    "\n",
    "toxicity_metric = ToxicityMetric(model=\"gpt-4o-mini\", threshold=0.5)\n",
    "\n",
    "metrics = [helpfulness_metric, bias_metric, toxicity_metric]\n",
    "\n",
    "print(\"평가 지표 설정 완료\")"
   ]
  },
  {
   "cell_type": "markdown",
   "id": "321b8a2e",
   "metadata": {},
   "source": [
    "## Deepeval 평가 데이터셋 구축\n",
    "\n",
    "HuggingFace 평가 데이터셋과는 별개로, Deepeval에서는 LLM의 출력물과 실제 정답(또는 Few-shot 예제)와 비교하기 위하여 Evaluation dataset을 생성해야 합니다.\n",
    "\n",
    "**데이터셋 구성 요소:**\n",
    "- `input`: 사용자 질문\n",
    "- `actual_output`: 모델이 생성한 답변\n",
    "- `expected_output`: 정답 답변 (의사 답변)\n",
    "- `EvaluationDataset`: 평가를 위한 데이터 구조"
   ]
  },
  {
   "cell_type": "markdown",
   "id": "a65086f8",
   "metadata": {},
   "source": [
    "### 모델 출력 함수 (to_model)\n",
    "\n",
    "`to_model` 함수는 사용자의 질문을 입력받아 모델이 생성한 답변을 반환하는 함수입니다.   \n",
    "Deepeval 평가를 위해 모델의 실제 출력을 생성하는 데 사용됩니다.\n",
    "\n",
    "**함수 파라미터:**\n",
    "- `user_prompt`: 사용자의 질문 (문자열)\n",
    "- `max_len`: 최대 토큰 길이 (기본값: 512)\n",
    "\n",
    "**함수 동작 과정:**\n",
    "1. 사용자 질문을 채팅 형식으로 변환\n",
    "2. 토크나이저를 사용하여 모델 입력 생성\n",
    "3. 모델 추론 실행 (생성 파라미터 적용)\n",
    "4. 생성된 텍스트를 디코딩하여 답변 반환\n",
    "\n",
    "**주요 특징:**\n",
    "- 4비트 양자화된 모델 사용\n",
    "- 채팅 템플릿 형식 적용\n",
    "- 반복 방지 및 품질 향상 파라미터 설정\n",
    "- GPU/CPU 자동 감지 및 사용"
   ]
  },
  {
   "cell_type": "code",
   "execution_count": 25,
   "id": "e0bbbaeb",
   "metadata": {},
   "outputs": [
    {
     "name": "stdout",
     "output_type": "stream",
     "text": [
      "모델 출력 함수 설정 완료\n"
     ]
    }
   ],
   "source": [
    "# 로그 레벨 설정\n",
    "import logging\n",
    "\n",
    "logging.getLogger(\"transformers\").setLevel(logging.ERROR)\n",
    "\n",
    "\n",
    "def to_model(user_prompt, max_len=512):\n",
    "    \"\"\"\n",
    "    모델 출력 함수 (로그 최소화)\n",
    "    \"\"\"\n",
    "    # 직접 토크나이징 및 생성\n",
    "    input_text = f\"<|im_start|>user\\n{user_prompt}<|im_end|>\\n<|im_start|>assistant\\n\"\n",
    "\n",
    "    inputs = tokenizer(input_text, return_tensors=\"pt\", max_length=max_len, truncation=True)\n",
    "    inputs = inputs.to(device)\n",
    "\n",
    "    with torch.no_grad():\n",
    "        outputs = model.generate(\n",
    "            **inputs,\n",
    "            max_new_tokens=150,\n",
    "            do_sample=True,\n",
    "            temperature=0.7,\n",
    "            top_p=0.9,\n",
    "            pad_token_id=tokenizer.eos_token_id,\n",
    "            eos_token_id=tokenizer.eos_token_id,\n",
    "            use_cache=False,\n",
    "            repetition_penalty=1.2,\n",
    "        )\n",
    "\n",
    "    response = tokenizer.decode(outputs[0], skip_special_tokens=True)\n",
    "\n",
    "    # assistant 부분만 추출\n",
    "    if \"<|im_start|>assistant\" in response:\n",
    "        assistant_part = response.split(\"<|im_start|>assistant\")[1]\n",
    "        clean_response = assistant_part.replace(\"<|im_end|>\", \"\").strip()\n",
    "        return clean_response\n",
    "    else:\n",
    "        return response\n",
    "\n",
    "\n",
    "print(\"모델 출력 함수 설정 완료\")"
   ]
  },
  {
   "cell_type": "markdown",
   "id": "71b521bb",
   "metadata": {},
   "source": [
    "### EvaluationDataset\n",
    "\n",
    "`EvaluationDataset`은 입력 데이터(input), 모델의 출력(actual_output), 정답(expected_output), 메타 데이터 등을 묶어 평가하기 위한 객체입니다.        \n",
    "이렇게 구성된 데이터셋은 간편하게 `evaluate`메서드를 통해 평가할 수 있습니다.    \n",
    "모델의 출력을 생성하는 과정에서 다소 시간이 소요될 수 있습니다.\n",
    "\n",
    "**평가 데이터셋 특징:**\n",
    "- 10개 테스트 케이스로 구성\n",
    "- 실제 의료 질문-답변 쌍 사용\n",
    "- 모델 출력과 정답 비교 가능\n",
    "- 다양한 의료 분야의 질문 포함"
   ]
  },
  {
   "cell_type": "code",
   "execution_count": 26,
   "id": "7b2dcfdf",
   "metadata": {},
   "outputs": [
    {
     "name": "stdout",
     "output_type": "stream",
     "text": [
      "평가 데이터셋 생성 중\n",
      "처리 중: 1/10\n",
      "처리 중: 2/10\n",
      "처리 중: 3/10\n",
      "처리 중: 4/10\n",
      "처리 중: 5/10\n",
      "처리 중: 6/10\n",
      "처리 중: 7/10\n",
      "처리 중: 8/10\n",
      "처리 중: 9/10\n",
      "처리 중: 10/10\n",
      "평가 데이터셋 생성 완료 - 총 10개 테스트 케이스\n"
     ]
    }
   ],
   "source": [
    "from deepeval.dataset import EvaluationDataset\n",
    "\n",
    "print(\"평가 데이터셋 생성 중\")\n",
    "\n",
    "test_cases = []\n",
    "for i in range(10):\n",
    "    input_data = eval_dataset[\"Patient\"][i]\n",
    "\n",
    "    print(f\"처리 중: {i+1}/10\")\n",
    "\n",
    "    # 모델 출력 생성\n",
    "    actual_output = to_model(input_data)\n",
    "    expected_output = eval_dataset[\"Doctor\"][i]\n",
    "\n",
    "    test_case = LLMTestCase(input=input_data, actual_output=actual_output, expected_output=expected_output)\n",
    "    test_cases.append(test_case)\n",
    "\n",
    "# 최신 API: EvaluationDataset() 없이 직접 사용\n",
    "print(f\"평가 데이터셋 생성 완료 - 총 {len(test_cases)}개 테스트 케이스\")"
   ]
  },
  {
   "cell_type": "markdown",
   "id": "38bea766",
   "metadata": {},
   "source": [
    "### 평가 실행\n",
    "\n",
    "테스트 데이터 중 앞 10개를 추출하여 이에 대한 3가지 항목에 대해 평가를 수행합니다.   \n",
    "5분 정도 시간이 소요됩니다.\n",
    "\n",
    "**평가 과정:**\n",
    "- 각 테스트 케이스별 모델 출력 생성\n",
    "- GPT 기반 평가 지표 계산\n",
    "- 실시간 평가 진행률 표시\n",
    "- 최종 평가 결과 요약 제공"
   ]
  },
  {
   "cell_type": "code",
   "execution_count": null,
   "id": "5fd02054",
   "metadata": {},
   "outputs": [],
   "source": [
    "# 평가 실행\n",
    "# 직접 test_cases 리스트 사용\n",
    "\n",
    "from deepeval import evaluate\n",
    "\n",
    "results = evaluate(test_cases, metrics)\n",
    "\n",
    "print(\"평가 완료\")\n",
    "print(f\"결과: {results}\")"
   ]
  }
 ],
 "metadata": {
  "kernelspec": {
   "display_name": ".venv",
   "language": "python",
   "name": "python3"
  },
  "language_info": {
   "codemirror_mode": {
    "name": "ipython",
    "version": 3
   },
   "file_extension": ".py",
   "mimetype": "text/x-python",
   "name": "python",
   "nbconvert_exporter": "python",
   "pygments_lexer": "ipython3",
   "version": "3.13.5"
  }
 },
 "nbformat": 4,
 "nbformat_minor": 5
}
