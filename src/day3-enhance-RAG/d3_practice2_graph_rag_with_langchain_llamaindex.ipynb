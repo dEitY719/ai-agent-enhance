{
 "cells": [
  {
   "cell_type": "code",
   "execution_count": null,
   "metadata": {
    "collapsed": true,
    "id": "3YDZ7rbiWCJt"
   },
   "outputs": [],
   "source": [
    "# 필요한 라이브러리 설치\n",
    "# !pip install -qU \\\n",
    "# sentence-transformers langchain langchain-openai langchain-community langchain-experimental \\\n",
    "# langchain-text-splitters tiktoken faiss-cpu openai pypdf requests pyvis\\\n",
    "# llama_index neo4j llama-index-graph-stores-neo4j llama-index-llms-langchain llama-index-embeddings-langchain \\"
   ]
  },
  {
   "cell_type": "markdown",
   "metadata": {
    "id": "A0x5zea-WB5F"
   },
   "source": [
    "# LangChain/LlamaIndex를 활용한 Graph RAG 구현 실습\n",
    "\n",
    "## 목표\n",
    "비정형 텍스트에서 **지식 그래프(노드, 관계)** 를 자동으로 추출하고, 이를 **VectorDB와 결합한 Graph RAG**를 구현하여 엔티티(개체) 간의 관계를 묻는 질문에 답하는 능력을 확보합니다.\n"
   ]
  },
  {
   "cell_type": "code",
   "execution_count": null,
   "metadata": {
    "id": "Ib4_4TRwWflX"
   },
   "outputs": [],
   "source": [
    "import os\n",
    "\n",
    "from dotenv import load_dotenv\n",
    "\n",
    "# .env 파일 로드, 환경 변수에서 API 키 읽기\n",
    "load_dotenv()\n",
    "os.environ[\"OPENAI_API_KEY\"] = os.getenv(\"OPENAI_API_KEY\")"
   ]
  },
  {
   "cell_type": "code",
   "execution_count": 3,
   "metadata": {
    "colab": {
     "base_uri": "https://localhost:8080/"
    },
    "collapsed": true,
    "id": "UWSSQEo4W7MR",
    "outputId": "6e305394-c6e3-43ca-e01a-1c3b3a49be62"
   },
   "outputs": [
    {
     "name": "stderr",
     "output_type": "stream",
     "text": [
      "/tmp/ipykernel_64575/47291940.py:5: LangChainDeprecationWarning: The class `ChatOpenAI` was deprecated in LangChain 0.0.10 and will be removed in 1.0. An updated version of the class exists in the :class:`~langchain-openai package and should be used instead. To use it run `pip install -U :class:`~langchain-openai` and import as `from :class:`~langchain_openai import ChatOpenAI``.\n",
      "  llm = ChatOpenAI(model_name=\"gpt-4o-mini\", temperature=0)\n",
      "/tmp/ipykernel_64575/47291940.py:12: LangChainDeprecationWarning: The class `HuggingFaceEmbeddings` was deprecated in LangChain 0.2.2 and will be removed in 1.0. An updated version of the class exists in the :class:`~langchain-huggingface package and should be used instead. To use it run `pip install -U :class:`~langchain-huggingface` and import as `from :class:`~langchain_huggingface import HuggingFaceEmbeddings``.\n",
      "  embed_model = HuggingFaceEmbeddings(model_name=model_name)\n"
     ]
    }
   ],
   "source": [
    "from langchain.chat_models import ChatOpenAI\n",
    "from langchain.embeddings import HuggingFaceEmbeddings\n",
    "\n",
    "# LLM 및 Embedding 모델 초기화\n",
    "llm = ChatOpenAI(model_name=\"gpt-4o-mini\", temperature=0)\n",
    "\n",
    "## OPENAI 임베딩 모델이 있지만 비용 문제로, 다른 모델 선택.\n",
    "# embeddings = OpenAIEmbeddings(model=\"text-embedding-3-small\")\n",
    "\n",
    "#  한국어 특화 SentencePiece 기반 임베딩 모델 (SemanticChunker 및 VectorStore 생성에 사용)\n",
    "model_name = \"jhgan/ko-sroberta-multitask\"\n",
    "embed_model = HuggingFaceEmbeddings(model_name=model_name)"
   ]
  },
  {
   "cell_type": "markdown",
   "metadata": {
    "id": "d2Y4l2qJXzjj"
   },
   "source": [
    "## 샘플 문서 로드\n",
    "비교를 위해 의미 있는 내용이 충분히 담긴 문서를 로드합니다.  \n",
    "여기서는 **한국지능정보사회진흥원**의 AI국가전략 보고서 중 \"전국민 AI 일상화 실행 계획\"을 사용하겠습니다.\n",
    " - https://www.nia.or.kr/site/nia_kor/ex/bbs/View.do?cbIdx=99952&bcIdx=27378&parentSeq=27378"
   ]
  },
  {
   "cell_type": "code",
   "execution_count": 9,
   "metadata": {
    "colab": {
     "base_uri": "https://localhost:8080/"
    },
    "id": "NBdqenpaXzKC",
    "outputId": "24d72310-fbd5-4e42-df91-8504d9abc7a2"
   },
   "outputs": [
    {
     "name": "stdout",
     "output_type": "stream",
     "text": [
      "PDF 파일 저장 완료: National_AI_Plan.pdf\n"
     ]
    }
   ],
   "source": [
    "import requests\n",
    "\n",
    "# PDF 다운로드 URL\n",
    "pdf_url = \"https://www.nia.or.kr/common/board/Download.do?bcIdx=27378&cbIdx=99952&fileNo=1\"\n",
    "pdf_filename = \"National_AI_Plan.pdf\"\n",
    "\n",
    "# 파일 저장\n",
    "with open(pdf_filename, \"wb\") as f:\n",
    "    f.write(requests.get(pdf_url).content)\n",
    "\n",
    "print(\"PDF 파일 저장 완료:\", pdf_filename)"
   ]
  },
  {
   "cell_type": "code",
   "execution_count": 10,
   "metadata": {
    "colab": {
     "base_uri": "https://localhost:8080/"
    },
    "id": "79-k-4jkW-tE",
    "outputId": "af119544-18f8-45db-8620-9cbe49b970d9"
   },
   "outputs": [
    {
     "name": "stdout",
     "output_type": "stream",
     "text": [
      "-6-\n",
      " Ⅲ. 국내 현황 진단◈전 세계적 디지털 모범국가로 나아가기 위한 정부의 전략 추진과민간의 선제적 혁신으로 전국민 AI일상화초석 마련○(정부)디지털 심화 시대에 대응한 신속한 전략･\n",
      "정책추진을 통해 AI기술･\n",
      "산업 경쟁력을 강화하고 민간 혁신을 뒷받침  * 대한민국 디지털 전략(‘22.9) → AI일상화·산업 고도화계획(’23.1)→초거대 AI경쟁력강화방안(‘23.4)-｢\n",
      "AI법제정비단(’23.8~)｣\n",
      "를 통해 AI확산에 따른 사회적 이슈를 정비하고,AI거버넌스 정립과 공동 번영을 위한 글로벌 협력 본격화○(민간)독자적 초거대 AI개발･\n",
      "출시 본격화,중소･\n",
      "스타트업 중심의다양한 응용서비스출시 등 산업 생태계 조성시작네이버, ‘클로바’LG, ‘엑사원’카카오, KoGPT SKT, ‘에이닷’KT, ‘믿음’\n",
      "-의료 등 다양한 도메인에서의중소·스타트업 역시 초거대 AI기반전문서비스를 출시,체감되는 AI활용·확산을 주도\n",
      "* 의료 AI 기업 ‘루닛’이 美정부의 암정복 프로젝트 ‘캔서 문샷\n"
     ]
    }
   ],
   "source": [
    "from langchain_community.document_loaders import PyPDFLoader\n",
    "\n",
    "loader = PyPDFLoader(\"National_AI_Plan.pdf\")\n",
    "documents = loader.load()\n",
    "print(documents[15].page_content[:500])"
   ]
  },
  {
   "cell_type": "code",
   "execution_count": 13,
   "metadata": {
    "id": "QKuOkKLR8SFY"
   },
   "outputs": [],
   "source": [
    "from llama_index.core import Document\n",
    "\n",
    "# langchain 문서 → llama_index Document 변환\n",
    "llama_documents = [Document(text=doc.page_content) for doc in documents]"
   ]
  },
  {
   "cell_type": "markdown",
   "metadata": {
    "id": "qPcvGKJ4qe-6"
   },
   "source": [
    "## 지식 그래프 자동 추출 (Neo4j 연동)\n",
    "\n",
    "LLM을 활용하여 문서에서 **(주체, 관계, 대상)** 형태의 트리플(Triplet)을 자동으로 추출하고, 이를 기반으로 지식 그래프를 생성합니다.   \n",
    "이번 섹션에서는 Neo4j 그래프 데이터베이스에 지식 그래프를 저장하도록 설정합니다."
   ]
  },
  {
   "cell_type": "markdown",
   "metadata": {
    "id": "0ZkHf9R2y73u"
   },
   "source": [
    "***Neo4j AuraDB:***\n",
    "클라우드 기반의 Neo4j 서비스인 AuraDB를 사용합니다. 무료 티어가 제공되며, 연결 정보를 쉽게 얻을 수 있습니다.  \n",
    "\n",
    "https://neo4j.com/product/auradb/\n",
    "\n",
    "1. 해당 링크를 통해 회원 가입\n",
    "2. free instance 만들기 (몇 분 정도 소요됩니다.)\n",
    "3. password 꼭 ***따로 저장하기!*** - 해당 instance에 대한 password는 한번만 보여주므로, 따로 저장해서 잘 보관해야합니다.\n",
    "\n",
    "아래 코드의 `NEO4J_URI`, `NEO4J_USERNAME`, `NEO4J_PASSWORD`에 실제 Neo4j 연결 정보를 입력하세요.\n"
   ]
  },
  {
   "cell_type": "code",
   "execution_count": null,
   "metadata": {
    "id": "PxAF6MvTqeaX"
   },
   "outputs": [],
   "source": [
    "# Neo4j AuraDB 연결 정보 설정 (!!! 실제 정보로 변경하세요 !!!)\n",
    "NEO4J_URI = (\n",
    "    \"neo4j+s://AuraDB_ID.databases.neo4j.io\"  # AuraDB URI, AuraDB_ID 부분에 b로 시작하는 instance ID를 입력하세요\n",
    ")\n",
    "NEO4J_USERNAME = \"neo4j\"  # AuraDB USERNAME\n",
    "NEO4J_PASSWORD = \"YOUR_AuraDB_PASSWORD\"  # AuraDB 비밀번호"
   ]
  },
  {
   "cell_type": "code",
   "execution_count": null,
   "metadata": {
    "colab": {
     "base_uri": "https://localhost:8080/",
     "height": 190,
     "referenced_widgets": [
      "0ee62f85f52d4053848bbcdcd6435cac",
      "4ec2e12fbdd645a79de25654f108f475",
      "901ff9d965e94f9e8f152896eb89b401",
      "7ce15bcf8e8a423fbe297cc435bd9d0b",
      "7d176f50392040c3be4e1d53d3235a3d",
      "d5fb1bbb46ca44f69e044d5dfc534f96",
      "76ebe065b0d145f3a0d5705b297bd889",
      "b65f89bdd94245efb71cf1567aa72f64",
      "d48a107f32f54f5e9f97c23407722848",
      "800a78bb25f041c696b53a0cc9244f18",
      "22e2b79115be4c5f95a247a459d14f76",
      "29eff955f63e4b1395590015e09403f9",
      "d8a8da62ec334b03b4ab11eea625d7f0",
      "e7a622e051d643caace03bdec3330680",
      "7943df18861c4c07affcc01c7b456b1c",
      "bae61408dc34418a83f9c7fc0aa6f8dc",
      "1881a0688da64a11a929f95cae871a99",
      "573742e0a7664e27bda050eb3037acee",
      "d23b43c1924b4f62bc346585556bb031",
      "92d57e0eee084f6db4bbad8b72d7b9ef",
      "cfb607dae6e24e37a15ae950c22db578",
      "6737b0e4473a48b5bc6df5cdefd51faa"
     ]
    },
    "id": "5U0wd3EZW_ye",
    "outputId": "44a2f424-4251-4ad3-b297-25397f024a45"
   },
   "outputs": [
    {
     "name": "stdout",
     "output_type": "stream",
     "text": [
      "Neo4j 데이터베이스에 성공적으로 연결되었습니다.\n",
      "Neo4jGraphStore를 사용하도록 설정되었습니다.\n",
      "지식 그래프 추출 및 인덱싱을 시작합니다. (시간이 다소 소요될 수 있습니다.)\n"
     ]
    },
    {
     "name": "stderr",
     "output_type": "stream",
     "text": [
      "Parsing nodes: 100%|██████████| 40/40 [00:00<00:00, 48.55it/s]\n",
      "Processing nodes: 100%|██████████| 104/104 [09:25<00:00,  5.44s/it]"
     ]
    },
    {
     "name": "stdout",
     "output_type": "stream",
     "text": [
      "\n",
      "지식 그래프 추출 및 인덱싱 완료.\n",
      "추출된 지식 그래프가 Neo4j 데이터베이스에 저장되었습니다.\n"
     ]
    },
    {
     "name": "stderr",
     "output_type": "stream",
     "text": [
      "\n"
     ]
    }
   ],
   "source": [
    "from llama_index.core import Settings, StorageContext\n",
    "from llama_index.core.indices.knowledge_graph import KnowledgeGraphIndex\n",
    "from llama_index.graph_stores.neo4j import Neo4jGraphStore  # Neo4jGraphStore 임포트\n",
    "from neo4j import GraphDatabase\n",
    "\n",
    "# Neo4j 드라이버 연결 테스트\n",
    "try:\n",
    "    driver = GraphDatabase.driver(NEO4J_URI, auth=(NEO4J_USERNAME, NEO4J_PASSWORD))\n",
    "    driver.verify_connectivity()\n",
    "    print(\"Neo4j 데이터베이스에 성공적으로 연결되었습니다.\")\n",
    "    neo4j_connected = True\n",
    "except Exception as e:\n",
    "    print(f\"Neo4j 데이터베이스 연결 실패: {e}\")\n",
    "    print(\"Neo4j가 실행 중이고, 연결 정보(URI, 사용자명, 비밀번호)가 올바른지 확인하세요.\")\n",
    "    print(\"연결에 실패하면 인메모리 그래프 스토어를 사용합니다.\")\n",
    "    neo4j_connected = False\n",
    "\n",
    "# LlamaIndex 전체 설정 반영\n",
    "Settings.llm = llm\n",
    "Settings.embed_model = embed_model\n",
    "Settings.chunk_size = 512\n",
    "\n",
    "# 그래프 스토어 초기화\n",
    "if neo4j_connected:\n",
    "    # Neo4jGraphStore 사용\n",
    "    graph_store = Neo4jGraphStore(\n",
    "        url=NEO4J_URI,\n",
    "        username=NEO4J_USERNAME,\n",
    "        password=NEO4J_PASSWORD,\n",
    "        database=\"neo4j\",  # 또는 사용할 데이터베이스 이름\n",
    "    )\n",
    "    print(\"Neo4jGraphStore를 사용하도록 설정되었습니다.\")\n",
    "else:\n",
    "    # Neo4j 연결 실패 시 인메모리 SimpleGraphStore 사용 (대체)\n",
    "    graph_store = SimpleGraphStore()\n",
    "    print(\"Neo4j 연결 실패로 인해 SimpleGraphStore (인메모리)를 사용합니다.\")\n",
    "\n",
    "storage_context = StorageContext.from_defaults(graph_store=graph_store)\n",
    "\n",
    "if documents:  # 문서가 성공적으로 로드된 경우에만 지식 그래프 생성\n",
    "    print(\"지식 그래프 추출 및 인덱싱을 시작합니다. (시간이 약 10분 정도 소요될 수 있습니다.)\")\n",
    "\n",
    "    # KnowledgeGraphIndex 생성\n",
    "    # LLM이 문서를 읽고 트리플(주체, 관계, 대상)을 추출하여 그래프를 구축합니다.\n",
    "    kg_index = KnowledgeGraphIndex.from_documents(\n",
    "        llama_documents,\n",
    "        storage_context=storage_context,\n",
    "        include_text=True,  # 노드에 원본 텍스트 포함\n",
    "        max_triplets_per_chunk=10,  # 청크당 최대 10개의 트리플 추출\n",
    "        kg_extract_k=5,  # 지식 그래프에서 검색할 상위 5개 노드 (쿼리 시 사용)\n",
    "        show_progress=True,  # 진행 상황 표시\n",
    "    )\n",
    "\n",
    "    print(\"\\n지식 그래프 추출 및 인덱싱 완료.\")\n",
    "    if neo4j_connected:\n",
    "        print(\"추출된 지식 그래프가 Neo4j 데이터베이스에 저장되었습니다.\")\n",
    "else:\n",
    "    print(\"문서가 로드되지 않아 지식 그래프를 생성할 수 없습니다. PDF 로드 오류를 해결하세요.\")\n",
    "    kg_index = None  # 지식 그래프 인덱스를 None으로 설정하여 다음 단계에서 오류 방지"
   ]
  },
  {
   "cell_type": "markdown",
   "metadata": {
    "id": "sjWJBq1BzCKM"
   },
   "source": [
    "## 지식 그래프 시각화\n",
    "\n",
    "Neo4j에 저장된 데이터에서 쿼리로 노드와 관계를 직접 조회해 간단한 네트워크 그래프로 시각화하여, 데이터가 어떻게 구조화되었는지 눈으로 확인합니다.  "
   ]
  },
  {
   "cell_type": "code",
   "execution_count": null,
   "metadata": {},
   "outputs": [
    {
     "name": "stderr",
     "output_type": "stream",
     "text": [
      "/tmp/ipykernel_2556/2771204364.py:30: DeprecationWarning: read_transaction has been renamed to execute_read\n",
      "  nodes, relationships = session.read_transaction(get_nodes_and_relationships)\n",
      "Received notification from DBMS server: {severity: WARNING} {code: Neo.ClientNotification.Statement.FeatureDeprecationWarning} {category: DEPRECATION} {title: This feature is deprecated and will be removed in future versions.} {description: The query used a deprecated function. ('id' has been replaced by 'elementId or consider using an application-generated id')} {position: line: 1, column: 18, offset: 17} for query: 'MATCH (n) RETURN id(n) as id, labels(n) as labels, properties(n) as props'\n",
      "Received notification from DBMS server: {severity: WARNING} {code: Neo.ClientNotification.Statement.FeatureDeprecationWarning} {category: DEPRECATION} {title: This feature is deprecated and will be removed in future versions.} {description: The query used a deprecated function. ('id' has been replaced by 'elementId or consider using an application-generated id')} {position: line: 1, column: 27, offset: 26} for query: 'MATCH (s)-[r]->(o) RETURN id(s) as sid, type(r) as type, id(o) as oid'\n",
      "Received notification from DBMS server: {severity: WARNING} {code: Neo.ClientNotification.Statement.FeatureDeprecationWarning} {category: DEPRECATION} {title: This feature is deprecated and will be removed in future versions.} {description: The query used a deprecated function. ('id' has been replaced by 'elementId or consider using an application-generated id')} {position: line: 1, column: 58, offset: 57} for query: 'MATCH (s)-[r]->(o) RETURN id(s) as sid, type(r) as type, id(o) as oid'\n"
     ]
    },
    {
     "name": "stdout",
     "output_type": "stream",
     "text": [
      "\n",
      "지식 그래프 시각화가 'apollo_kg_visualization.html' 파일로 저장되었습니다.\n"
     ]
    },
    {
     "data": {
      "text/html": [
       "\n",
       "        <iframe\n",
       "            width=\"100%\"\n",
       "            height=\"750\"\n",
       "            src=\"apollo_kg_visualization.html\"\n",
       "            frameborder=\"0\"\n",
       "            allowfullscreen\n",
       "            \n",
       "        ></iframe>\n",
       "        "
      ],
      "text/plain": [
       "<IPython.lib.display.IFrame at 0x7b62b24fffe0>"
      ]
     },
     "metadata": {},
     "output_type": "display_data"
    },
    {
     "name": "stdout",
     "output_type": "stream",
     "text": [
      "Jupyter에서 바로 안 보인다면, 아래 안내에 따라 직접 파일을 열어보세요.\n",
      "브라우저에서 그래프 시각화를 보려면 아래 경로를 복사해서 주소창에 붙여넣으세요:\n",
      "file:///home/downtown/aiffel/RAG/apollo_kg_visualization.html\n"
     ]
    },
    {
     "name": "stderr",
     "output_type": "stream",
     "text": [
      "gio: file:///home/downtown/aiffel/RAG/apollo_kg_visualization.html: Failed to find default application for content type ‘text/html’\n"
     ]
    }
   ],
   "source": [
    "import pandas as pd\n",
    "from neo4j import GraphDatabase\n",
    "from pyvis.network import Network\n",
    "\n",
    "# Neo4j 드라이버 초기화\n",
    "driver = GraphDatabase.driver(NEO4J_URI, auth=(NEO4J_USERNAME, NEO4J_PASSWORD))\n",
    "\n",
    "\n",
    "def get_nodes_and_relationships(tx):\n",
    "    # 모든 노드와 그 노드의 이름(id)를 가져옵니다.\n",
    "    nodes = {}\n",
    "    for record in tx.run(\"MATCH (n) RETURN id(n) as id, labels(n) as labels, properties(n) as props\"):\n",
    "        nodes[record[\"id\"]] = {\n",
    "            \"labels\": record[\"labels\"],\n",
    "            \"props\": record[\"props\"],\n",
    "            \"label\": record[\"props\"].get(\"name\") or record[\"props\"].get(\"id\") or str(record[\"id\"]),\n",
    "        }\n",
    "\n",
    "    # 모든 관계(엣지)를 가져옵니다.\n",
    "    relationships = []\n",
    "    for record in tx.run(\"MATCH (s)-[r]->(o) RETURN id(s) as sid, type(r) as type, id(o) as oid\"):\n",
    "        relationships.append({\"source\": record[\"sid\"], \"target\": record[\"oid\"], \"label\": record[\"type\"]})\n",
    "\n",
    "    return nodes, relationships\n",
    "\n",
    "\n",
    "with driver.session() as session:\n",
    "    nodes, relationships = session.read_transaction(get_nodes_and_relationships)\n",
    "\n",
    "# DataFrame으로 변환\n",
    "nodes_df = pd.DataFrame([{\"id\": k, \"label\": v[\"label\"]} for k, v in nodes.items()])\n",
    "edges_df = pd.DataFrame(relationships)\n",
    "\n",
    "if not nodes_df.empty and not edges_df.empty:\n",
    "    net = Network(\n",
    "        notebook=True, height=\"750px\", width=\"100%\", bgcolor=\"#222222\", font_color=\"white\", cdn_resources=\"remote\"\n",
    "    )\n",
    "\n",
    "    # 노드 추가\n",
    "    for _, node in nodes_df.iterrows():\n",
    "        net.add_node(node[\"id\"], label=node[\"label\"], title=node[\"label\"], color=\"#ADD8E6\")\n",
    "\n",
    "    # 엣지 추가\n",
    "    for _, edge in edges_df.iterrows():\n",
    "        net.add_edge(edge[\"source\"], edge[\"target\"], title=edge[\"label\"], label=edge[\"label\"], color=\"#FFD700\")\n",
    "\n",
    "    # 그래프 레이아웃 설정\n",
    "    net.set_options(\n",
    "        \"\"\"\n",
    "    var options = {\n",
    "      \"physics\": {\n",
    "        \"enabled\": true,\n",
    "        \"barnesHut\": {\n",
    "          \"gravitationalConstant\": -2000,\n",
    "          \"centralGravity\": 0.3,\n",
    "          \"springLength\": 95,\n",
    "          \"springConstant\": 0.04,\n",
    "          \"damping\": 0.09,\n",
    "          \"avoidOverlap\": 0.5\n",
    "        },\n",
    "        \"solver\": \"barnesHut\"\n",
    "      }\n",
    "    }\n",
    "    \"\"\"\n",
    "    )\n",
    "\n",
    "    graph_html_path = \"apollo_kg_visualization.html\"\n",
    "    net.save_graph(graph_html_path)\n",
    "    print(f\"\\n지식 그래프 시각화가 '{graph_html_path}' 파일로 저장되었습니다.\")\n",
    "\n",
    "    # 1. Jupyter 노트북 환경에서 inline(iframe)으로 시도\n",
    "    try:\n",
    "        from IPython.display import IFrame, display\n",
    "\n",
    "        display(IFrame(src=graph_html_path, width=\"100%\", height=\"750\"))\n",
    "        print(\"Jupyter에서 바로 안 보인다면, 아래 안내에 따라 직접 파일을 열어보세요.\")\n",
    "    except Exception as e:\n",
    "        print(f\"IFrame 렌더링 중 오류 발생: {e}\")\n",
    "\n",
    "    # 2. 브라우저로 직접 열기(로컬에서도 확실)\n",
    "    import os\n",
    "    import webbrowser\n",
    "\n",
    "    file_path = os.path.abspath(graph_html_path)\n",
    "    print(f\"브라우저에서 그래프 시각화를 보려면 아래 경로를 복사해서 주소창에 붙여넣으세요:\\nfile://{file_path}\")\n",
    "    try:\n",
    "        webbrowser.open(f\"file://{file_path}\")\n",
    "    except Exception as e:\n",
    "        print(f\"웹 브라우저 자동 열기 중 오류: {e}\")\n",
    "\n",
    "else:\n",
    "    print(\"노드 또는 엣지 데이터가 없어 시각화할 수 없습니다.\")"
   ]
  },
  {
   "cell_type": "code",
   "execution_count": 33,
   "metadata": {
    "colab": {
     "base_uri": "https://localhost:8080/",
     "height": 966
    },
    "id": "2otatFi4D5QX",
    "outputId": "c191163c-f417-4920-fec5-654d06e49f60"
   },
   "outputs": [],
   "source": [
    "# 아래 코드를 코랩 환경에서 실행하면 그래프 시각화를 바로 볼 수 있어요!\n",
    "\n",
    "# from neo4j import GraphDatabase\n",
    "# import pandas as pd\n",
    "# from pyvis.network import Network\n",
    "\n",
    "# # Neo4j 드라이버 초기화\n",
    "# driver = GraphDatabase.driver(NEO4J_URI, auth=(NEO4J_USERNAME, NEO4J_PASSWORD))\n",
    "\n",
    "# def get_nodes_and_relationships(tx):\n",
    "#     # 모든 노드와 그 노드의 이름(id)를 가져옵니다.\n",
    "#     nodes = {}\n",
    "#     for record in tx.run(\"MATCH (n) RETURN id(n) as id, labels(n) as labels, properties(n) as props\"):\n",
    "#         nodes[record[\"id\"]] = {\n",
    "#             \"labels\": record[\"labels\"],\n",
    "#             \"props\": record[\"props\"],\n",
    "#             \"label\": record[\"props\"].get(\"name\") or record[\"props\"].get(\"id\") or str(record[\"id\"]),\n",
    "#         }\n",
    "\n",
    "#     # 모든 관계(엣지)를 가져옵니다.\n",
    "#     relationships = []\n",
    "#     for record in tx.run(\"MATCH (s)-[r]->(o) RETURN id(s) as sid, type(r) as type, id(o) as oid\"):\n",
    "#         relationships.append({\n",
    "#             \"source\": record[\"sid\"],\n",
    "#             \"target\": record[\"oid\"],\n",
    "#             \"label\": record[\"type\"]\n",
    "#         })\n",
    "\n",
    "#     return nodes, relationships\n",
    "\n",
    "# with driver.session() as session:\n",
    "#     nodes, relationships = session.read_transaction(get_nodes_and_relationships)\n",
    "\n",
    "# # DataFrame으로 변환\n",
    "# nodes_df = pd.DataFrame([{\"id\": k, \"label\": v[\"label\"]} for k, v in nodes.items()])\n",
    "# edges_df = pd.DataFrame(relationships)\n",
    "\n",
    "# if not nodes_df.empty and not edges_df.empty:\n",
    "#     net = Network(notebook=True, height=\"750px\", width=\"100%\", bgcolor=\"#222222\", font_color=\"white\", cdn_resources='remote')\n",
    "\n",
    "#     # 노드 추가\n",
    "#     for _, node in nodes_df.iterrows():\n",
    "#         net.add_node(node['id'], label=node['label'], title=node['label'], color=\"#ADD8E6\")\n",
    "\n",
    "#     # 엣지 추가\n",
    "#     for _, edge in edges_df.iterrows():\n",
    "#         net.add_edge(edge['source'], edge['target'], title=edge['label'], label=edge['label'], color=\"#FFD700\")\n",
    "\n",
    "#     # 그래프 레이아웃 설정\n",
    "#     net.set_options(\"\"\"\n",
    "#     var options = {\n",
    "#       \"physics\": {\n",
    "#         \"enabled\": true,\n",
    "#         \"barnesHut\": {\n",
    "#           \"gravitationalConstant\": -2000,\n",
    "#           \"centralGravity\": 0.3,\n",
    "#           \"springLength\": 95,\n",
    "#           \"springConstant\": 0.04,\n",
    "#           \"damping\": 0.09,\n",
    "#           \"avoidOverlap\": 0.5\n",
    "#         },\n",
    "#         \"solver\": \"barnesHut\"\n",
    "#       }\n",
    "#     }\n",
    "#     \"\"\")\n",
    "\n",
    "#     graph_html_path = \"apollo_kg_visualization.html\"\n",
    "#     net.save_graph(graph_html_path)\n",
    "#     print(f\"\\n지식 그래프 시각화가 '{graph_html_path}' 파일로 저장되었습니다.\")\n",
    "\n",
    "#     from IPython.display import HTML, display\n",
    "#     try:\n",
    "#         display(HTML(filename=graph_html_path))\n",
    "#     except Exception as e:\n",
    "#         print(f\"HTML 렌더링 중 오류 발생: {e}\")\n",
    "# else:\n",
    "#     print(\"노드 또는 엣지 데이터가 없어 시각화할 수 없습니다.\")"
   ]
  },
  {
   "cell_type": "markdown",
   "metadata": {
    "id": "w5cmUcj9zD-9"
   },
   "source": [
    "## Graph RAG 쿼리 엔진 구축 및 성능 테스트\n",
    "\n",
    "추출된 지식 그래프를 기반으로 Graph RAG 쿼리 엔진을 생성하고, 엔티티 간의 명시적인 관계를 묻는 질문에 대해 정확한 답변을 얻는지 확인합니다."
   ]
  },
  {
   "cell_type": "code",
   "execution_count": 31,
   "metadata": {
    "colab": {
     "base_uri": "https://localhost:8080/"
    },
    "id": "-lIhPq7QXWmo",
    "outputId": "d79ebfa1-ed98-4410-f13b-4f1856e42867"
   },
   "outputs": [
    {
     "name": "stdout",
     "output_type": "stream",
     "text": [
      "\n",
      "Graph RAG 쿼리 엔진이 준비되었습니다.\n",
      "\n",
      "--- Graph RAG 쿼리 엔진 테스트 ---\n",
      "\n",
      "[질문 1] AI 기반 복지 서비스의 도입 시기는 언제인가요?\n",
      "  [답변] AI 기반 복지 서비스의 도입 시기는 2023년으로 예정되어 있습니다.\n",
      "  [소스 노드] [NodeWithScore(node=TextNode(id_='da42df6e-78d7-4292-a1ef-85e88850c165', embedding=None, metadata={}, excluded_embed_metadata_keys=[], excluded_llm_metadata_keys=[], relationships={<NodeRelationship.SOURCE: '1'>: RelatedNodeInfo(node_id='6587230b-a3e8-47c5-af23-f39720ec782f', node_type='4', metadata={}, hash='9ff27809f897a2ab3f39f6953ae6cef0514354e7edecfed79a207e4a2335583d'), <NodeRelationship.PREVIOUS: '2'>: RelatedNodeInfo(node_id='a7719f52-b147-42db-a199-f489919b974a', node_type='1', metadata={}, hash='b0da0e5ff31f13e0aa7fe428746761c72d410389ed10d5a253240fd1e54add8f')}, metadata_template='{key}: {value}', metadata_separator='\\n', text='AI이 신규 적용 및 확대가 필요하다고 생각하는분야로 ①주거편의(24.6%),②교육·학습(19.8%),③교통(10.1%)을 꼽음     * (주거편의) AI 홈 제품･서비스 등, (교육･학습) 영어발음 인식･회화, 수학수준 진단･강의 등 ☞ 따라서, 효용이 높거나 AI 확대 수요가 있는 분야를 중심으로 AI 이용 경험을 넓히는 “AI 일상화”의 확대 필요※ (대상) 18~60세 일반 국민 1,000명│(기간) ‘23.5.30~6.2(방법) 온라인 패널 조사│(신뢰수준) 95% 신뢰수준, 오차범위 ±3.1%p  (주관) 한국지능정보사회진흥원│(조사) 코리아리서치인터내셔널', mimetype='text/plain', start_char_idx=670, end_char_idx=991, metadata_seperator='\\n', text_template='{metadata_str}\\n\\n{content}'), score=1000.0), NodeWithScore(node=TextNode(id_='ce701ea9-e859-496c-a684-94e4263c9c1e', embedding=None, metadata={}, excluded_embed_metadata_keys=[], excluded_llm_metadata_keys=[], relationships={<NodeRelationship.SOURCE: '1'>: RelatedNodeInfo(node_id='b38f2a6d-6114-440d-8198-dcd1b7ad2c45', node_type='4', metadata={}, hash='021ba4f4498e84d78bc8fb28703fc887a3af7108734e5b82c05ab8e8778c45e5'), <NodeRelationship.PREVIOUS: '2'>: RelatedNodeInfo(node_id='57206a39-b5a9-4c71-8fd2-32ffb9e4a932', node_type='1', metadata={}, hash='2ddf999b9a2ac4dd4bc4ef7e3432498eb28d4b6db8eef874d8d117a1d21633f6'), <NodeRelationship.NEXT: '3'>: RelatedNodeInfo(node_id='34ff561b-f1f7-4811-9773-2ae78e2779f4', node_type='1', metadata={}, hash='c0165a805bd510bb06e34c045e3309c6abd439b271ff171ff2fc7ad2c492dad5')}, metadata_template='{key}: {value}', metadata_separator='\\n', text='4)’등 정책적 노력 지속   * ‘캐나다 AI 석학과의 대화(’22.9)’를 통해 우리나라 AI가 나아가야 할 방향 모색□국민과 AI혜택을 공유하고 AI를 가장 잘 활용하는 디지털 모범국가로도약할 시기⇨범부처 역량을 결집하여 국가 전방위적 AI확산추진Ⅱ AI 일상화 시대 개막 ▶ 초거대 AI등장으로 누구나 쉽게 AI를 활용하는 AI일상화가 본격화되고,AI를 얼마나 잘 활용하느냐가 국가 AI경쟁력 좌우□우리의 일상생활 곳곳에서 AI가 부지불식간 깊숙이 침투･\\n활용,AI를 누구나 쉽게 체감할 수 있는 AI대중화 시대에 본격 진입   * (예시) 스마트폰의 AI비서 및 사진보정, OTT 플랫폼의 개인 취향분석 콘텐츠 추천 등○산업현장･\\n일터에서도 AI가 노동의 양을 줄이고,질은 높이는 생산성·효율성 제고*의 원천으로 빠르게 확산 중   * (예) 짧은 보고서 작성에 챗GPT 활용 시 약 37% 작업시간 단축(MIT 연구결과, ‘23.4)□초거대 AI플랫폼,', mimetype='text/plain', start_char_idx=225, end_char_idx=708, metadata_seperator='\\n', text_template='{metadata_str}\\n\\n{content}'), score=1000.0), NodeWithScore(node=TextNode(id_='f141e1df-8c2e-4bf9-84a1-90f3e0ab2467', embedding=None, metadata={}, excluded_embed_metadata_keys=[], excluded_llm_metadata_keys=[], relationships={<NodeRelationship.SOURCE: '1'>: RelatedNodeInfo(node_id='bebbdc89-9051-4949-bbcb-edd1065c835c', node_type='4', metadata={}, hash='e2f8e881e1924bbedc5762a70a4399215f3d044c5c4f820df5f61ff50697be50'), <NodeRelationship.NEXT: '3'>: RelatedNodeInfo(node_id='bd4fd70e-41a7-45ff-b792-b178500ffd9c', node_type='1', metadata={}, hash='e58219d7a9176aac1db4c45d27eb1574269b9a194867e95d7a1812c6123ace32')}, metadata_template='{key}: {value}', metadata_separator='\\n', text='-28-\\n  ② AI 내재화로 산업･일터를 혁신하겠습니다\\n추진과제추진시기소관부처▶ (문화･예술) AI로 확대되는 문화･예술 향유\\uf000박물관･미술관 등에 AI 큐레이터 도입‘23문체부\\uf000독립운동가･호국영웅 등 AI 휴먼 제작‘23보훈부\\uf000AI 활용 콘텐츠 제작 지원 ‘24문체부\\uf000자연유산 관련 가상영상･특수효과 생성 지원‘25(잠정)문화재정추진과제추진시기소관부처▶ 민간 전문영역 및 소상공인 AI 활용 지원\\uf000 민간 5대 전문분야 초거대AI 플래그십 프로젝트 추진‘24과기정통부\\uf000서비스업 매장(’24년200개) 대상 AI 제품･서비스 도입  ‘23과기정통부\\uf000소상공인 점포(’24년5,500개) 대상 AI 융합 디지털기기 도입 지원  ‘23중기부\\uf000소상공인･창업자 활용 DB 확대‘23중기부\\uf000예비 창업자,', mimetype='text/plain', start_char_idx=0, end_char_idx=386, metadata_seperator='\\n', text_template='{metadata_str}\\n\\n{content}'), score=1000.0), NodeWithScore(node=TextNode(id_='762845fb-4c91-4e0e-ba32-37562a023984', embedding=None, metadata={}, excluded_embed_metadata_keys=[], excluded_llm_metadata_keys=[], relationships={<NodeRelationship.SOURCE: '1'>: RelatedNodeInfo(node_id='3c50577b-060a-4dbc-b6e3-bfbbccb1f482', node_type='4', metadata={}, hash='e0c6d6af7d02099d31dddc6003b462e1644fc9798518b005aacb4eef3146ae0a'), <NodeRelationship.NEXT: '3'>: RelatedNodeInfo(node_id='26e6af3a-d1d2-461e-a55b-606006cc74e3', node_type='1', metadata={}, hash='922f8406ed7ea401d1d25e7aa22ae329a11fbd333066ea0f6c7c422d95da85d3')}, metadata_template='{key}: {value}', metadata_separator='\\n', text='-27-\\n Ⅵ. 추진체계 및 계획□ 추진체계 및 향후계획ㅇ ’정보통신전략위원회‘를 통해 동 실행계획의 추진실적 점검 ㅇ 각 부처 소관 영역의 AI일상화 신규과제 발굴,예산 반영 협의ㅇ 개발･\\n실증 및 현장적용 단계에서 효과가 검증된 AI제품･\\n서비스에대해서는 민관 협업을 통해 대규모 프로젝트로 추진□ 과제 추진계획 ① AI로 국민 일상을 풍요롭게 하겠습니다추진과제추진시기소관부처▶ (복지) 사회적 약자 돌봄･배려\\uf000독거노인 등 어르신 대상 건강관리･돌봄 서비스 제공‘23복지부\\uf000보육원 보호아동 대상 학습, 정서안정, 문해력 향상 지원  ‘25(잠정)과기정통부\\uf000청각장애인 대상 AI 보조기기 지원‘23과 기 정 통･고 용 부\\uf000장애인 재활운동 및 운동코칭 AI 기기･솔루션 실증･제공‘23과기정통부복지부,', mimetype='text/plain', start_char_idx=0, end_char_idx=392, metadata_seperator='\\n', text_template='{metadata_str}\\n\\n{content}'), score=1000.0), NodeWithScore(node=TextNode(id_='7f839dd6-f10f-447e-b995-ec84de4af143', embedding=None, metadata={'kg_rel_texts': [\"['리터러시_함양', '인정과목 개설']\", \"['기반_조성', '일상화']\", \"['국민_일상을', '풍요롭게 하겠습니다']\", \"['결합된', '오피스 sw']\", \"['결합된', '오피스 sw', '활용', 'Ms 코파일럿']\", \"['문해력_교육_실시', '초중고 대상']\", \"['개발･활용_역량_강화', '디지털 기본소양']\", \"['기초활용을_제고', '학생･구직자']\", \"['문해력_제고', '교수학습자료 개발']\", \"['문해력_제고', '누구나 일상･일터에서 활용']\", \"['일상화_기반을_조성하겠습니다', '-24-']\", \"['동기화･병합', 'X-ray 영상']\", \"['식별결과', '화물']\", \"['식별결과', '화물', '수입신고정보', '투입된']\", \"['적용된', '지능형 스마트홈 시범단지']\", \"['높이는', '접근성']\", \"['마련하는', '성장 동력']\", \"['혁신하는', '산업 생산구조']\", \"['적용하여', '병충해 방지']\", \"['생성', '가상영상']\", \"['제작', '휴먼']\", \"['확대하는', '문화·예술']\", \"['기반', '고품질 공공서비스']\", \"['제공하는', '초기상담 서비스체계']\", \"['찾아내고', '복지 위기가구']\", \"['찾아내고', '복지 위기가구', '수준', '격월 20만 가구']\", \"['찾아내고', '복지 위기가구', '확인', '복지 필요']\", \"['SUPPORTS', 'Diagnosis of pediatric rare diseases']\", \"['SUPPORTS', 'Diagnosis of severe diseases']\", \"['SUPPORTS', 'Vulnerable groups']\", \"['ENRICHES', 'Daily life']\", \"['내재화', '기존산업']\", \"['내재화', '산업·일터']\", \"['도입_수준', '제한적']\", \"['도입한', '기업들']\", \"['생산성_증가', '3차 산업']\", \"['생산성_증가', '2차 산업']\", \"['생산성_증가', '1차 산업']\", \"['업무_효율성', '향상']\", \"['노동시간', '단축']\", \"['단순·반복업무에', '적극 도입']\", \"['노동_양_줄임', '생산성·효율성 제고']\", \"['활용_시작', '일반 사무업무']\", \"['대중화가', '빠르게 진행']\", \"['적용으로_인해', '삶 긍정적으로 변화']\", '[\\'일상화_및_산업_고도화_계획\\', \"\\'23.1\"]', \"['혜택_공유', '국민']\", \"['혜택_공유', '국민', '우려', 'Ai안정성']\", \"['혜택_공유', '국민', '격차_발생', 'Ai문해력에 따른 활용수준']\", \"['혜택_공유', '국민', '누릴_수_있도록', 'Ai 혜택']\", \"['혜택_공유', '국민', '존재', 'Ai제품·서비스 활용하지 못하는']\", \"['혜택_공유', '국민', '신고', '119신고 급증']\", \"['혜택_공유', '국민', 'AI_혜택', '공유']\", \"['혜택_공유', '국민', '공유', 'Ai 혜택']\", \"['일상화_정책방안_마련', '국민']\", \"['일상화_정책방안_마련', '국민', '우려', 'Ai안정성']\", \"['일상화_정책방안_마련', '국민', '격차_발생', 'Ai문해력에 따른 활용수준']\", \"['일상화_정책방안_마련', '국민', '누릴_수_있도록', 'Ai 혜택']\", \"['일상화_정책방안_마련', '국민', '존재', 'Ai제품·서비스 활용하지 못하는']\", \"['일상화_정책방안_마련', '국민', '신고', '119신고 급증']\", \"['일상화_정책방안_마련', '국민', 'AI_혜택', '공유']\", \"['일상화_정책방안_마련', '국민', '공유', 'Ai 혜택']\", \"['함께_살아가는', '인류']\", \"['실현', '조기']\", \"['활용하는', '디지털모범 국가']\", \"['대응하여', '사회적 약자 배려']\", \"['긍정적_변화', '응답']\", \"['필요', '양적·질적 확대']\", \"['필요', '수학수준 진단']\", \"['필요', '영어발음 인식']\", \"['필요', '홈 제품･서비스']\", \"['필요', '신규 서비스 제공']\", \"['필요', '이용 기회 확대']\", \"['필요', '국민적 관심']\", \"['통해', '복지 필요 확인']\", \"['일상화_기반', '조성하겠습니다']\", \"['자동화', '국가통계 분류업무']\", \"['구축하는', '홍수예보 플랫폼']\", \"['지원하는', '건강한 먹거리 생산']\", \"['지원하는', '생산시설 관리']\", \"['개발', '에너지 제어']\", \"['개발', '디지털교과서']\", \"['개발', '디지털교과서', '지원', '개별화된 학습']\", \"['개발', '진단 및 예후관리']\", \"['개발', '작물재배']\", \"['지원', '특수효과']\", \"['지원', '지자체']\", \"['지원', '지자체', '대상', '창원']\", \"['지원', '지자체', '대상', '’24년 포항']\", \"['지원', '지자체', '대상', '침수 위험성 모니터링']\", \"['지원', '지자체', '대상', '도시침수 스마트 대응 시스템']\", \"['지원', '지자체', '제공', '관로･맨홀 데이터']\", \"['지원', '소상공인']\", \"['지원', '소상공인', '효율화', '매장운영']\", \"['지원', '소상공인', '해소', '업무부담']\", \"['지원', '소상공인', '도입_지원', '안면인식 출입장치']\", \"['지원', '소상공인', '도입_지원', '서빙로봇']\", \"['지원', '소상공인', '지원', 'Ai 제품･서비스']\", \"['지원', '소상공인', '대상', '경영 컨설팅 서비스']\", \"['지원', '소상공인', '활용', '경영지원']\", \"['지원', '콘텐츠 제작']\", \"['혁신', '행정 서비스']\", \"['혁신', '일터']\", \"['혁신', '산업']\", \"['혁신', '산업', '혁신', 'Ai 내재화']\", \"['도입', '제품']\", \"['도입', '큐레이터']\", \"['도입', '서비스']\", \"['도입', '국내 산업현장']\", \"['도입', '단순·반복업무']\", \"['구축', '초기상담 서비스체계']\", \"['분석하여', '위기정보']\", \"['분석하여', '위기가구 찾아내기']\", \"['활용한', '치료제 후보물질 발굴']\", \"['활용한', '치료제 후보물질 발굴', '단축한', '18개월 이내']\", \"['활용한', '문화 콘텐츠 서비스']\", \"['활용한', '건강관리']\", \"['풍요롭게_하겠습니다', '국민 일상']\", \"['대규모_수요_창출', '산업 경쟁력 제고']\", \"['민생_현안_해결', '국민 삶의 질 제고']\", \"['도입률', '14.7%']\", \"['도입으로', '품질 개선']\", \"['도입으로', '생산성 향상']\", \"['도입으로', '생산성 향상', '절감', '4백만불']\", \"['생산성_향상', '38.5%']\", \"['품질_개선', '45.5%']\", \"['품질_개선', '가시적 성과']\", \"['적용', '사회문제 해결']\", \"['적용', '기존 산업']\", \"['확산', '과제']\", \"['확산', '국민의 삶 전반에']\", \"['확산', '긍정적 기대']\", \"['제공', '교육']\", \"['제공', '균형 있고 안전한 급식']\", \"['제공', '일상 속 편리함']\", \"['제공', '기상정보']\", \"['제공', '병해충 진단']\", \"['제공', '편리함']\", \"['가속화하다', '일상화']\", \"['확산_중', '산업현장']\", \"['제고하다', '생산성']\", \"['높이다', '질']\", \"['줄이다', '노동의 양']\", \"['분석', '위기정보']\", \"['침투', '일상생활']\", \"['일상화_시대', '개막']\", \"['활용', '번역 앱']\", \"['활용', '행정영역']\", \"['활용', '지식db']\", \"['활용', '답변 생성']\", \"['활용', '질문 의도파악']\", \"['활용', '통합 플랫폼']\", \"['활용', '디지털모범 국가']\", \"['활용', '디지털 모범국가']\", \"['나아가야_할_방향', '모색']\", \"['진단', '정서･심리 상태']\", \"['포함', '돌봄로봇']\", \"['포함', '챗봇']\", \"['포함', '배차 서비스']\", \"['포함', '운전보조 시스템']\", \"['포함', '내 삶 속의 디지털 프로젝트']\", \"['IS', '혁신서비스']\", \"['IS', '디지털 지각변동의 중심']\", \"['IS', '기술적 변곡점']\"], 'kg_rel_map': {'Ai': [['리터러시_함양', '인정과목 개설'], ['기반_조성', '일상화'], ['국민_일상을', '풍요롭게 하겠습니다'], ['결합된', '오피스 sw'], ['결합된', '오피스 sw', '활용', 'Ms 코파일럿'], ['문해력_교육_실시', '초중고 대상'], ['개발･활용_역량_강화', '디지털 기본소양'], ['기초활용을_제고', '학생･구직자'], ['문해력_제고', '교수학습자료 개발'], ['문해력_제고', '누구나 일상･일터에서 활용'], ['일상화_기반을_조성하겠습니다', '-24-'], ['동기화･병합', 'X-ray 영상'], ['식별결과', '화물'], ['식별결과', '화물', '수입신고정보', '투입된'], ['적용된', '지능형 스마트홈 시범단지'], ['높이는', '접근성'], ['마련하는', '성장 동력'], ['혁신하는', '산업 생산구조'], ['적용하여', '병충해 방지'], ['생성', '가상영상'], ['제작', '휴먼'], ['확대하는', '문화·예술'], ['기반', '고품질 공공서비스'], ['제공하는', '초기상담 서비스체계'], ['찾아내고', '복지 위기가구'], ['찾아내고', '복지 위기가구', '수준', '격월 20만 가구'], ['찾아내고', '복지 위기가구', '확인', '복지 필요'], ['SUPPORTS', 'Diagnosis of pediatric rare diseases'], ['SUPPORTS', 'Diagnosis of severe diseases'], ['SUPPORTS', 'Vulnerable groups'], ['ENRICHES', 'Daily life'], ['내재화', '기존산업'], ['내재화', '산업·일터'], ['도입_수준', '제한적'], ['도입한', '기업들'], ['생산성_증가', '3차 산업'], ['생산성_증가', '2차 산업'], ['생산성_증가', '1차 산업'], ['업무_효율성', '향상'], ['노동시간', '단축'], ['단순·반복업무에', '적극 도입'], ['노동_양_줄임', '생산성·효율성 제고'], ['활용_시작', '일반 사무업무'], ['대중화가', '빠르게 진행'], ['적용으로_인해', '삶 긍정적으로 변화'], ['일상화_및_산업_고도화_계획', \"'23.1\"], ['혜택_공유', '국민'], ['혜택_공유', '국민', '우려', 'Ai안정성'], ['혜택_공유', '국민', '격차_발생', 'Ai문해력에 따른 활용수준'], ['혜택_공유', '국민', '누릴_수_있도록', 'Ai 혜택'], ['혜택_공유', '국민', '존재', 'Ai제품·서비스 활용하지 못하는'], ['혜택_공유', '국민', '신고', '119신고 급증'], ['혜택_공유', '국민', 'AI_혜택', '공유'], ['혜택_공유', '국민', '공유', 'Ai 혜택'], ['일상화_정책방안_마련', '국민'], ['일상화_정책방안_마련', '국민', '우려', 'Ai안정성'], ['일상화_정책방안_마련', '국민', '격차_발생', 'Ai문해력에 따른 활용수준'], ['일상화_정책방안_마련', '국민', '누릴_수_있도록', 'Ai 혜택'], ['일상화_정책방안_마련', '국민', '존재', 'Ai제품·서비스 활용하지 못하는'], ['일상화_정책방안_마련', '국민', '신고', '119신고 급증'], ['일상화_정책방안_마련', '국민', 'AI_혜택', '공유'], ['일상화_정책방안_마련', '국민', '공유', 'Ai 혜택'], ['함께_살아가는', '인류'], ['실현', '조기'], ['활용하는', '디지털모범 국가'], ['대응하여', '사회적 약자 배려'], ['긍정적_변화', '응답'], ['필요', '양적·질적 확대'], ['필요', '수학수준 진단'], ['필요', '영어발음 인식'], ['필요', '홈 제품･서비스'], ['필요', '신규 서비스 제공'], ['필요', '이용 기회 확대'], ['필요', '국민적 관심'], ['통해', '복지 필요 확인'], ['일상화_기반', '조성하겠습니다'], ['자동화', '국가통계 분류업무'], ['구축하는', '홍수예보 플랫폼'], ['지원하는', '건강한 먹거리 생산'], ['지원하는', '생산시설 관리'], ['개발', '에너지 제어'], ['개발', '디지털교과서'], ['개발', '디지털교과서', '지원', '개별화된 학습'], ['개발', '진단 및 예후관리'], ['개발', '작물재배'], ['지원', '특수효과'], ['지원', '지자체'], ['지원', '지자체', '대상', '창원'], ['지원', '지자체', '대상', '’24년 포항'], ['지원', '지자체', '대상', '침수 위험성 모니터링'], ['지원', '지자체', '대상', '도시침수 스마트 대응 시스템'], ['지원', '지자체', '제공', '관로･맨홀 데이터'], ['지원', '소상공인'], ['지원', '소상공인', '효율화', '매장운영'], ['지원', '소상공인', '해소', '업무부담'], ['지원', '소상공인', '도입_지원', '안면인식 출입장치'], ['지원', '소상공인', '도입_지원', '서빙로봇'], ['지원', '소상공인', '지원', 'Ai 제품･서비스'], ['지원', '소상공인', '대상', '경영 컨설팅 서비스'], ['지원', '소상공인', '활용', '경영지원'], ['지원', '콘텐츠 제작'], ['혁신', '행정 서비스'], ['혁신', '일터'], ['혁신', '산업'], ['혁신', '산업', '혁신', 'Ai 내재화'], ['도입', '제품'], ['도입', '큐레이터'], ['도입', '서비스'], ['도입', '국내 산업현장'], ['도입', '단순·반복업무'], ['구축', '초기상담 서비스체계'], ['분석하여', '위기정보'], ['분석하여', '위기가구 찾아내기'], ['활용한', '치료제 후보물질 발굴'], ['활용한', '치료제 후보물질 발굴', '단축한', '18개월 이내'], ['활용한', '문화 콘텐츠 서비스'], ['활용한', '건강관리'], ['풍요롭게_하겠습니다', '국민 일상'], ['대규모_수요_창출', '산업 경쟁력 제고'], ['민생_현안_해결', '국민 삶의 질 제고'], ['도입률', '14.7%'], ['도입으로', '품질 개선'], ['도입으로', '생산성 향상'], ['도입으로', '생산성 향상', '절감', '4백만불'], ['생산성_향상', '38.5%'], ['품질_개선', '45.5%'], ['품질_개선', '가시적 성과'], ['적용', '사회문제 해결'], ['적용', '기존 산업'], ['확산', '과제'], ['확산', '국민의 삶 전반에'], ['확산', '긍정적 기대'], ['제공', '교육'], ['제공', '균형 있고 안전한 급식'], ['제공', '일상 속 편리함'], ['제공', '기상정보'], ['제공', '병해충 진단'], ['제공', '편리함'], ['가속화하다', '일상화'], ['확산_중', '산업현장'], ['제고하다', '생산성'], ['높이다', '질'], ['줄이다', '노동의 양'], ['분석', '위기정보'], ['침투', '일상생활'], ['일상화_시대', '개막'], ['활용', '번역 앱'], ['활용', '행정영역'], ['활용', '지식db'], ['활용', '답변 생성'], ['활용', '질문 의도파악'], ['활용', '통합 플랫폼'], ['활용', '디지털모범 국가'], ['활용', '디지털 모범국가'], ['나아가야_할_방향', '모색'], ['진단', '정서･심리 상태'], ['포함', '돌봄로봇'], ['포함', '챗봇'], ['포함', '배차 서비스'], ['포함', '운전보조 시스템'], ['포함', '내 삶 속의 디지털 프로젝트'], ['IS', '혁신서비스'], ['IS', '디지털 지각변동의 중심'], ['IS', '기술적 변곡점']]}, 'kg_schema': {'schema': 'Node properties are the following:\\n\\nRelationship properties are the following:\\n\\nThe relationships are the following:\\n'}}, excluded_embed_metadata_keys=['kg_rel_map', 'kg_rel_texts'], excluded_llm_metadata_keys=['kg_rel_map', 'kg_rel_texts'], relationships={}, metadata_template='{key}: {value}', metadata_separator='\\n', text='The following are knowledge sequence in max depth 2 in the form of directed graph like:\\n`subject -[predicate]->, object, <-[predicate_next_hop]-, object_next_hop ...`\\n[\\'리터러시_함양\\', \\'인정과목 개설\\']\\n[\\'기반_조성\\', \\'일상화\\']\\n[\\'국민_일상을\\', \\'풍요롭게 하겠습니다\\']\\n[\\'결합된\\', \\'오피스 sw\\']\\n[\\'결합된\\', \\'오피스 sw\\', \\'활용\\', \\'Ms 코파일럿\\']\\n[\\'문해력_교육_실시\\', \\'초중고 대상\\']\\n[\\'개발･활용_역량_강화\\', \\'디지털 기본소양\\']\\n[\\'기초활용을_제고\\', \\'학생･구직자\\']\\n[\\'문해력_제고\\', \\'교수학습자료 개발\\']\\n[\\'문해력_제고\\', \\'누구나 일상･일터에서 활용\\']\\n[\\'일상화_기반을_조성하겠습니다\\', \\'-24-\\']\\n[\\'동기화･병합\\', \\'X-ray 영상\\']\\n[\\'식별결과\\', \\'화물\\']\\n[\\'식별결과\\', \\'화물\\', \\'수입신고정보\\', \\'투입된\\']\\n[\\'적용된\\', \\'지능형 스마트홈 시범단지\\']\\n[\\'높이는\\', \\'접근성\\']\\n[\\'마련하는\\', \\'성장 동력\\']\\n[\\'혁신하는\\', \\'산업 생산구조\\']\\n[\\'적용하여\\', \\'병충해 방지\\']\\n[\\'생성\\', \\'가상영상\\']\\n[\\'제작\\', \\'휴먼\\']\\n[\\'확대하는\\', \\'문화·예술\\']\\n[\\'기반\\', \\'고품질 공공서비스\\']\\n[\\'제공하는\\', \\'초기상담 서비스체계\\']\\n[\\'찾아내고\\', \\'복지 위기가구\\']\\n[\\'찾아내고\\', \\'복지 위기가구\\', \\'수준\\', \\'격월 20만 가구\\']\\n[\\'찾아내고\\', \\'복지 위기가구\\', \\'확인\\', \\'복지 필요\\']\\n[\\'SUPPORTS\\', \\'Diagnosis of pediatric rare diseases\\']\\n[\\'SUPPORTS\\', \\'Diagnosis of severe diseases\\']\\n[\\'SUPPORTS\\', \\'Vulnerable groups\\']\\n[\\'ENRICHES\\', \\'Daily life\\']\\n[\\'내재화\\', \\'기존산업\\']\\n[\\'내재화\\', \\'산업·일터\\']\\n[\\'도입_수준\\', \\'제한적\\']\\n[\\'도입한\\', \\'기업들\\']\\n[\\'생산성_증가\\', \\'3차 산업\\']\\n[\\'생산성_증가\\', \\'2차 산업\\']\\n[\\'생산성_증가\\', \\'1차 산업\\']\\n[\\'업무_효율성\\', \\'향상\\']\\n[\\'노동시간\\', \\'단축\\']\\n[\\'단순·반복업무에\\', \\'적극 도입\\']\\n[\\'노동_양_줄임\\', \\'생산성·효율성 제고\\']\\n[\\'활용_시작\\', \\'일반 사무업무\\']\\n[\\'대중화가\\', \\'빠르게 진행\\']\\n[\\'적용으로_인해\\', \\'삶 긍정적으로 변화\\']\\n[\\'일상화_및_산업_고도화_계획\\', \"\\'23.1\"]\\n[\\'혜택_공유\\', \\'국민\\']\\n[\\'혜택_공유\\', \\'국민\\', \\'우려\\', \\'Ai안정성\\']\\n[\\'혜택_공유\\', \\'국민\\', \\'격차_발생\\', \\'Ai문해력에 따른 활용수준\\']\\n[\\'혜택_공유\\', \\'국민\\', \\'누릴_수_있도록\\', \\'Ai 혜택\\']\\n[\\'혜택_공유\\', \\'국민\\', \\'존재\\', \\'Ai제품·서비스 활용하지 못하는\\']\\n[\\'혜택_공유\\', \\'국민\\', \\'신고\\', \\'119신고 급증\\']\\n[\\'혜택_공유\\', \\'국민\\', \\'AI_혜택\\', \\'공유\\']\\n[\\'혜택_공유\\', \\'국민\\', \\'공유\\', \\'Ai 혜택\\']\\n[\\'일상화_정책방안_마련\\', \\'국민\\']\\n[\\'일상화_정책방안_마련\\', \\'국민\\', \\'우려\\', \\'Ai안정성\\']\\n[\\'일상화_정책방안_마련\\', \\'국민\\', \\'격차_발생\\', \\'Ai문해력에 따른 활용수준\\']\\n[\\'일상화_정책방안_마련\\', \\'국민\\', \\'누릴_수_있도록\\', \\'Ai 혜택\\']\\n[\\'일상화_정책방안_마련\\', \\'국민\\', \\'존재\\', \\'Ai제품·서비스 활용하지 못하는\\']\\n[\\'일상화_정책방안_마련\\', \\'국민\\', \\'신고\\', \\'119신고 급증\\']\\n[\\'일상화_정책방안_마련\\', \\'국민\\', \\'AI_혜택\\', \\'공유\\']\\n[\\'일상화_정책방안_마련\\', \\'국민\\', \\'공유\\', \\'Ai 혜택\\']\\n[\\'함께_살아가는\\', \\'인류\\']\\n[\\'실현\\', \\'조기\\']\\n[\\'활용하는\\', \\'디지털모범 국가\\']\\n[\\'대응하여\\', \\'사회적 약자 배려\\']\\n[\\'긍정적_변화\\', \\'응답\\']\\n[\\'필요\\', \\'양적·질적 확대\\']\\n[\\'필요\\', \\'수학수준 진단\\']\\n[\\'필요\\', \\'영어발음 인식\\']\\n[\\'필요\\', \\'홈 제품･서비스\\']\\n[\\'필요\\', \\'신규 서비스 제공\\']\\n[\\'필요\\', \\'이용 기회 확대\\']\\n[\\'필요\\', \\'국민적 관심\\']\\n[\\'통해\\', \\'복지 필요 확인\\']\\n[\\'일상화_기반\\', \\'조성하겠습니다\\']\\n[\\'자동화\\', \\'국가통계 분류업무\\']\\n[\\'구축하는\\', \\'홍수예보 플랫폼\\']\\n[\\'지원하는\\', \\'건강한 먹거리 생산\\']\\n[\\'지원하는\\', \\'생산시설 관리\\']\\n[\\'개발\\', \\'에너지 제어\\']\\n[\\'개발\\', \\'디지털교과서\\']\\n[\\'개발\\', \\'디지털교과서\\', \\'지원\\', \\'개별화된 학습\\']\\n[\\'개발\\', \\'진단 및 예후관리\\']\\n[\\'개발\\', \\'작물재배\\']\\n[\\'지원\\', \\'특수효과\\']\\n[\\'지원\\', \\'지자체\\']\\n[\\'지원\\', \\'지자체\\', \\'대상\\', \\'창원\\']\\n[\\'지원\\', \\'지자체\\', \\'대상\\', \\'’24년 포항\\']\\n[\\'지원\\', \\'지자체\\', \\'대상\\', \\'침수 위험성 모니터링\\']\\n[\\'지원\\', \\'지자체\\', \\'대상\\', \\'도시침수 스마트 대응 시스템\\']\\n[\\'지원\\', \\'지자체\\', \\'제공\\', \\'관로･맨홀 데이터\\']\\n[\\'지원\\', \\'소상공인\\']\\n[\\'지원\\', \\'소상공인\\', \\'효율화\\', \\'매장운영\\']\\n[\\'지원\\', \\'소상공인\\', \\'해소\\', \\'업무부담\\']\\n[\\'지원\\', \\'소상공인\\', \\'도입_지원\\', \\'안면인식 출입장치\\']\\n[\\'지원\\', \\'소상공인\\', \\'도입_지원\\', \\'서빙로봇\\']\\n[\\'지원\\', \\'소상공인\\', \\'지원\\', \\'Ai 제품･서비스\\']\\n[\\'지원\\', \\'소상공인\\', \\'대상\\', \\'경영 컨설팅 서비스\\']\\n[\\'지원\\', \\'소상공인\\', \\'활용\\', \\'경영지원\\']\\n[\\'지원\\', \\'콘텐츠 제작\\']\\n[\\'혁신\\', \\'행정 서비스\\']\\n[\\'혁신\\', \\'일터\\']\\n[\\'혁신\\', \\'산업\\']\\n[\\'혁신\\', \\'산업\\', \\'혁신\\', \\'Ai 내재화\\']\\n[\\'도입\\', \\'제품\\']\\n[\\'도입\\', \\'큐레이터\\']\\n[\\'도입\\', \\'서비스\\']\\n[\\'도입\\', \\'국내 산업현장\\']\\n[\\'도입\\', \\'단순·반복업무\\']\\n[\\'구축\\', \\'초기상담 서비스체계\\']\\n[\\'분석하여\\', \\'위기정보\\']\\n[\\'분석하여\\', \\'위기가구 찾아내기\\']\\n[\\'활용한\\', \\'치료제 후보물질 발굴\\']\\n[\\'활용한\\', \\'치료제 후보물질 발굴\\', \\'단축한\\', \\'18개월 이내\\']\\n[\\'활용한\\', \\'문화 콘텐츠 서비스\\']\\n[\\'활용한\\', \\'건강관리\\']\\n[\\'풍요롭게_하겠습니다\\', \\'국민 일상\\']\\n[\\'대규모_수요_창출\\', \\'산업 경쟁력 제고\\']\\n[\\'민생_현안_해결\\', \\'국민 삶의 질 제고\\']\\n[\\'도입률\\', \\'14.7%\\']\\n[\\'도입으로\\', \\'품질 개선\\']\\n[\\'도입으로\\', \\'생산성 향상\\']\\n[\\'도입으로\\', \\'생산성 향상\\', \\'절감\\', \\'4백만불\\']\\n[\\'생산성_향상\\', \\'38.5%\\']\\n[\\'품질_개선\\', \\'45.5%\\']\\n[\\'품질_개선\\', \\'가시적 성과\\']\\n[\\'적용\\', \\'사회문제 해결\\']\\n[\\'적용\\', \\'기존 산업\\']\\n[\\'확산\\', \\'과제\\']\\n[\\'확산\\', \\'국민의 삶 전반에\\']\\n[\\'확산\\', \\'긍정적 기대\\']\\n[\\'제공\\', \\'교육\\']\\n[\\'제공\\', \\'균형 있고 안전한 급식\\']\\n[\\'제공\\', \\'일상 속 편리함\\']\\n[\\'제공\\', \\'기상정보\\']\\n[\\'제공\\', \\'병해충 진단\\']\\n[\\'제공\\', \\'편리함\\']\\n[\\'가속화하다\\', \\'일상화\\']\\n[\\'확산_중\\', \\'산업현장\\']\\n[\\'제고하다\\', \\'생산성\\']\\n[\\'높이다\\', \\'질\\']\\n[\\'줄이다\\', \\'노동의 양\\']\\n[\\'분석\\', \\'위기정보\\']\\n[\\'침투\\', \\'일상생활\\']\\n[\\'일상화_시대\\', \\'개막\\']\\n[\\'활용\\', \\'번역 앱\\']\\n[\\'활용\\', \\'행정영역\\']\\n[\\'활용\\', \\'지식db\\']\\n[\\'활용\\', \\'답변 생성\\']\\n[\\'활용\\', \\'질문 의도파악\\']\\n[\\'활용\\', \\'통합 플랫폼\\']\\n[\\'활용\\', \\'디지털모범 국가\\']\\n[\\'활용\\', \\'디지털 모범국가\\']\\n[\\'나아가야_할_방향\\', \\'모색\\']\\n[\\'진단\\', \\'정서･심리 상태\\']\\n[\\'포함\\', \\'돌봄로봇\\']\\n[\\'포함\\', \\'챗봇\\']\\n[\\'포함\\', \\'배차 서비스\\']\\n[\\'포함\\', \\'운전보조 시스템\\']\\n[\\'포함\\', \\'내 삶 속의 디지털 프로젝트\\']\\n[\\'IS\\', \\'혁신서비스\\']\\n[\\'IS\\', \\'디지털 지각변동의 중심\\']\\n[\\'IS\\', \\'기술적 변곡점\\']', mimetype='text/plain', start_char_idx=None, end_char_idx=None, metadata_seperator='\\n', text_template='{metadata_str}\\n\\n{content}'), score=1000.0)]\n",
      "\n",
      "[질문 2] AI 디지털 교과서는 언제 도입될 예정인가요?\n",
      "  [답변] AI 디지털 교과서는 현재 개발 중이며, 개별화된 학습을 지원하는 방향으로 진행되고 있습니다. 구체적인 도입 일정에 대한 정보는 제공되지 않았습니다.\n",
      "  [소스 노드] [NodeWithScore(node=TextNode(id_='da42df6e-78d7-4292-a1ef-85e88850c165', embedding=None, metadata={}, excluded_embed_metadata_keys=[], excluded_llm_metadata_keys=[], relationships={<NodeRelationship.SOURCE: '1'>: RelatedNodeInfo(node_id='6587230b-a3e8-47c5-af23-f39720ec782f', node_type='4', metadata={}, hash='9ff27809f897a2ab3f39f6953ae6cef0514354e7edecfed79a207e4a2335583d'), <NodeRelationship.PREVIOUS: '2'>: RelatedNodeInfo(node_id='a7719f52-b147-42db-a199-f489919b974a', node_type='1', metadata={}, hash='b0da0e5ff31f13e0aa7fe428746761c72d410389ed10d5a253240fd1e54add8f')}, metadata_template='{key}: {value}', metadata_separator='\\n', text='AI이 신규 적용 및 확대가 필요하다고 생각하는분야로 ①주거편의(24.6%),②교육·학습(19.8%),③교통(10.1%)을 꼽음     * (주거편의) AI 홈 제품･서비스 등, (교육･학습) 영어발음 인식･회화, 수학수준 진단･강의 등 ☞ 따라서, 효용이 높거나 AI 확대 수요가 있는 분야를 중심으로 AI 이용 경험을 넓히는 “AI 일상화”의 확대 필요※ (대상) 18~60세 일반 국민 1,000명│(기간) ‘23.5.30~6.2(방법) 온라인 패널 조사│(신뢰수준) 95% 신뢰수준, 오차범위 ±3.1%p  (주관) 한국지능정보사회진흥원│(조사) 코리아리서치인터내셔널', mimetype='text/plain', start_char_idx=670, end_char_idx=991, metadata_seperator='\\n', text_template='{metadata_str}\\n\\n{content}'), score=1000.0), NodeWithScore(node=TextNode(id_='ce701ea9-e859-496c-a684-94e4263c9c1e', embedding=None, metadata={}, excluded_embed_metadata_keys=[], excluded_llm_metadata_keys=[], relationships={<NodeRelationship.SOURCE: '1'>: RelatedNodeInfo(node_id='b38f2a6d-6114-440d-8198-dcd1b7ad2c45', node_type='4', metadata={}, hash='021ba4f4498e84d78bc8fb28703fc887a3af7108734e5b82c05ab8e8778c45e5'), <NodeRelationship.PREVIOUS: '2'>: RelatedNodeInfo(node_id='57206a39-b5a9-4c71-8fd2-32ffb9e4a932', node_type='1', metadata={}, hash='2ddf999b9a2ac4dd4bc4ef7e3432498eb28d4b6db8eef874d8d117a1d21633f6'), <NodeRelationship.NEXT: '3'>: RelatedNodeInfo(node_id='34ff561b-f1f7-4811-9773-2ae78e2779f4', node_type='1', metadata={}, hash='c0165a805bd510bb06e34c045e3309c6abd439b271ff171ff2fc7ad2c492dad5')}, metadata_template='{key}: {value}', metadata_separator='\\n', text='4)’등 정책적 노력 지속   * ‘캐나다 AI 석학과의 대화(’22.9)’를 통해 우리나라 AI가 나아가야 할 방향 모색□국민과 AI혜택을 공유하고 AI를 가장 잘 활용하는 디지털 모범국가로도약할 시기⇨범부처 역량을 결집하여 국가 전방위적 AI확산추진Ⅱ AI 일상화 시대 개막 ▶ 초거대 AI등장으로 누구나 쉽게 AI를 활용하는 AI일상화가 본격화되고,AI를 얼마나 잘 활용하느냐가 국가 AI경쟁력 좌우□우리의 일상생활 곳곳에서 AI가 부지불식간 깊숙이 침투･\\n활용,AI를 누구나 쉽게 체감할 수 있는 AI대중화 시대에 본격 진입   * (예시) 스마트폰의 AI비서 및 사진보정, OTT 플랫폼의 개인 취향분석 콘텐츠 추천 등○산업현장･\\n일터에서도 AI가 노동의 양을 줄이고,질은 높이는 생산성·효율성 제고*의 원천으로 빠르게 확산 중   * (예) 짧은 보고서 작성에 챗GPT 활용 시 약 37% 작업시간 단축(MIT 연구결과, ‘23.4)□초거대 AI플랫폼,', mimetype='text/plain', start_char_idx=225, end_char_idx=708, metadata_seperator='\\n', text_template='{metadata_str}\\n\\n{content}'), score=1000.0), NodeWithScore(node=TextNode(id_='1e604b12-26a4-4bdb-b70b-822a4284cea3', embedding=None, metadata={'kg_rel_texts': [\"['리터러시_함양', '인정과목 개설']\", \"['기반_조성', '일상화']\", \"['국민_일상을', '풍요롭게 하겠습니다']\", \"['결합된', '오피스 sw']\", \"['결합된', '오피스 sw', '활용', 'Ms 코파일럿']\", \"['문해력_교육_실시', '초중고 대상']\", \"['개발･활용_역량_강화', '디지털 기본소양']\", \"['기초활용을_제고', '학생･구직자']\", \"['문해력_제고', '교수학습자료 개발']\", \"['문해력_제고', '누구나 일상･일터에서 활용']\", \"['일상화_기반을_조성하겠습니다', '-24-']\", \"['동기화･병합', 'X-ray 영상']\", \"['식별결과', '화물']\", \"['식별결과', '화물', '수입신고정보', '투입된']\", \"['적용된', '지능형 스마트홈 시범단지']\", \"['높이는', '접근성']\", \"['마련하는', '성장 동력']\", \"['혁신하는', '산업 생산구조']\", \"['적용하여', '병충해 방지']\", \"['생성', '가상영상']\", \"['제작', '휴먼']\", \"['확대하는', '문화·예술']\", \"['기반', '고품질 공공서비스']\", \"['제공하는', '초기상담 서비스체계']\", \"['찾아내고', '복지 위기가구']\", \"['찾아내고', '복지 위기가구', '수준', '격월 20만 가구']\", \"['찾아내고', '복지 위기가구', '확인', '복지 필요']\", \"['SUPPORTS', 'Diagnosis of pediatric rare diseases']\", \"['SUPPORTS', 'Diagnosis of severe diseases']\", \"['SUPPORTS', 'Vulnerable groups']\", \"['ENRICHES', 'Daily life']\", \"['내재화', '기존산업']\", \"['내재화', '산업·일터']\", \"['도입_수준', '제한적']\", \"['도입한', '기업들']\", \"['생산성_증가', '3차 산업']\", \"['생산성_증가', '2차 산업']\", \"['생산성_증가', '1차 산업']\", \"['업무_효율성', '향상']\", \"['노동시간', '단축']\", \"['단순·반복업무에', '적극 도입']\", \"['노동_양_줄임', '생산성·효율성 제고']\", \"['활용_시작', '일반 사무업무']\", \"['대중화가', '빠르게 진행']\", \"['적용으로_인해', '삶 긍정적으로 변화']\", '[\\'일상화_및_산업_고도화_계획\\', \"\\'23.1\"]', \"['혜택_공유', '국민']\", \"['혜택_공유', '국민', '우려', 'Ai안정성']\", \"['혜택_공유', '국민', '격차_발생', 'Ai문해력에 따른 활용수준']\", \"['혜택_공유', '국민', '누릴_수_있도록', 'Ai 혜택']\", \"['혜택_공유', '국민', '존재', 'Ai제품·서비스 활용하지 못하는']\", \"['혜택_공유', '국민', '신고', '119신고 급증']\", \"['혜택_공유', '국민', 'AI_혜택', '공유']\", \"['혜택_공유', '국민', '공유', 'Ai 혜택']\", \"['일상화_정책방안_마련', '국민']\", \"['일상화_정책방안_마련', '국민', '우려', 'Ai안정성']\", \"['일상화_정책방안_마련', '국민', '격차_발생', 'Ai문해력에 따른 활용수준']\", \"['일상화_정책방안_마련', '국민', '누릴_수_있도록', 'Ai 혜택']\", \"['일상화_정책방안_마련', '국민', '존재', 'Ai제품·서비스 활용하지 못하는']\", \"['일상화_정책방안_마련', '국민', '신고', '119신고 급증']\", \"['일상화_정책방안_마련', '국민', 'AI_혜택', '공유']\", \"['일상화_정책방안_마련', '국민', '공유', 'Ai 혜택']\", \"['함께_살아가는', '인류']\", \"['실현', '조기']\", \"['활용하는', '디지털모범 국가']\", \"['대응하여', '사회적 약자 배려']\", \"['긍정적_변화', '응답']\", \"['필요', '양적·질적 확대']\", \"['필요', '수학수준 진단']\", \"['필요', '영어발음 인식']\", \"['필요', '홈 제품･서비스']\", \"['필요', '신규 서비스 제공']\", \"['필요', '이용 기회 확대']\", \"['필요', '국민적 관심']\", \"['통해', '복지 필요 확인']\", \"['일상화_기반', '조성하겠습니다']\", \"['자동화', '국가통계 분류업무']\", \"['구축하는', '홍수예보 플랫폼']\", \"['지원하는', '건강한 먹거리 생산']\", \"['지원하는', '생산시설 관리']\", \"['개발', '에너지 제어']\", \"['개발', '디지털교과서']\", \"['개발', '디지털교과서', '지원', '개별화된 학습']\", \"['개발', '진단 및 예후관리']\", \"['개발', '작물재배']\", \"['지원', '특수효과']\", \"['지원', '지자체']\", \"['지원', '지자체', '대상', '창원']\", \"['지원', '지자체', '대상', '’24년 포항']\", \"['지원', '지자체', '대상', '침수 위험성 모니터링']\", \"['지원', '지자체', '대상', '도시침수 스마트 대응 시스템']\", \"['지원', '지자체', '제공', '관로･맨홀 데이터']\", \"['지원', '소상공인']\", \"['지원', '소상공인', '효율화', '매장운영']\", \"['지원', '소상공인', '해소', '업무부담']\", \"['지원', '소상공인', '도입_지원', '안면인식 출입장치']\", \"['지원', '소상공인', '도입_지원', '서빙로봇']\", \"['지원', '소상공인', '지원', 'Ai 제품･서비스']\", \"['지원', '소상공인', '대상', '경영 컨설팅 서비스']\", \"['지원', '소상공인', '활용', '경영지원']\", \"['지원', '콘텐츠 제작']\", \"['혁신', '행정 서비스']\", \"['혁신', '일터']\", \"['혁신', '산업']\", \"['혁신', '산업', '혁신', 'Ai 내재화']\", \"['도입', '제품']\", \"['도입', '큐레이터']\", \"['도입', '서비스']\", \"['도입', '국내 산업현장']\", \"['도입', '단순·반복업무']\", \"['구축', '초기상담 서비스체계']\", \"['분석하여', '위기정보']\", \"['분석하여', '위기가구 찾아내기']\", \"['활용한', '치료제 후보물질 발굴']\", \"['활용한', '치료제 후보물질 발굴', '단축한', '18개월 이내']\", \"['활용한', '문화 콘텐츠 서비스']\", \"['활용한', '건강관리']\", \"['풍요롭게_하겠습니다', '국민 일상']\", \"['대규모_수요_창출', '산업 경쟁력 제고']\", \"['민생_현안_해결', '국민 삶의 질 제고']\", \"['도입률', '14.7%']\", \"['도입으로', '품질 개선']\", \"['도입으로', '생산성 향상']\", \"['도입으로', '생산성 향상', '절감', '4백만불']\", \"['생산성_향상', '38.5%']\", \"['품질_개선', '45.5%']\", \"['품질_개선', '가시적 성과']\", \"['적용', '사회문제 해결']\", \"['적용', '기존 산업']\", \"['확산', '과제']\", \"['확산', '국민의 삶 전반에']\", \"['확산', '긍정적 기대']\", \"['제공', '교육']\", \"['제공', '균형 있고 안전한 급식']\", \"['제공', '일상 속 편리함']\", \"['제공', '기상정보']\", \"['제공', '병해충 진단']\", \"['제공', '편리함']\", \"['가속화하다', '일상화']\", \"['확산_중', '산업현장']\", \"['제고하다', '생산성']\", \"['높이다', '질']\", \"['줄이다', '노동의 양']\", \"['분석', '위기정보']\", \"['침투', '일상생활']\", \"['일상화_시대', '개막']\", \"['활용', '번역 앱']\", \"['활용', '행정영역']\", \"['활용', '지식db']\", \"['활용', '답변 생성']\", \"['활용', '질문 의도파악']\", \"['활용', '통합 플랫폼']\", \"['활용', '디지털모범 국가']\", \"['활용', '디지털 모범국가']\", \"['나아가야_할_방향', '모색']\", \"['진단', '정서･심리 상태']\", \"['포함', '돌봄로봇']\", \"['포함', '챗봇']\", \"['포함', '배차 서비스']\", \"['포함', '운전보조 시스템']\", \"['포함', '내 삶 속의 디지털 프로젝트']\", \"['IS', '혁신서비스']\", \"['IS', '디지털 지각변동의 중심']\", \"['IS', '기술적 변곡점']\"], 'kg_rel_map': {'Ai': [['리터러시_함양', '인정과목 개설'], ['기반_조성', '일상화'], ['국민_일상을', '풍요롭게 하겠습니다'], ['결합된', '오피스 sw'], ['결합된', '오피스 sw', '활용', 'Ms 코파일럿'], ['문해력_교육_실시', '초중고 대상'], ['개발･활용_역량_강화', '디지털 기본소양'], ['기초활용을_제고', '학생･구직자'], ['문해력_제고', '교수학습자료 개발'], ['문해력_제고', '누구나 일상･일터에서 활용'], ['일상화_기반을_조성하겠습니다', '-24-'], ['동기화･병합', 'X-ray 영상'], ['식별결과', '화물'], ['식별결과', '화물', '수입신고정보', '투입된'], ['적용된', '지능형 스마트홈 시범단지'], ['높이는', '접근성'], ['마련하는', '성장 동력'], ['혁신하는', '산업 생산구조'], ['적용하여', '병충해 방지'], ['생성', '가상영상'], ['제작', '휴먼'], ['확대하는', '문화·예술'], ['기반', '고품질 공공서비스'], ['제공하는', '초기상담 서비스체계'], ['찾아내고', '복지 위기가구'], ['찾아내고', '복지 위기가구', '수준', '격월 20만 가구'], ['찾아내고', '복지 위기가구', '확인', '복지 필요'], ['SUPPORTS', 'Diagnosis of pediatric rare diseases'], ['SUPPORTS', 'Diagnosis of severe diseases'], ['SUPPORTS', 'Vulnerable groups'], ['ENRICHES', 'Daily life'], ['내재화', '기존산업'], ['내재화', '산업·일터'], ['도입_수준', '제한적'], ['도입한', '기업들'], ['생산성_증가', '3차 산업'], ['생산성_증가', '2차 산업'], ['생산성_증가', '1차 산업'], ['업무_효율성', '향상'], ['노동시간', '단축'], ['단순·반복업무에', '적극 도입'], ['노동_양_줄임', '생산성·효율성 제고'], ['활용_시작', '일반 사무업무'], ['대중화가', '빠르게 진행'], ['적용으로_인해', '삶 긍정적으로 변화'], ['일상화_및_산업_고도화_계획', \"'23.1\"], ['혜택_공유', '국민'], ['혜택_공유', '국민', '우려', 'Ai안정성'], ['혜택_공유', '국민', '격차_발생', 'Ai문해력에 따른 활용수준'], ['혜택_공유', '국민', '누릴_수_있도록', 'Ai 혜택'], ['혜택_공유', '국민', '존재', 'Ai제품·서비스 활용하지 못하는'], ['혜택_공유', '국민', '신고', '119신고 급증'], ['혜택_공유', '국민', 'AI_혜택', '공유'], ['혜택_공유', '국민', '공유', 'Ai 혜택'], ['일상화_정책방안_마련', '국민'], ['일상화_정책방안_마련', '국민', '우려', 'Ai안정성'], ['일상화_정책방안_마련', '국민', '격차_발생', 'Ai문해력에 따른 활용수준'], ['일상화_정책방안_마련', '국민', '누릴_수_있도록', 'Ai 혜택'], ['일상화_정책방안_마련', '국민', '존재', 'Ai제품·서비스 활용하지 못하는'], ['일상화_정책방안_마련', '국민', '신고', '119신고 급증'], ['일상화_정책방안_마련', '국민', 'AI_혜택', '공유'], ['일상화_정책방안_마련', '국민', '공유', 'Ai 혜택'], ['함께_살아가는', '인류'], ['실현', '조기'], ['활용하는', '디지털모범 국가'], ['대응하여', '사회적 약자 배려'], ['긍정적_변화', '응답'], ['필요', '양적·질적 확대'], ['필요', '수학수준 진단'], ['필요', '영어발음 인식'], ['필요', '홈 제품･서비스'], ['필요', '신규 서비스 제공'], ['필요', '이용 기회 확대'], ['필요', '국민적 관심'], ['통해', '복지 필요 확인'], ['일상화_기반', '조성하겠습니다'], ['자동화', '국가통계 분류업무'], ['구축하는', '홍수예보 플랫폼'], ['지원하는', '건강한 먹거리 생산'], ['지원하는', '생산시설 관리'], ['개발', '에너지 제어'], ['개발', '디지털교과서'], ['개발', '디지털교과서', '지원', '개별화된 학습'], ['개발', '진단 및 예후관리'], ['개발', '작물재배'], ['지원', '특수효과'], ['지원', '지자체'], ['지원', '지자체', '대상', '창원'], ['지원', '지자체', '대상', '’24년 포항'], ['지원', '지자체', '대상', '침수 위험성 모니터링'], ['지원', '지자체', '대상', '도시침수 스마트 대응 시스템'], ['지원', '지자체', '제공', '관로･맨홀 데이터'], ['지원', '소상공인'], ['지원', '소상공인', '효율화', '매장운영'], ['지원', '소상공인', '해소', '업무부담'], ['지원', '소상공인', '도입_지원', '안면인식 출입장치'], ['지원', '소상공인', '도입_지원', '서빙로봇'], ['지원', '소상공인', '지원', 'Ai 제품･서비스'], ['지원', '소상공인', '대상', '경영 컨설팅 서비스'], ['지원', '소상공인', '활용', '경영지원'], ['지원', '콘텐츠 제작'], ['혁신', '행정 서비스'], ['혁신', '일터'], ['혁신', '산업'], ['혁신', '산업', '혁신', 'Ai 내재화'], ['도입', '제품'], ['도입', '큐레이터'], ['도입', '서비스'], ['도입', '국내 산업현장'], ['도입', '단순·반복업무'], ['구축', '초기상담 서비스체계'], ['분석하여', '위기정보'], ['분석하여', '위기가구 찾아내기'], ['활용한', '치료제 후보물질 발굴'], ['활용한', '치료제 후보물질 발굴', '단축한', '18개월 이내'], ['활용한', '문화 콘텐츠 서비스'], ['활용한', '건강관리'], ['풍요롭게_하겠습니다', '국민 일상'], ['대규모_수요_창출', '산업 경쟁력 제고'], ['민생_현안_해결', '국민 삶의 질 제고'], ['도입률', '14.7%'], ['도입으로', '품질 개선'], ['도입으로', '생산성 향상'], ['도입으로', '생산성 향상', '절감', '4백만불'], ['생산성_향상', '38.5%'], ['품질_개선', '45.5%'], ['품질_개선', '가시적 성과'], ['적용', '사회문제 해결'], ['적용', '기존 산업'], ['확산', '과제'], ['확산', '국민의 삶 전반에'], ['확산', '긍정적 기대'], ['제공', '교육'], ['제공', '균형 있고 안전한 급식'], ['제공', '일상 속 편리함'], ['제공', '기상정보'], ['제공', '병해충 진단'], ['제공', '편리함'], ['가속화하다', '일상화'], ['확산_중', '산업현장'], ['제고하다', '생산성'], ['높이다', '질'], ['줄이다', '노동의 양'], ['분석', '위기정보'], ['침투', '일상생활'], ['일상화_시대', '개막'], ['활용', '번역 앱'], ['활용', '행정영역'], ['활용', '지식db'], ['활용', '답변 생성'], ['활용', '질문 의도파악'], ['활용', '통합 플랫폼'], ['활용', '디지털모범 국가'], ['활용', '디지털 모범국가'], ['나아가야_할_방향', '모색'], ['진단', '정서･심리 상태'], ['포함', '돌봄로봇'], ['포함', '챗봇'], ['포함', '배차 서비스'], ['포함', '운전보조 시스템'], ['포함', '내 삶 속의 디지털 프로젝트'], ['IS', '혁신서비스'], ['IS', '디지털 지각변동의 중심'], ['IS', '기술적 변곡점']]}, 'kg_schema': {'schema': 'Node properties are the following:\\n\\nRelationship properties are the following:\\n\\nThe relationships are the following:\\n'}}, excluded_embed_metadata_keys=['kg_rel_map', 'kg_rel_texts'], excluded_llm_metadata_keys=['kg_rel_map', 'kg_rel_texts'], relationships={}, metadata_template='{key}: {value}', metadata_separator='\\n', text='The following are knowledge sequence in max depth 2 in the form of directed graph like:\\n`subject -[predicate]->, object, <-[predicate_next_hop]-, object_next_hop ...`\\n[\\'리터러시_함양\\', \\'인정과목 개설\\']\\n[\\'기반_조성\\', \\'일상화\\']\\n[\\'국민_일상을\\', \\'풍요롭게 하겠습니다\\']\\n[\\'결합된\\', \\'오피스 sw\\']\\n[\\'결합된\\', \\'오피스 sw\\', \\'활용\\', \\'Ms 코파일럿\\']\\n[\\'문해력_교육_실시\\', \\'초중고 대상\\']\\n[\\'개발･활용_역량_강화\\', \\'디지털 기본소양\\']\\n[\\'기초활용을_제고\\', \\'학생･구직자\\']\\n[\\'문해력_제고\\', \\'교수학습자료 개발\\']\\n[\\'문해력_제고\\', \\'누구나 일상･일터에서 활용\\']\\n[\\'일상화_기반을_조성하겠습니다\\', \\'-24-\\']\\n[\\'동기화･병합\\', \\'X-ray 영상\\']\\n[\\'식별결과\\', \\'화물\\']\\n[\\'식별결과\\', \\'화물\\', \\'수입신고정보\\', \\'투입된\\']\\n[\\'적용된\\', \\'지능형 스마트홈 시범단지\\']\\n[\\'높이는\\', \\'접근성\\']\\n[\\'마련하는\\', \\'성장 동력\\']\\n[\\'혁신하는\\', \\'산업 생산구조\\']\\n[\\'적용하여\\', \\'병충해 방지\\']\\n[\\'생성\\', \\'가상영상\\']\\n[\\'제작\\', \\'휴먼\\']\\n[\\'확대하는\\', \\'문화·예술\\']\\n[\\'기반\\', \\'고품질 공공서비스\\']\\n[\\'제공하는\\', \\'초기상담 서비스체계\\']\\n[\\'찾아내고\\', \\'복지 위기가구\\']\\n[\\'찾아내고\\', \\'복지 위기가구\\', \\'수준\\', \\'격월 20만 가구\\']\\n[\\'찾아내고\\', \\'복지 위기가구\\', \\'확인\\', \\'복지 필요\\']\\n[\\'SUPPORTS\\', \\'Diagnosis of pediatric rare diseases\\']\\n[\\'SUPPORTS\\', \\'Diagnosis of severe diseases\\']\\n[\\'SUPPORTS\\', \\'Vulnerable groups\\']\\n[\\'ENRICHES\\', \\'Daily life\\']\\n[\\'내재화\\', \\'기존산업\\']\\n[\\'내재화\\', \\'산업·일터\\']\\n[\\'도입_수준\\', \\'제한적\\']\\n[\\'도입한\\', \\'기업들\\']\\n[\\'생산성_증가\\', \\'3차 산업\\']\\n[\\'생산성_증가\\', \\'2차 산업\\']\\n[\\'생산성_증가\\', \\'1차 산업\\']\\n[\\'업무_효율성\\', \\'향상\\']\\n[\\'노동시간\\', \\'단축\\']\\n[\\'단순·반복업무에\\', \\'적극 도입\\']\\n[\\'노동_양_줄임\\', \\'생산성·효율성 제고\\']\\n[\\'활용_시작\\', \\'일반 사무업무\\']\\n[\\'대중화가\\', \\'빠르게 진행\\']\\n[\\'적용으로_인해\\', \\'삶 긍정적으로 변화\\']\\n[\\'일상화_및_산업_고도화_계획\\', \"\\'23.1\"]\\n[\\'혜택_공유\\', \\'국민\\']\\n[\\'혜택_공유\\', \\'국민\\', \\'우려\\', \\'Ai안정성\\']\\n[\\'혜택_공유\\', \\'국민\\', \\'격차_발생\\', \\'Ai문해력에 따른 활용수준\\']\\n[\\'혜택_공유\\', \\'국민\\', \\'누릴_수_있도록\\', \\'Ai 혜택\\']\\n[\\'혜택_공유\\', \\'국민\\', \\'존재\\', \\'Ai제품·서비스 활용하지 못하는\\']\\n[\\'혜택_공유\\', \\'국민\\', \\'신고\\', \\'119신고 급증\\']\\n[\\'혜택_공유\\', \\'국민\\', \\'AI_혜택\\', \\'공유\\']\\n[\\'혜택_공유\\', \\'국민\\', \\'공유\\', \\'Ai 혜택\\']\\n[\\'일상화_정책방안_마련\\', \\'국민\\']\\n[\\'일상화_정책방안_마련\\', \\'국민\\', \\'우려\\', \\'Ai안정성\\']\\n[\\'일상화_정책방안_마련\\', \\'국민\\', \\'격차_발생\\', \\'Ai문해력에 따른 활용수준\\']\\n[\\'일상화_정책방안_마련\\', \\'국민\\', \\'누릴_수_있도록\\', \\'Ai 혜택\\']\\n[\\'일상화_정책방안_마련\\', \\'국민\\', \\'존재\\', \\'Ai제품·서비스 활용하지 못하는\\']\\n[\\'일상화_정책방안_마련\\', \\'국민\\', \\'신고\\', \\'119신고 급증\\']\\n[\\'일상화_정책방안_마련\\', \\'국민\\', \\'AI_혜택\\', \\'공유\\']\\n[\\'일상화_정책방안_마련\\', \\'국민\\', \\'공유\\', \\'Ai 혜택\\']\\n[\\'함께_살아가는\\', \\'인류\\']\\n[\\'실현\\', \\'조기\\']\\n[\\'활용하는\\', \\'디지털모범 국가\\']\\n[\\'대응하여\\', \\'사회적 약자 배려\\']\\n[\\'긍정적_변화\\', \\'응답\\']\\n[\\'필요\\', \\'양적·질적 확대\\']\\n[\\'필요\\', \\'수학수준 진단\\']\\n[\\'필요\\', \\'영어발음 인식\\']\\n[\\'필요\\', \\'홈 제품･서비스\\']\\n[\\'필요\\', \\'신규 서비스 제공\\']\\n[\\'필요\\', \\'이용 기회 확대\\']\\n[\\'필요\\', \\'국민적 관심\\']\\n[\\'통해\\', \\'복지 필요 확인\\']\\n[\\'일상화_기반\\', \\'조성하겠습니다\\']\\n[\\'자동화\\', \\'국가통계 분류업무\\']\\n[\\'구축하는\\', \\'홍수예보 플랫폼\\']\\n[\\'지원하는\\', \\'건강한 먹거리 생산\\']\\n[\\'지원하는\\', \\'생산시설 관리\\']\\n[\\'개발\\', \\'에너지 제어\\']\\n[\\'개발\\', \\'디지털교과서\\']\\n[\\'개발\\', \\'디지털교과서\\', \\'지원\\', \\'개별화된 학습\\']\\n[\\'개발\\', \\'진단 및 예후관리\\']\\n[\\'개발\\', \\'작물재배\\']\\n[\\'지원\\', \\'특수효과\\']\\n[\\'지원\\', \\'지자체\\']\\n[\\'지원\\', \\'지자체\\', \\'대상\\', \\'창원\\']\\n[\\'지원\\', \\'지자체\\', \\'대상\\', \\'’24년 포항\\']\\n[\\'지원\\', \\'지자체\\', \\'대상\\', \\'침수 위험성 모니터링\\']\\n[\\'지원\\', \\'지자체\\', \\'대상\\', \\'도시침수 스마트 대응 시스템\\']\\n[\\'지원\\', \\'지자체\\', \\'제공\\', \\'관로･맨홀 데이터\\']\\n[\\'지원\\', \\'소상공인\\']\\n[\\'지원\\', \\'소상공인\\', \\'효율화\\', \\'매장운영\\']\\n[\\'지원\\', \\'소상공인\\', \\'해소\\', \\'업무부담\\']\\n[\\'지원\\', \\'소상공인\\', \\'도입_지원\\', \\'안면인식 출입장치\\']\\n[\\'지원\\', \\'소상공인\\', \\'도입_지원\\', \\'서빙로봇\\']\\n[\\'지원\\', \\'소상공인\\', \\'지원\\', \\'Ai 제품･서비스\\']\\n[\\'지원\\', \\'소상공인\\', \\'대상\\', \\'경영 컨설팅 서비스\\']\\n[\\'지원\\', \\'소상공인\\', \\'활용\\', \\'경영지원\\']\\n[\\'지원\\', \\'콘텐츠 제작\\']\\n[\\'혁신\\', \\'행정 서비스\\']\\n[\\'혁신\\', \\'일터\\']\\n[\\'혁신\\', \\'산업\\']\\n[\\'혁신\\', \\'산업\\', \\'혁신\\', \\'Ai 내재화\\']\\n[\\'도입\\', \\'제품\\']\\n[\\'도입\\', \\'큐레이터\\']\\n[\\'도입\\', \\'서비스\\']\\n[\\'도입\\', \\'국내 산업현장\\']\\n[\\'도입\\', \\'단순·반복업무\\']\\n[\\'구축\\', \\'초기상담 서비스체계\\']\\n[\\'분석하여\\', \\'위기정보\\']\\n[\\'분석하여\\', \\'위기가구 찾아내기\\']\\n[\\'활용한\\', \\'치료제 후보물질 발굴\\']\\n[\\'활용한\\', \\'치료제 후보물질 발굴\\', \\'단축한\\', \\'18개월 이내\\']\\n[\\'활용한\\', \\'문화 콘텐츠 서비스\\']\\n[\\'활용한\\', \\'건강관리\\']\\n[\\'풍요롭게_하겠습니다\\', \\'국민 일상\\']\\n[\\'대규모_수요_창출\\', \\'산업 경쟁력 제고\\']\\n[\\'민생_현안_해결\\', \\'국민 삶의 질 제고\\']\\n[\\'도입률\\', \\'14.7%\\']\\n[\\'도입으로\\', \\'품질 개선\\']\\n[\\'도입으로\\', \\'생산성 향상\\']\\n[\\'도입으로\\', \\'생산성 향상\\', \\'절감\\', \\'4백만불\\']\\n[\\'생산성_향상\\', \\'38.5%\\']\\n[\\'품질_개선\\', \\'45.5%\\']\\n[\\'품질_개선\\', \\'가시적 성과\\']\\n[\\'적용\\', \\'사회문제 해결\\']\\n[\\'적용\\', \\'기존 산업\\']\\n[\\'확산\\', \\'과제\\']\\n[\\'확산\\', \\'국민의 삶 전반에\\']\\n[\\'확산\\', \\'긍정적 기대\\']\\n[\\'제공\\', \\'교육\\']\\n[\\'제공\\', \\'균형 있고 안전한 급식\\']\\n[\\'제공\\', \\'일상 속 편리함\\']\\n[\\'제공\\', \\'기상정보\\']\\n[\\'제공\\', \\'병해충 진단\\']\\n[\\'제공\\', \\'편리함\\']\\n[\\'가속화하다\\', \\'일상화\\']\\n[\\'확산_중\\', \\'산업현장\\']\\n[\\'제고하다\\', \\'생산성\\']\\n[\\'높이다\\', \\'질\\']\\n[\\'줄이다\\', \\'노동의 양\\']\\n[\\'분석\\', \\'위기정보\\']\\n[\\'침투\\', \\'일상생활\\']\\n[\\'일상화_시대\\', \\'개막\\']\\n[\\'활용\\', \\'번역 앱\\']\\n[\\'활용\\', \\'행정영역\\']\\n[\\'활용\\', \\'지식db\\']\\n[\\'활용\\', \\'답변 생성\\']\\n[\\'활용\\', \\'질문 의도파악\\']\\n[\\'활용\\', \\'통합 플랫폼\\']\\n[\\'활용\\', \\'디지털모범 국가\\']\\n[\\'활용\\', \\'디지털 모범국가\\']\\n[\\'나아가야_할_방향\\', \\'모색\\']\\n[\\'진단\\', \\'정서･심리 상태\\']\\n[\\'포함\\', \\'돌봄로봇\\']\\n[\\'포함\\', \\'챗봇\\']\\n[\\'포함\\', \\'배차 서비스\\']\\n[\\'포함\\', \\'운전보조 시스템\\']\\n[\\'포함\\', \\'내 삶 속의 디지털 프로젝트\\']\\n[\\'IS\\', \\'혁신서비스\\']\\n[\\'IS\\', \\'디지털 지각변동의 중심\\']\\n[\\'IS\\', \\'기술적 변곡점\\']', mimetype='text/plain', start_char_idx=None, end_char_idx=None, metadata_seperator='\\n', text_template='{metadata_str}\\n\\n{content}'), score=1000.0)]\n",
      "\n",
      "[질문 3] AI 정수장 구축은 어떤 기관에서 검토하고 있나요?\n",
      "  [답변] AI 정수장 구축에 대한 구체적인 기관 정보는 제공되지 않았습니다.\n",
      "  [소스 노드] [NodeWithScore(node=TextNode(id_='da42df6e-78d7-4292-a1ef-85e88850c165', embedding=None, metadata={}, excluded_embed_metadata_keys=[], excluded_llm_metadata_keys=[], relationships={<NodeRelationship.SOURCE: '1'>: RelatedNodeInfo(node_id='6587230b-a3e8-47c5-af23-f39720ec782f', node_type='4', metadata={}, hash='9ff27809f897a2ab3f39f6953ae6cef0514354e7edecfed79a207e4a2335583d'), <NodeRelationship.PREVIOUS: '2'>: RelatedNodeInfo(node_id='a7719f52-b147-42db-a199-f489919b974a', node_type='1', metadata={}, hash='b0da0e5ff31f13e0aa7fe428746761c72d410389ed10d5a253240fd1e54add8f')}, metadata_template='{key}: {value}', metadata_separator='\\n', text='AI이 신규 적용 및 확대가 필요하다고 생각하는분야로 ①주거편의(24.6%),②교육·학습(19.8%),③교통(10.1%)을 꼽음     * (주거편의) AI 홈 제품･서비스 등, (교육･학습) 영어발음 인식･회화, 수학수준 진단･강의 등 ☞ 따라서, 효용이 높거나 AI 확대 수요가 있는 분야를 중심으로 AI 이용 경험을 넓히는 “AI 일상화”의 확대 필요※ (대상) 18~60세 일반 국민 1,000명│(기간) ‘23.5.30~6.2(방법) 온라인 패널 조사│(신뢰수준) 95% 신뢰수준, 오차범위 ±3.1%p  (주관) 한국지능정보사회진흥원│(조사) 코리아리서치인터내셔널', mimetype='text/plain', start_char_idx=670, end_char_idx=991, metadata_seperator='\\n', text_template='{metadata_str}\\n\\n{content}'), score=1000.0), NodeWithScore(node=TextNode(id_='ce701ea9-e859-496c-a684-94e4263c9c1e', embedding=None, metadata={}, excluded_embed_metadata_keys=[], excluded_llm_metadata_keys=[], relationships={<NodeRelationship.SOURCE: '1'>: RelatedNodeInfo(node_id='b38f2a6d-6114-440d-8198-dcd1b7ad2c45', node_type='4', metadata={}, hash='021ba4f4498e84d78bc8fb28703fc887a3af7108734e5b82c05ab8e8778c45e5'), <NodeRelationship.PREVIOUS: '2'>: RelatedNodeInfo(node_id='57206a39-b5a9-4c71-8fd2-32ffb9e4a932', node_type='1', metadata={}, hash='2ddf999b9a2ac4dd4bc4ef7e3432498eb28d4b6db8eef874d8d117a1d21633f6'), <NodeRelationship.NEXT: '3'>: RelatedNodeInfo(node_id='34ff561b-f1f7-4811-9773-2ae78e2779f4', node_type='1', metadata={}, hash='c0165a805bd510bb06e34c045e3309c6abd439b271ff171ff2fc7ad2c492dad5')}, metadata_template='{key}: {value}', metadata_separator='\\n', text='4)’등 정책적 노력 지속   * ‘캐나다 AI 석학과의 대화(’22.9)’를 통해 우리나라 AI가 나아가야 할 방향 모색□국민과 AI혜택을 공유하고 AI를 가장 잘 활용하는 디지털 모범국가로도약할 시기⇨범부처 역량을 결집하여 국가 전방위적 AI확산추진Ⅱ AI 일상화 시대 개막 ▶ 초거대 AI등장으로 누구나 쉽게 AI를 활용하는 AI일상화가 본격화되고,AI를 얼마나 잘 활용하느냐가 국가 AI경쟁력 좌우□우리의 일상생활 곳곳에서 AI가 부지불식간 깊숙이 침투･\\n활용,AI를 누구나 쉽게 체감할 수 있는 AI대중화 시대에 본격 진입   * (예시) 스마트폰의 AI비서 및 사진보정, OTT 플랫폼의 개인 취향분석 콘텐츠 추천 등○산업현장･\\n일터에서도 AI가 노동의 양을 줄이고,질은 높이는 생산성·효율성 제고*의 원천으로 빠르게 확산 중   * (예) 짧은 보고서 작성에 챗GPT 활용 시 약 37% 작업시간 단축(MIT 연구결과, ‘23.4)□초거대 AI플랫폼,', mimetype='text/plain', start_char_idx=225, end_char_idx=708, metadata_seperator='\\n', text_template='{metadata_str}\\n\\n{content}'), score=1000.0), NodeWithScore(node=TextNode(id_='198fb7de-a8c9-4dbf-b04c-46cf582fa1e9', embedding=None, metadata={'kg_rel_texts': [\"['리터러시_함양', '인정과목 개설']\", \"['기반_조성', '일상화']\", \"['국민_일상을', '풍요롭게 하겠습니다']\", \"['결합된', '오피스 sw']\", \"['결합된', '오피스 sw', '활용', 'Ms 코파일럿']\", \"['문해력_교육_실시', '초중고 대상']\", \"['개발･활용_역량_강화', '디지털 기본소양']\", \"['기초활용을_제고', '학생･구직자']\", \"['문해력_제고', '교수학습자료 개발']\", \"['문해력_제고', '누구나 일상･일터에서 활용']\", \"['일상화_기반을_조성하겠습니다', '-24-']\", \"['동기화･병합', 'X-ray 영상']\", \"['식별결과', '화물']\", \"['식별결과', '화물', '수입신고정보', '투입된']\", \"['적용된', '지능형 스마트홈 시범단지']\", \"['높이는', '접근성']\", \"['마련하는', '성장 동력']\", \"['혁신하는', '산업 생산구조']\", \"['적용하여', '병충해 방지']\", \"['생성', '가상영상']\", \"['제작', '휴먼']\", \"['확대하는', '문화·예술']\", \"['기반', '고품질 공공서비스']\", \"['제공하는', '초기상담 서비스체계']\", \"['찾아내고', '복지 위기가구']\", \"['찾아내고', '복지 위기가구', '수준', '격월 20만 가구']\", \"['찾아내고', '복지 위기가구', '확인', '복지 필요']\", \"['SUPPORTS', 'Diagnosis of pediatric rare diseases']\", \"['SUPPORTS', 'Diagnosis of severe diseases']\", \"['SUPPORTS', 'Vulnerable groups']\", \"['ENRICHES', 'Daily life']\", \"['내재화', '기존산업']\", \"['내재화', '산업·일터']\", \"['도입_수준', '제한적']\", \"['도입한', '기업들']\", \"['생산성_증가', '3차 산업']\", \"['생산성_증가', '2차 산업']\", \"['생산성_증가', '1차 산업']\", \"['업무_효율성', '향상']\", \"['노동시간', '단축']\", \"['단순·반복업무에', '적극 도입']\", \"['노동_양_줄임', '생산성·효율성 제고']\", \"['활용_시작', '일반 사무업무']\", \"['대중화가', '빠르게 진행']\", \"['적용으로_인해', '삶 긍정적으로 변화']\", '[\\'일상화_및_산업_고도화_계획\\', \"\\'23.1\"]', \"['혜택_공유', '국민']\", \"['혜택_공유', '국민', '우려', 'Ai안정성']\", \"['혜택_공유', '국민', '격차_발생', 'Ai문해력에 따른 활용수준']\", \"['혜택_공유', '국민', '누릴_수_있도록', 'Ai 혜택']\", \"['혜택_공유', '국민', '존재', 'Ai제품·서비스 활용하지 못하는']\", \"['혜택_공유', '국민', '신고', '119신고 급증']\", \"['혜택_공유', '국민', 'AI_혜택', '공유']\", \"['혜택_공유', '국민', '공유', 'Ai 혜택']\", \"['일상화_정책방안_마련', '국민']\", \"['일상화_정책방안_마련', '국민', '우려', 'Ai안정성']\", \"['일상화_정책방안_마련', '국민', '격차_발생', 'Ai문해력에 따른 활용수준']\", \"['일상화_정책방안_마련', '국민', '누릴_수_있도록', 'Ai 혜택']\", \"['일상화_정책방안_마련', '국민', '존재', 'Ai제품·서비스 활용하지 못하는']\", \"['일상화_정책방안_마련', '국민', '신고', '119신고 급증']\", \"['일상화_정책방안_마련', '국민', 'AI_혜택', '공유']\", \"['일상화_정책방안_마련', '국민', '공유', 'Ai 혜택']\", \"['함께_살아가는', '인류']\", \"['실현', '조기']\", \"['활용하는', '디지털모범 국가']\", \"['대응하여', '사회적 약자 배려']\", \"['긍정적_변화', '응답']\", \"['필요', '양적·질적 확대']\", \"['필요', '수학수준 진단']\", \"['필요', '영어발음 인식']\", \"['필요', '홈 제품･서비스']\", \"['필요', '신규 서비스 제공']\", \"['필요', '이용 기회 확대']\", \"['필요', '국민적 관심']\", \"['통해', '복지 필요 확인']\", \"['일상화_기반', '조성하겠습니다']\", \"['자동화', '국가통계 분류업무']\", \"['구축하는', '홍수예보 플랫폼']\", \"['지원하는', '건강한 먹거리 생산']\", \"['지원하는', '생산시설 관리']\", \"['개발', '에너지 제어']\", \"['개발', '디지털교과서']\", \"['개발', '디지털교과서', '지원', '개별화된 학습']\", \"['개발', '진단 및 예후관리']\", \"['개발', '작물재배']\", \"['지원', '특수효과']\", \"['지원', '지자체']\", \"['지원', '지자체', '대상', '창원']\", \"['지원', '지자체', '대상', '’24년 포항']\", \"['지원', '지자체', '대상', '침수 위험성 모니터링']\", \"['지원', '지자체', '대상', '도시침수 스마트 대응 시스템']\", \"['지원', '지자체', '제공', '관로･맨홀 데이터']\", \"['지원', '소상공인']\", \"['지원', '소상공인', '효율화', '매장운영']\", \"['지원', '소상공인', '해소', '업무부담']\", \"['지원', '소상공인', '도입_지원', '안면인식 출입장치']\", \"['지원', '소상공인', '도입_지원', '서빙로봇']\", \"['지원', '소상공인', '지원', 'Ai 제품･서비스']\", \"['지원', '소상공인', '대상', '경영 컨설팅 서비스']\", \"['지원', '소상공인', '활용', '경영지원']\", \"['지원', '콘텐츠 제작']\", \"['혁신', '행정 서비스']\", \"['혁신', '일터']\", \"['혁신', '산업']\", \"['혁신', '산업', '혁신', 'Ai 내재화']\", \"['도입', '제품']\", \"['도입', '큐레이터']\", \"['도입', '서비스']\", \"['도입', '국내 산업현장']\", \"['도입', '단순·반복업무']\", \"['구축', '초기상담 서비스체계']\", \"['분석하여', '위기정보']\", \"['분석하여', '위기가구 찾아내기']\", \"['활용한', '치료제 후보물질 발굴']\", \"['활용한', '치료제 후보물질 발굴', '단축한', '18개월 이내']\", \"['활용한', '문화 콘텐츠 서비스']\", \"['활용한', '건강관리']\", \"['풍요롭게_하겠습니다', '국민 일상']\", \"['대규모_수요_창출', '산업 경쟁력 제고']\", \"['민생_현안_해결', '국민 삶의 질 제고']\", \"['도입률', '14.7%']\", \"['도입으로', '품질 개선']\", \"['도입으로', '생산성 향상']\", \"['도입으로', '생산성 향상', '절감', '4백만불']\", \"['생산성_향상', '38.5%']\", \"['품질_개선', '45.5%']\", \"['품질_개선', '가시적 성과']\", \"['적용', '사회문제 해결']\", \"['적용', '기존 산업']\", \"['확산', '과제']\", \"['확산', '국민의 삶 전반에']\", \"['확산', '긍정적 기대']\", \"['제공', '교육']\", \"['제공', '균형 있고 안전한 급식']\", \"['제공', '일상 속 편리함']\", \"['제공', '기상정보']\", \"['제공', '병해충 진단']\", \"['제공', '편리함']\", \"['가속화하다', '일상화']\", \"['확산_중', '산업현장']\", \"['제고하다', '생산성']\", \"['높이다', '질']\", \"['줄이다', '노동의 양']\", \"['분석', '위기정보']\", \"['침투', '일상생활']\", \"['일상화_시대', '개막']\", \"['활용', '번역 앱']\", \"['활용', '행정영역']\", \"['활용', '지식db']\", \"['활용', '답변 생성']\", \"['활용', '질문 의도파악']\", \"['활용', '통합 플랫폼']\", \"['활용', '디지털모범 국가']\", \"['활용', '디지털 모범국가']\", \"['나아가야_할_방향', '모색']\", \"['진단', '정서･심리 상태']\", \"['포함', '돌봄로봇']\", \"['포함', '챗봇']\", \"['포함', '배차 서비스']\", \"['포함', '운전보조 시스템']\", \"['포함', '내 삶 속의 디지털 프로젝트']\", \"['IS', '혁신서비스']\", \"['IS', '디지털 지각변동의 중심']\", \"['IS', '기술적 변곡점']\"], 'kg_rel_map': {'Ai': [['리터러시_함양', '인정과목 개설'], ['기반_조성', '일상화'], ['국민_일상을', '풍요롭게 하겠습니다'], ['결합된', '오피스 sw'], ['결합된', '오피스 sw', '활용', 'Ms 코파일럿'], ['문해력_교육_실시', '초중고 대상'], ['개발･활용_역량_강화', '디지털 기본소양'], ['기초활용을_제고', '학생･구직자'], ['문해력_제고', '교수학습자료 개발'], ['문해력_제고', '누구나 일상･일터에서 활용'], ['일상화_기반을_조성하겠습니다', '-24-'], ['동기화･병합', 'X-ray 영상'], ['식별결과', '화물'], ['식별결과', '화물', '수입신고정보', '투입된'], ['적용된', '지능형 스마트홈 시범단지'], ['높이는', '접근성'], ['마련하는', '성장 동력'], ['혁신하는', '산업 생산구조'], ['적용하여', '병충해 방지'], ['생성', '가상영상'], ['제작', '휴먼'], ['확대하는', '문화·예술'], ['기반', '고품질 공공서비스'], ['제공하는', '초기상담 서비스체계'], ['찾아내고', '복지 위기가구'], ['찾아내고', '복지 위기가구', '수준', '격월 20만 가구'], ['찾아내고', '복지 위기가구', '확인', '복지 필요'], ['SUPPORTS', 'Diagnosis of pediatric rare diseases'], ['SUPPORTS', 'Diagnosis of severe diseases'], ['SUPPORTS', 'Vulnerable groups'], ['ENRICHES', 'Daily life'], ['내재화', '기존산업'], ['내재화', '산업·일터'], ['도입_수준', '제한적'], ['도입한', '기업들'], ['생산성_증가', '3차 산업'], ['생산성_증가', '2차 산업'], ['생산성_증가', '1차 산업'], ['업무_효율성', '향상'], ['노동시간', '단축'], ['단순·반복업무에', '적극 도입'], ['노동_양_줄임', '생산성·효율성 제고'], ['활용_시작', '일반 사무업무'], ['대중화가', '빠르게 진행'], ['적용으로_인해', '삶 긍정적으로 변화'], ['일상화_및_산업_고도화_계획', \"'23.1\"], ['혜택_공유', '국민'], ['혜택_공유', '국민', '우려', 'Ai안정성'], ['혜택_공유', '국민', '격차_발생', 'Ai문해력에 따른 활용수준'], ['혜택_공유', '국민', '누릴_수_있도록', 'Ai 혜택'], ['혜택_공유', '국민', '존재', 'Ai제품·서비스 활용하지 못하는'], ['혜택_공유', '국민', '신고', '119신고 급증'], ['혜택_공유', '국민', 'AI_혜택', '공유'], ['혜택_공유', '국민', '공유', 'Ai 혜택'], ['일상화_정책방안_마련', '국민'], ['일상화_정책방안_마련', '국민', '우려', 'Ai안정성'], ['일상화_정책방안_마련', '국민', '격차_발생', 'Ai문해력에 따른 활용수준'], ['일상화_정책방안_마련', '국민', '누릴_수_있도록', 'Ai 혜택'], ['일상화_정책방안_마련', '국민', '존재', 'Ai제품·서비스 활용하지 못하는'], ['일상화_정책방안_마련', '국민', '신고', '119신고 급증'], ['일상화_정책방안_마련', '국민', 'AI_혜택', '공유'], ['일상화_정책방안_마련', '국민', '공유', 'Ai 혜택'], ['함께_살아가는', '인류'], ['실현', '조기'], ['활용하는', '디지털모범 국가'], ['대응하여', '사회적 약자 배려'], ['긍정적_변화', '응답'], ['필요', '양적·질적 확대'], ['필요', '수학수준 진단'], ['필요', '영어발음 인식'], ['필요', '홈 제품･서비스'], ['필요', '신규 서비스 제공'], ['필요', '이용 기회 확대'], ['필요', '국민적 관심'], ['통해', '복지 필요 확인'], ['일상화_기반', '조성하겠습니다'], ['자동화', '국가통계 분류업무'], ['구축하는', '홍수예보 플랫폼'], ['지원하는', '건강한 먹거리 생산'], ['지원하는', '생산시설 관리'], ['개발', '에너지 제어'], ['개발', '디지털교과서'], ['개발', '디지털교과서', '지원', '개별화된 학습'], ['개발', '진단 및 예후관리'], ['개발', '작물재배'], ['지원', '특수효과'], ['지원', '지자체'], ['지원', '지자체', '대상', '창원'], ['지원', '지자체', '대상', '’24년 포항'], ['지원', '지자체', '대상', '침수 위험성 모니터링'], ['지원', '지자체', '대상', '도시침수 스마트 대응 시스템'], ['지원', '지자체', '제공', '관로･맨홀 데이터'], ['지원', '소상공인'], ['지원', '소상공인', '효율화', '매장운영'], ['지원', '소상공인', '해소', '업무부담'], ['지원', '소상공인', '도입_지원', '안면인식 출입장치'], ['지원', '소상공인', '도입_지원', '서빙로봇'], ['지원', '소상공인', '지원', 'Ai 제품･서비스'], ['지원', '소상공인', '대상', '경영 컨설팅 서비스'], ['지원', '소상공인', '활용', '경영지원'], ['지원', '콘텐츠 제작'], ['혁신', '행정 서비스'], ['혁신', '일터'], ['혁신', '산업'], ['혁신', '산업', '혁신', 'Ai 내재화'], ['도입', '제품'], ['도입', '큐레이터'], ['도입', '서비스'], ['도입', '국내 산업현장'], ['도입', '단순·반복업무'], ['구축', '초기상담 서비스체계'], ['분석하여', '위기정보'], ['분석하여', '위기가구 찾아내기'], ['활용한', '치료제 후보물질 발굴'], ['활용한', '치료제 후보물질 발굴', '단축한', '18개월 이내'], ['활용한', '문화 콘텐츠 서비스'], ['활용한', '건강관리'], ['풍요롭게_하겠습니다', '국민 일상'], ['대규모_수요_창출', '산업 경쟁력 제고'], ['민생_현안_해결', '국민 삶의 질 제고'], ['도입률', '14.7%'], ['도입으로', '품질 개선'], ['도입으로', '생산성 향상'], ['도입으로', '생산성 향상', '절감', '4백만불'], ['생산성_향상', '38.5%'], ['품질_개선', '45.5%'], ['품질_개선', '가시적 성과'], ['적용', '사회문제 해결'], ['적용', '기존 산업'], ['확산', '과제'], ['확산', '국민의 삶 전반에'], ['확산', '긍정적 기대'], ['제공', '교육'], ['제공', '균형 있고 안전한 급식'], ['제공', '일상 속 편리함'], ['제공', '기상정보'], ['제공', '병해충 진단'], ['제공', '편리함'], ['가속화하다', '일상화'], ['확산_중', '산업현장'], ['제고하다', '생산성'], ['높이다', '질'], ['줄이다', '노동의 양'], ['분석', '위기정보'], ['침투', '일상생활'], ['일상화_시대', '개막'], ['활용', '번역 앱'], ['활용', '행정영역'], ['활용', '지식db'], ['활용', '답변 생성'], ['활용', '질문 의도파악'], ['활용', '통합 플랫폼'], ['활용', '디지털모범 국가'], ['활용', '디지털 모범국가'], ['나아가야_할_방향', '모색'], ['진단', '정서･심리 상태'], ['포함', '돌봄로봇'], ['포함', '챗봇'], ['포함', '배차 서비스'], ['포함', '운전보조 시스템'], ['포함', '내 삶 속의 디지털 프로젝트'], ['IS', '혁신서비스'], ['IS', '디지털 지각변동의 중심'], ['IS', '기술적 변곡점']]}, 'kg_schema': {'schema': 'Node properties are the following:\\n\\nRelationship properties are the following:\\n\\nThe relationships are the following:\\n'}}, excluded_embed_metadata_keys=['kg_rel_map', 'kg_rel_texts'], excluded_llm_metadata_keys=['kg_rel_map', 'kg_rel_texts'], relationships={}, metadata_template='{key}: {value}', metadata_separator='\\n', text='The following are knowledge sequence in max depth 2 in the form of directed graph like:\\n`subject -[predicate]->, object, <-[predicate_next_hop]-, object_next_hop ...`\\n[\\'리터러시_함양\\', \\'인정과목 개설\\']\\n[\\'기반_조성\\', \\'일상화\\']\\n[\\'국민_일상을\\', \\'풍요롭게 하겠습니다\\']\\n[\\'결합된\\', \\'오피스 sw\\']\\n[\\'결합된\\', \\'오피스 sw\\', \\'활용\\', \\'Ms 코파일럿\\']\\n[\\'문해력_교육_실시\\', \\'초중고 대상\\']\\n[\\'개발･활용_역량_강화\\', \\'디지털 기본소양\\']\\n[\\'기초활용을_제고\\', \\'학생･구직자\\']\\n[\\'문해력_제고\\', \\'교수학습자료 개발\\']\\n[\\'문해력_제고\\', \\'누구나 일상･일터에서 활용\\']\\n[\\'일상화_기반을_조성하겠습니다\\', \\'-24-\\']\\n[\\'동기화･병합\\', \\'X-ray 영상\\']\\n[\\'식별결과\\', \\'화물\\']\\n[\\'식별결과\\', \\'화물\\', \\'수입신고정보\\', \\'투입된\\']\\n[\\'적용된\\', \\'지능형 스마트홈 시범단지\\']\\n[\\'높이는\\', \\'접근성\\']\\n[\\'마련하는\\', \\'성장 동력\\']\\n[\\'혁신하는\\', \\'산업 생산구조\\']\\n[\\'적용하여\\', \\'병충해 방지\\']\\n[\\'생성\\', \\'가상영상\\']\\n[\\'제작\\', \\'휴먼\\']\\n[\\'확대하는\\', \\'문화·예술\\']\\n[\\'기반\\', \\'고품질 공공서비스\\']\\n[\\'제공하는\\', \\'초기상담 서비스체계\\']\\n[\\'찾아내고\\', \\'복지 위기가구\\']\\n[\\'찾아내고\\', \\'복지 위기가구\\', \\'수준\\', \\'격월 20만 가구\\']\\n[\\'찾아내고\\', \\'복지 위기가구\\', \\'확인\\', \\'복지 필요\\']\\n[\\'SUPPORTS\\', \\'Diagnosis of pediatric rare diseases\\']\\n[\\'SUPPORTS\\', \\'Diagnosis of severe diseases\\']\\n[\\'SUPPORTS\\', \\'Vulnerable groups\\']\\n[\\'ENRICHES\\', \\'Daily life\\']\\n[\\'내재화\\', \\'기존산업\\']\\n[\\'내재화\\', \\'산업·일터\\']\\n[\\'도입_수준\\', \\'제한적\\']\\n[\\'도입한\\', \\'기업들\\']\\n[\\'생산성_증가\\', \\'3차 산업\\']\\n[\\'생산성_증가\\', \\'2차 산업\\']\\n[\\'생산성_증가\\', \\'1차 산업\\']\\n[\\'업무_효율성\\', \\'향상\\']\\n[\\'노동시간\\', \\'단축\\']\\n[\\'단순·반복업무에\\', \\'적극 도입\\']\\n[\\'노동_양_줄임\\', \\'생산성·효율성 제고\\']\\n[\\'활용_시작\\', \\'일반 사무업무\\']\\n[\\'대중화가\\', \\'빠르게 진행\\']\\n[\\'적용으로_인해\\', \\'삶 긍정적으로 변화\\']\\n[\\'일상화_및_산업_고도화_계획\\', \"\\'23.1\"]\\n[\\'혜택_공유\\', \\'국민\\']\\n[\\'혜택_공유\\', \\'국민\\', \\'우려\\', \\'Ai안정성\\']\\n[\\'혜택_공유\\', \\'국민\\', \\'격차_발생\\', \\'Ai문해력에 따른 활용수준\\']\\n[\\'혜택_공유\\', \\'국민\\', \\'누릴_수_있도록\\', \\'Ai 혜택\\']\\n[\\'혜택_공유\\', \\'국민\\', \\'존재\\', \\'Ai제품·서비스 활용하지 못하는\\']\\n[\\'혜택_공유\\', \\'국민\\', \\'신고\\', \\'119신고 급증\\']\\n[\\'혜택_공유\\', \\'국민\\', \\'AI_혜택\\', \\'공유\\']\\n[\\'혜택_공유\\', \\'국민\\', \\'공유\\', \\'Ai 혜택\\']\\n[\\'일상화_정책방안_마련\\', \\'국민\\']\\n[\\'일상화_정책방안_마련\\', \\'국민\\', \\'우려\\', \\'Ai안정성\\']\\n[\\'일상화_정책방안_마련\\', \\'국민\\', \\'격차_발생\\', \\'Ai문해력에 따른 활용수준\\']\\n[\\'일상화_정책방안_마련\\', \\'국민\\', \\'누릴_수_있도록\\', \\'Ai 혜택\\']\\n[\\'일상화_정책방안_마련\\', \\'국민\\', \\'존재\\', \\'Ai제품·서비스 활용하지 못하는\\']\\n[\\'일상화_정책방안_마련\\', \\'국민\\', \\'신고\\', \\'119신고 급증\\']\\n[\\'일상화_정책방안_마련\\', \\'국민\\', \\'AI_혜택\\', \\'공유\\']\\n[\\'일상화_정책방안_마련\\', \\'국민\\', \\'공유\\', \\'Ai 혜택\\']\\n[\\'함께_살아가는\\', \\'인류\\']\\n[\\'실현\\', \\'조기\\']\\n[\\'활용하는\\', \\'디지털모범 국가\\']\\n[\\'대응하여\\', \\'사회적 약자 배려\\']\\n[\\'긍정적_변화\\', \\'응답\\']\\n[\\'필요\\', \\'양적·질적 확대\\']\\n[\\'필요\\', \\'수학수준 진단\\']\\n[\\'필요\\', \\'영어발음 인식\\']\\n[\\'필요\\', \\'홈 제품･서비스\\']\\n[\\'필요\\', \\'신규 서비스 제공\\']\\n[\\'필요\\', \\'이용 기회 확대\\']\\n[\\'필요\\', \\'국민적 관심\\']\\n[\\'통해\\', \\'복지 필요 확인\\']\\n[\\'일상화_기반\\', \\'조성하겠습니다\\']\\n[\\'자동화\\', \\'국가통계 분류업무\\']\\n[\\'구축하는\\', \\'홍수예보 플랫폼\\']\\n[\\'지원하는\\', \\'건강한 먹거리 생산\\']\\n[\\'지원하는\\', \\'생산시설 관리\\']\\n[\\'개발\\', \\'에너지 제어\\']\\n[\\'개발\\', \\'디지털교과서\\']\\n[\\'개발\\', \\'디지털교과서\\', \\'지원\\', \\'개별화된 학습\\']\\n[\\'개발\\', \\'진단 및 예후관리\\']\\n[\\'개발\\', \\'작물재배\\']\\n[\\'지원\\', \\'특수효과\\']\\n[\\'지원\\', \\'지자체\\']\\n[\\'지원\\', \\'지자체\\', \\'대상\\', \\'창원\\']\\n[\\'지원\\', \\'지자체\\', \\'대상\\', \\'’24년 포항\\']\\n[\\'지원\\', \\'지자체\\', \\'대상\\', \\'침수 위험성 모니터링\\']\\n[\\'지원\\', \\'지자체\\', \\'대상\\', \\'도시침수 스마트 대응 시스템\\']\\n[\\'지원\\', \\'지자체\\', \\'제공\\', \\'관로･맨홀 데이터\\']\\n[\\'지원\\', \\'소상공인\\']\\n[\\'지원\\', \\'소상공인\\', \\'효율화\\', \\'매장운영\\']\\n[\\'지원\\', \\'소상공인\\', \\'해소\\', \\'업무부담\\']\\n[\\'지원\\', \\'소상공인\\', \\'도입_지원\\', \\'안면인식 출입장치\\']\\n[\\'지원\\', \\'소상공인\\', \\'도입_지원\\', \\'서빙로봇\\']\\n[\\'지원\\', \\'소상공인\\', \\'지원\\', \\'Ai 제품･서비스\\']\\n[\\'지원\\', \\'소상공인\\', \\'대상\\', \\'경영 컨설팅 서비스\\']\\n[\\'지원\\', \\'소상공인\\', \\'활용\\', \\'경영지원\\']\\n[\\'지원\\', \\'콘텐츠 제작\\']\\n[\\'혁신\\', \\'행정 서비스\\']\\n[\\'혁신\\', \\'일터\\']\\n[\\'혁신\\', \\'산업\\']\\n[\\'혁신\\', \\'산업\\', \\'혁신\\', \\'Ai 내재화\\']\\n[\\'도입\\', \\'제품\\']\\n[\\'도입\\', \\'큐레이터\\']\\n[\\'도입\\', \\'서비스\\']\\n[\\'도입\\', \\'국내 산업현장\\']\\n[\\'도입\\', \\'단순·반복업무\\']\\n[\\'구축\\', \\'초기상담 서비스체계\\']\\n[\\'분석하여\\', \\'위기정보\\']\\n[\\'분석하여\\', \\'위기가구 찾아내기\\']\\n[\\'활용한\\', \\'치료제 후보물질 발굴\\']\\n[\\'활용한\\', \\'치료제 후보물질 발굴\\', \\'단축한\\', \\'18개월 이내\\']\\n[\\'활용한\\', \\'문화 콘텐츠 서비스\\']\\n[\\'활용한\\', \\'건강관리\\']\\n[\\'풍요롭게_하겠습니다\\', \\'국민 일상\\']\\n[\\'대규모_수요_창출\\', \\'산업 경쟁력 제고\\']\\n[\\'민생_현안_해결\\', \\'국민 삶의 질 제고\\']\\n[\\'도입률\\', \\'14.7%\\']\\n[\\'도입으로\\', \\'품질 개선\\']\\n[\\'도입으로\\', \\'생산성 향상\\']\\n[\\'도입으로\\', \\'생산성 향상\\', \\'절감\\', \\'4백만불\\']\\n[\\'생산성_향상\\', \\'38.5%\\']\\n[\\'품질_개선\\', \\'45.5%\\']\\n[\\'품질_개선\\', \\'가시적 성과\\']\\n[\\'적용\\', \\'사회문제 해결\\']\\n[\\'적용\\', \\'기존 산업\\']\\n[\\'확산\\', \\'과제\\']\\n[\\'확산\\', \\'국민의 삶 전반에\\']\\n[\\'확산\\', \\'긍정적 기대\\']\\n[\\'제공\\', \\'교육\\']\\n[\\'제공\\', \\'균형 있고 안전한 급식\\']\\n[\\'제공\\', \\'일상 속 편리함\\']\\n[\\'제공\\', \\'기상정보\\']\\n[\\'제공\\', \\'병해충 진단\\']\\n[\\'제공\\', \\'편리함\\']\\n[\\'가속화하다\\', \\'일상화\\']\\n[\\'확산_중\\', \\'산업현장\\']\\n[\\'제고하다\\', \\'생산성\\']\\n[\\'높이다\\', \\'질\\']\\n[\\'줄이다\\', \\'노동의 양\\']\\n[\\'분석\\', \\'위기정보\\']\\n[\\'침투\\', \\'일상생활\\']\\n[\\'일상화_시대\\', \\'개막\\']\\n[\\'활용\\', \\'번역 앱\\']\\n[\\'활용\\', \\'행정영역\\']\\n[\\'활용\\', \\'지식db\\']\\n[\\'활용\\', \\'답변 생성\\']\\n[\\'활용\\', \\'질문 의도파악\\']\\n[\\'활용\\', \\'통합 플랫폼\\']\\n[\\'활용\\', \\'디지털모범 국가\\']\\n[\\'활용\\', \\'디지털 모범국가\\']\\n[\\'나아가야_할_방향\\', \\'모색\\']\\n[\\'진단\\', \\'정서･심리 상태\\']\\n[\\'포함\\', \\'돌봄로봇\\']\\n[\\'포함\\', \\'챗봇\\']\\n[\\'포함\\', \\'배차 서비스\\']\\n[\\'포함\\', \\'운전보조 시스템\\']\\n[\\'포함\\', \\'내 삶 속의 디지털 프로젝트\\']\\n[\\'IS\\', \\'혁신서비스\\']\\n[\\'IS\\', \\'디지털 지각변동의 중심\\']\\n[\\'IS\\', \\'기술적 변곡점\\']', mimetype='text/plain', start_char_idx=None, end_char_idx=None, metadata_seperator='\\n', text_template='{metadata_str}\\n\\n{content}'), score=1000.0)]\n"
     ]
    }
   ],
   "source": [
    "if kg_index:  # 지식 그래프 인덱스가 성공적으로 생성된 경우에만 쿼리 엔진 생성\n",
    "    # KnowledgeGraphIndex에서 쿼리 엔진 생성\n",
    "    graph_query_engine = kg_index.as_query_engine(\n",
    "        retriever_mode=\"keyword\",\n",
    "        with_hybrid=False,\n",
    "        llm=llm,\n",
    "    )\n",
    "\n",
    "    print(\"\\nGraph RAG 쿼리 엔진이 준비되었습니다.\")\n",
    "\n",
    "    # 성능 테스트 질문\n",
    "    questions_graph_rag = [\n",
    "        \"AI 기반 복지 서비스의 도입 시기는 언제인가요?\",\n",
    "        \"AI 디지털 교과서는 언제 도입될 예정인가요?\",\n",
    "        \"AI 정수장 구축은 어떤 기관에서 검토하고 있나요?\",\n",
    "    ]\n",
    "\n",
    "    print(\"\\n--- Graph RAG 쿼리 엔진 테스트 ---\")\n",
    "    for i, q in enumerate(questions_graph_rag):\n",
    "        print(f\"\\n[질문 {i + 1}] {q}\")\n",
    "        response = graph_query_engine.query(q)\n",
    "        print(f\"  [답변] {response.response}\")\n",
    "        print(f\"  [소스 노드] {response.source_nodes}\")  # 어떤 노드를 참조했는지 확인 가능\n",
    "else:\n",
    "    print(\"지식 그래프 인덱스가 생성되지 않아 Graph RAG 쿼리 엔진을 생성할 수 없습니다.\")"
   ]
  },
  {
   "cell_type": "markdown",
   "metadata": {
    "id": "6l2t7yAP9osO"
   },
   "source": [
    "## Vector + Graph 하이브리드 검색\n",
    "\n",
    "Vector RAG와 Graph RAG를 결합하여, 일반적인 질문은 VectorDB에서 답을 찾고, 관계에 대한 질문은 지식 그래프에서 답을 찾도록 하는 하이브리드 쿼리 엔진을 구성합니다."
   ]
  },
  {
   "cell_type": "code",
   "execution_count": 32,
   "metadata": {
    "colab": {
     "base_uri": "https://localhost:8080/"
    },
    "id": "yrAKAPOKXZZK",
    "outputId": "bbeebdd7-e213-4147-9214-7d95f16d9894"
   },
   "outputs": [
    {
     "name": "stderr",
     "output_type": "stream",
     "text": [
      "/home/downtown/miniconda3/lib/python3.12/site-packages/torch/nn/modules/module.py:1762: FutureWarning: `encoder_attention_mask` is deprecated and will be removed in version 4.55.0 for `RobertaSdpaSelfAttention.forward`.\n",
      "  return forward_call(*args, **kwargs)\n"
     ]
    },
    {
     "name": "stdout",
     "output_type": "stream",
     "text": [
      "\n",
      "하이브리드 (Vector + Graph) 쿼리 엔진이 준비되었습니다.\n",
      "\n",
      "--- 하이브리드 (Vector + Graph) 쿼리 엔진 테스트 ---\n",
      "\n",
      "[질문 1] 전국민 AI 일상화를 위한 핵심 추진 과제는 무엇이며, 각 과제와 관련된 주요 서비스나 사업은 무엇인가요?\n",
      "  [답변] 전국민 AI 일상화를 위한 핵심 추진 과제는 다음과 같습니다:\n",
      "\n",
      "1. **AI 문해력 제고**: 교수학습자료 개발 및 인정과목 개설을 통해 AI 리터러시를 함양합니다. 이를 통해 누구나 일상과 일터에서 AI를 활용할 수 있도록 지원합니다.\n",
      "\n",
      "2. **디지털 튜터 배치 및 디지털 문제해결센터 운영**: 교육부에서 디지털 튜터를 배치하고 문제해결센터를 운영하여 AI 활용 능력을 높입니다.\n",
      "\n",
      "3. **AI 선도학교 운영 및 신규 AI 교육 콘텐츠 제공**: AI 교육을 선도하는 학교를 운영하고, 새로운 교육 콘텐츠를 제공하여 학생들의 AI 활용 능력을 강화합니다.\n",
      "\n",
      "4. **소상공인 및 중소기업 AI 활용 지원**: 소상공인 점포에 AI 융합 디지털 기기를 도입하고, 서비스업 매장에 AI 제품 및 서비스를 지원하여 산업 전반의 AI 내재화를 촉진합니다.\n",
      "\n",
      "5. **AI 기반 공공서비스 혁신**: 행정 서비스 및 민생 현안 해결을 위한 AI 도입을 통해 정부 업무 혁신과 국민 편익 증대를 목표로 합니다.\n",
      "\n",
      "이와 관련된 주요 서비스나 사업으로는 AI 홈 제품 및 서비스, 디지털 교과서, AI 보조기기, AI 큐레이터 도입, 그리고 AI를 활용한 건강관리 및 돌봄 서비스 등이 있습니다. 이러한 사업들은 AI의 일상화와 대중화를 가속화하는 데 기여하고 있습니다.\n",
      "\n",
      "[질문 2] 보고서에 언급된 '사회적 약자 지원'과 관련된 AI 서비스들은 서로 어떻게 연관되어 있으며, 어떤 부처들이 협력하여 추진하나요?\n",
      "  [답변] '사회적 약자 지원'과 관련된 AI 서비스들은 독거노인, 보호아동, 장애인 등 다양한 대상에 맞춰 건강관리, 학습 지원, 재활 운동 등을 제공하는 방식으로 연관되어 있습니다. 예를 들어, 독거노인을 위한 건강관리 서비스는 AI 스피커를 활용하여 제공되며, 보호아동을 위한 학습 및 정서 안정 지원은 보육원에서 이루어집니다. 장애인에게는 AI 보조기기와 운동 코칭이 지원됩니다.\n",
      "\n",
      "이러한 서비스들은 복지부, 과기정통부, 고용부 등 여러 부처가 협력하여 추진하고 있습니다. 각 부처는 특정 대상에 맞는 AI 솔루션을 개발하고, 이를 통해 사회적 약자의 삶의 질을 향상시키기 위한 다양한 프로그램을 운영하고 있습니다.\n",
      "\n",
      "[질문 3] '디지털플랫폼정부위원회'는 AI 일상화 추진 과정에서 어떤 역할을 담당하며, 어느 과제와 가장 밀접하게 관련되어 있나요?\n",
      "  [답변] 디지털플랫폼정부위원회는 AI 일상화 추진 과정에서 국가 전방위적 AI 확산을 위한 정책적 노력을 지속하는 역할을 담당합니다. 이 위원회는 공공분야 AI 도입을 적극 추진하여 행정 서비스 혁신과 국민 편익 증대를 목표로 하고 있습니다. 특히, AI 문해력 제고와 관련된 과제와 밀접하게 연관되어 있으며, 이는 국민이 AI를 일상에서 쉽게 활용할 수 있도록 지원하는 데 중점을 두고 있습니다.\n",
      "\n",
      "[질문 4] 보고서에서 말하는 '생성형 AI 선도국가 도약'의 의미는 무엇이며, 이를 위한 핵심 전략은 무엇인가요?\n",
      "  [답변] '생성형 AI 선도국가 도약'은 AI 기술을 활용하여 국가의 경쟁력을 높이고, 국민의 일상생활에 긍정적인 변화를 가져오는 것을 목표로 합니다. 이를 위해 AI의 일상화와 대중화를 추진하며, 다양한 분야에서 AI의 적용을 확대하는 것이 핵심 전략입니다. 특히, 주거편의, 교육·학습, 교통 등 효용이 높은 분야에 집중하여 AI 이용 경험을 넓히고, 국민이 AI의 혜택을 쉽게 체감할 수 있도록 하는 것이 중요합니다. 또한, AI 기술의 발전을 통해 산업 현장에서의 생산성 및 효율성을 높이고, 사회적 약자를 배려하는 정책적 노력이 필요합니다.\n"
     ]
    }
   ],
   "source": [
    "from llama_index.core import VectorStoreIndex  # 올바른 임포트 경로\n",
    "\n",
    "if documents and kg_index:  # 문서와 지식 그래프 인덱스가 모두 성공적으로 생성된 경우에만 하이브리드 검색\n",
    "    # VectorStoreIndex 생성 (원본 문서에 대한 벡터 인덱스)\n",
    "    vector_index = VectorStoreIndex.from_documents(\n",
    "        llama_documents,\n",
    "    )\n",
    "\n",
    "    # KnowledgeGraphIndex 기반 쿼리 엔진 생성, 하이브리드 모드 활성화 및 벡터 인덱스 연결\n",
    "    hybrid_query_engine = kg_index.as_query_engine(\n",
    "        retriever_mode=\"keyword\",\n",
    "        with_hybrid=True,  # 하이브리드 모드 활성화\n",
    "        vector_store_index=vector_index,  # 벡터 인덱스 연결\n",
    "        alpha=0.5,  # 벡터 검색과 그래프 검색의 가중치 (0.5는 동일 가중치)\n",
    "        llm=llm,\n",
    "    )\n",
    "\n",
    "    print(\"\\n하이브리드 (Vector + Graph) 쿼리 엔진이 준비되었습니다.\")\n",
    "\n",
    "    # 하이브리드 검색 성능 테스트 질문\n",
    "    questions_hybrid_rag = [\n",
    "        \"전국민 AI 일상화를 위한 핵심 추진 과제는 무엇이며, 각 과제와 관련된 주요 서비스나 사업은 무엇인가요?\",  # 일반 정보 + 관계 확인 (하이브리드형)\n",
    "        \"보고서에 언급된 '사회적 약자 지원'과 관련된 AI 서비스들은 서로 어떻게 연관되어 있으며, 어떤 부처들이 협력하여 추진하나요?\",  # 복합 관계 추론\n",
    "        \"'디지털플랫폼정부위원회'는 AI 일상화 추진 과정에서 어떤 역할을 담당하며, 어느 과제와 가장 밀접하게 관련되어 있나요?\",  # 특정 주체와 역할\n",
    "        \"보고서에서 말하는 '생성형 AI 선도국가 도약'의 의미는 무엇이며, 이를 위한 핵심 전략은 무엇인가요?\",  # 개념 및 전략 요약\n",
    "    ]\n",
    "\n",
    "    print(\"\\n--- 하이브리드 (Vector + Graph) 쿼리 엔진 테스트 ---\")\n",
    "    for i, q in enumerate(questions_hybrid_rag):\n",
    "        print(f\"\\n[질문 {i + 1}] {q}\")\n",
    "        response = hybrid_query_engine.query(q)\n",
    "        print(f\"  [답변] {response.response}\")\n",
    "        # print(f\"  [소스 노드] {response.source_nodes}\")  # 참조 노드 확인 가능\n",
    "else:\n",
    "    print(\"문서 또는 지식 그래프 인덱스가 생성되지 않아 하이브리드 검색을 수행할 수 없습니다.\")"
   ]
  },
  {
   "cell_type": "markdown",
   "metadata": {
    "id": "6p5mpAk2Xmkf"
   },
   "source": [
    "## 마무리\n",
    "\n",
    "이 실습을 통해 비정형 텍스트에서 지식 그래프를 추출하고, 이를 활용하여 관계 기반 질문에 답변하는 Graph RAG를 구현하는 방법을 익혔습니다.  \n",
    "또한, Vector RAG와 Graph RAG를 결합한 하이브리드 검색의 가능성과 함께, **Neo4j 그래프 데이터베이스 연동**에 대해서도 살펴보았습니다.  "
   ]
  }
 ],
 "metadata": {
  "colab": {
   "provenance": []
  },
  "kernelspec": {
   "display_name": ".venv",
   "language": "python",
   "name": "python3"
  },
  "language_info": {
   "codemirror_mode": {
    "name": "ipython",
    "version": 3
   },
   "file_extension": ".py",
   "mimetype": "text/x-python",
   "name": "python",
   "nbconvert_exporter": "python",
   "pygments_lexer": "ipython3",
   "version": "3.13.5"
  },
  "widgets": {
   "application/vnd.jupyter.widget-state+json": {
    "0ee62f85f52d4053848bbcdcd6435cac": {
     "model_module": "@jupyter-widgets/controls",
     "model_module_version": "1.5.0",
     "model_name": "HBoxModel",
     "state": {
      "_dom_classes": [],
      "_model_module": "@jupyter-widgets/controls",
      "_model_module_version": "1.5.0",
      "_model_name": "HBoxModel",
      "_view_count": null,
      "_view_module": "@jupyter-widgets/controls",
      "_view_module_version": "1.5.0",
      "_view_name": "HBoxView",
      "box_style": "",
      "children": [
       "IPY_MODEL_4ec2e12fbdd645a79de25654f108f475",
       "IPY_MODEL_901ff9d965e94f9e8f152896eb89b401",
       "IPY_MODEL_7ce15bcf8e8a423fbe297cc435bd9d0b"
      ],
      "layout": "IPY_MODEL_7d176f50392040c3be4e1d53d3235a3d"
     }
    },
    "1881a0688da64a11a929f95cae871a99": {
     "model_module": "@jupyter-widgets/base",
     "model_module_version": "1.2.0",
     "model_name": "LayoutModel",
     "state": {
      "_model_module": "@jupyter-widgets/base",
      "_model_module_version": "1.2.0",
      "_model_name": "LayoutModel",
      "_view_count": null,
      "_view_module": "@jupyter-widgets/base",
      "_view_module_version": "1.2.0",
      "_view_name": "LayoutView",
      "align_content": null,
      "align_items": null,
      "align_self": null,
      "border": null,
      "bottom": null,
      "display": null,
      "flex": null,
      "flex_flow": null,
      "grid_area": null,
      "grid_auto_columns": null,
      "grid_auto_flow": null,
      "grid_auto_rows": null,
      "grid_column": null,
      "grid_gap": null,
      "grid_row": null,
      "grid_template_areas": null,
      "grid_template_columns": null,
      "grid_template_rows": null,
      "height": null,
      "justify_content": null,
      "justify_items": null,
      "left": null,
      "margin": null,
      "max_height": null,
      "max_width": null,
      "min_height": null,
      "min_width": null,
      "object_fit": null,
      "object_position": null,
      "order": null,
      "overflow": null,
      "overflow_x": null,
      "overflow_y": null,
      "padding": null,
      "right": null,
      "top": null,
      "visibility": null,
      "width": null
     }
    },
    "22e2b79115be4c5f95a247a459d14f76": {
     "model_module": "@jupyter-widgets/controls",
     "model_module_version": "1.5.0",
     "model_name": "DescriptionStyleModel",
     "state": {
      "_model_module": "@jupyter-widgets/controls",
      "_model_module_version": "1.5.0",
      "_model_name": "DescriptionStyleModel",
      "_view_count": null,
      "_view_module": "@jupyter-widgets/base",
      "_view_module_version": "1.2.0",
      "_view_name": "StyleView",
      "description_width": ""
     }
    },
    "29eff955f63e4b1395590015e09403f9": {
     "model_module": "@jupyter-widgets/controls",
     "model_module_version": "1.5.0",
     "model_name": "HBoxModel",
     "state": {
      "_dom_classes": [],
      "_model_module": "@jupyter-widgets/controls",
      "_model_module_version": "1.5.0",
      "_model_name": "HBoxModel",
      "_view_count": null,
      "_view_module": "@jupyter-widgets/controls",
      "_view_module_version": "1.5.0",
      "_view_name": "HBoxView",
      "box_style": "",
      "children": [
       "IPY_MODEL_d8a8da62ec334b03b4ab11eea625d7f0",
       "IPY_MODEL_e7a622e051d643caace03bdec3330680",
       "IPY_MODEL_7943df18861c4c07affcc01c7b456b1c"
      ],
      "layout": "IPY_MODEL_bae61408dc34418a83f9c7fc0aa6f8dc"
     }
    },
    "4ec2e12fbdd645a79de25654f108f475": {
     "model_module": "@jupyter-widgets/controls",
     "model_module_version": "1.5.0",
     "model_name": "HTMLModel",
     "state": {
      "_dom_classes": [],
      "_model_module": "@jupyter-widgets/controls",
      "_model_module_version": "1.5.0",
      "_model_name": "HTMLModel",
      "_view_count": null,
      "_view_module": "@jupyter-widgets/controls",
      "_view_module_version": "1.5.0",
      "_view_name": "HTMLView",
      "description": "",
      "description_tooltip": null,
      "layout": "IPY_MODEL_d5fb1bbb46ca44f69e044d5dfc534f96",
      "placeholder": "​",
      "style": "IPY_MODEL_76ebe065b0d145f3a0d5705b297bd889",
      "value": "Parsing nodes: 100%"
     }
    },
    "573742e0a7664e27bda050eb3037acee": {
     "model_module": "@jupyter-widgets/controls",
     "model_module_version": "1.5.0",
     "model_name": "DescriptionStyleModel",
     "state": {
      "_model_module": "@jupyter-widgets/controls",
      "_model_module_version": "1.5.0",
      "_model_name": "DescriptionStyleModel",
      "_view_count": null,
      "_view_module": "@jupyter-widgets/base",
      "_view_module_version": "1.2.0",
      "_view_name": "StyleView",
      "description_width": ""
     }
    },
    "6737b0e4473a48b5bc6df5cdefd51faa": {
     "model_module": "@jupyter-widgets/controls",
     "model_module_version": "1.5.0",
     "model_name": "DescriptionStyleModel",
     "state": {
      "_model_module": "@jupyter-widgets/controls",
      "_model_module_version": "1.5.0",
      "_model_name": "DescriptionStyleModel",
      "_view_count": null,
      "_view_module": "@jupyter-widgets/base",
      "_view_module_version": "1.2.0",
      "_view_name": "StyleView",
      "description_width": ""
     }
    },
    "76ebe065b0d145f3a0d5705b297bd889": {
     "model_module": "@jupyter-widgets/controls",
     "model_module_version": "1.5.0",
     "model_name": "DescriptionStyleModel",
     "state": {
      "_model_module": "@jupyter-widgets/controls",
      "_model_module_version": "1.5.0",
      "_model_name": "DescriptionStyleModel",
      "_view_count": null,
      "_view_module": "@jupyter-widgets/base",
      "_view_module_version": "1.2.0",
      "_view_name": "StyleView",
      "description_width": ""
     }
    },
    "7943df18861c4c07affcc01c7b456b1c": {
     "model_module": "@jupyter-widgets/controls",
     "model_module_version": "1.5.0",
     "model_name": "HTMLModel",
     "state": {
      "_dom_classes": [],
      "_model_module": "@jupyter-widgets/controls",
      "_model_module_version": "1.5.0",
      "_model_name": "HTMLModel",
      "_view_count": null,
      "_view_module": "@jupyter-widgets/controls",
      "_view_module_version": "1.5.0",
      "_view_name": "HTMLView",
      "description": "",
      "description_tooltip": null,
      "layout": "IPY_MODEL_cfb607dae6e24e37a15ae950c22db578",
      "placeholder": "​",
      "style": "IPY_MODEL_6737b0e4473a48b5bc6df5cdefd51faa",
      "value": " 104/104 [10:09&lt;00:00,  5.98s/it]"
     }
    },
    "7ce15bcf8e8a423fbe297cc435bd9d0b": {
     "model_module": "@jupyter-widgets/controls",
     "model_module_version": "1.5.0",
     "model_name": "HTMLModel",
     "state": {
      "_dom_classes": [],
      "_model_module": "@jupyter-widgets/controls",
      "_model_module_version": "1.5.0",
      "_model_name": "HTMLModel",
      "_view_count": null,
      "_view_module": "@jupyter-widgets/controls",
      "_view_module_version": "1.5.0",
      "_view_name": "HTMLView",
      "description": "",
      "description_tooltip": null,
      "layout": "IPY_MODEL_800a78bb25f041c696b53a0cc9244f18",
      "placeholder": "​",
      "style": "IPY_MODEL_22e2b79115be4c5f95a247a459d14f76",
      "value": " 40/40 [00:01&lt;00:00,  2.73it/s]"
     }
    },
    "7d176f50392040c3be4e1d53d3235a3d": {
     "model_module": "@jupyter-widgets/base",
     "model_module_version": "1.2.0",
     "model_name": "LayoutModel",
     "state": {
      "_model_module": "@jupyter-widgets/base",
      "_model_module_version": "1.2.0",
      "_model_name": "LayoutModel",
      "_view_count": null,
      "_view_module": "@jupyter-widgets/base",
      "_view_module_version": "1.2.0",
      "_view_name": "LayoutView",
      "align_content": null,
      "align_items": null,
      "align_self": null,
      "border": null,
      "bottom": null,
      "display": null,
      "flex": null,
      "flex_flow": null,
      "grid_area": null,
      "grid_auto_columns": null,
      "grid_auto_flow": null,
      "grid_auto_rows": null,
      "grid_column": null,
      "grid_gap": null,
      "grid_row": null,
      "grid_template_areas": null,
      "grid_template_columns": null,
      "grid_template_rows": null,
      "height": null,
      "justify_content": null,
      "justify_items": null,
      "left": null,
      "margin": null,
      "max_height": null,
      "max_width": null,
      "min_height": null,
      "min_width": null,
      "object_fit": null,
      "object_position": null,
      "order": null,
      "overflow": null,
      "overflow_x": null,
      "overflow_y": null,
      "padding": null,
      "right": null,
      "top": null,
      "visibility": null,
      "width": null
     }
    },
    "800a78bb25f041c696b53a0cc9244f18": {
     "model_module": "@jupyter-widgets/base",
     "model_module_version": "1.2.0",
     "model_name": "LayoutModel",
     "state": {
      "_model_module": "@jupyter-widgets/base",
      "_model_module_version": "1.2.0",
      "_model_name": "LayoutModel",
      "_view_count": null,
      "_view_module": "@jupyter-widgets/base",
      "_view_module_version": "1.2.0",
      "_view_name": "LayoutView",
      "align_content": null,
      "align_items": null,
      "align_self": null,
      "border": null,
      "bottom": null,
      "display": null,
      "flex": null,
      "flex_flow": null,
      "grid_area": null,
      "grid_auto_columns": null,
      "grid_auto_flow": null,
      "grid_auto_rows": null,
      "grid_column": null,
      "grid_gap": null,
      "grid_row": null,
      "grid_template_areas": null,
      "grid_template_columns": null,
      "grid_template_rows": null,
      "height": null,
      "justify_content": null,
      "justify_items": null,
      "left": null,
      "margin": null,
      "max_height": null,
      "max_width": null,
      "min_height": null,
      "min_width": null,
      "object_fit": null,
      "object_position": null,
      "order": null,
      "overflow": null,
      "overflow_x": null,
      "overflow_y": null,
      "padding": null,
      "right": null,
      "top": null,
      "visibility": null,
      "width": null
     }
    },
    "901ff9d965e94f9e8f152896eb89b401": {
     "model_module": "@jupyter-widgets/controls",
     "model_module_version": "1.5.0",
     "model_name": "FloatProgressModel",
     "state": {
      "_dom_classes": [],
      "_model_module": "@jupyter-widgets/controls",
      "_model_module_version": "1.5.0",
      "_model_name": "FloatProgressModel",
      "_view_count": null,
      "_view_module": "@jupyter-widgets/controls",
      "_view_module_version": "1.5.0",
      "_view_name": "ProgressView",
      "bar_style": "success",
      "description": "",
      "description_tooltip": null,
      "layout": "IPY_MODEL_b65f89bdd94245efb71cf1567aa72f64",
      "max": 40,
      "min": 0,
      "orientation": "horizontal",
      "style": "IPY_MODEL_d48a107f32f54f5e9f97c23407722848",
      "value": 40
     }
    },
    "92d57e0eee084f6db4bbad8b72d7b9ef": {
     "model_module": "@jupyter-widgets/controls",
     "model_module_version": "1.5.0",
     "model_name": "ProgressStyleModel",
     "state": {
      "_model_module": "@jupyter-widgets/controls",
      "_model_module_version": "1.5.0",
      "_model_name": "ProgressStyleModel",
      "_view_count": null,
      "_view_module": "@jupyter-widgets/base",
      "_view_module_version": "1.2.0",
      "_view_name": "StyleView",
      "bar_color": null,
      "description_width": ""
     }
    },
    "b65f89bdd94245efb71cf1567aa72f64": {
     "model_module": "@jupyter-widgets/base",
     "model_module_version": "1.2.0",
     "model_name": "LayoutModel",
     "state": {
      "_model_module": "@jupyter-widgets/base",
      "_model_module_version": "1.2.0",
      "_model_name": "LayoutModel",
      "_view_count": null,
      "_view_module": "@jupyter-widgets/base",
      "_view_module_version": "1.2.0",
      "_view_name": "LayoutView",
      "align_content": null,
      "align_items": null,
      "align_self": null,
      "border": null,
      "bottom": null,
      "display": null,
      "flex": null,
      "flex_flow": null,
      "grid_area": null,
      "grid_auto_columns": null,
      "grid_auto_flow": null,
      "grid_auto_rows": null,
      "grid_column": null,
      "grid_gap": null,
      "grid_row": null,
      "grid_template_areas": null,
      "grid_template_columns": null,
      "grid_template_rows": null,
      "height": null,
      "justify_content": null,
      "justify_items": null,
      "left": null,
      "margin": null,
      "max_height": null,
      "max_width": null,
      "min_height": null,
      "min_width": null,
      "object_fit": null,
      "object_position": null,
      "order": null,
      "overflow": null,
      "overflow_x": null,
      "overflow_y": null,
      "padding": null,
      "right": null,
      "top": null,
      "visibility": null,
      "width": null
     }
    },
    "bae61408dc34418a83f9c7fc0aa6f8dc": {
     "model_module": "@jupyter-widgets/base",
     "model_module_version": "1.2.0",
     "model_name": "LayoutModel",
     "state": {
      "_model_module": "@jupyter-widgets/base",
      "_model_module_version": "1.2.0",
      "_model_name": "LayoutModel",
      "_view_count": null,
      "_view_module": "@jupyter-widgets/base",
      "_view_module_version": "1.2.0",
      "_view_name": "LayoutView",
      "align_content": null,
      "align_items": null,
      "align_self": null,
      "border": null,
      "bottom": null,
      "display": null,
      "flex": null,
      "flex_flow": null,
      "grid_area": null,
      "grid_auto_columns": null,
      "grid_auto_flow": null,
      "grid_auto_rows": null,
      "grid_column": null,
      "grid_gap": null,
      "grid_row": null,
      "grid_template_areas": null,
      "grid_template_columns": null,
      "grid_template_rows": null,
      "height": null,
      "justify_content": null,
      "justify_items": null,
      "left": null,
      "margin": null,
      "max_height": null,
      "max_width": null,
      "min_height": null,
      "min_width": null,
      "object_fit": null,
      "object_position": null,
      "order": null,
      "overflow": null,
      "overflow_x": null,
      "overflow_y": null,
      "padding": null,
      "right": null,
      "top": null,
      "visibility": null,
      "width": null
     }
    },
    "cfb607dae6e24e37a15ae950c22db578": {
     "model_module": "@jupyter-widgets/base",
     "model_module_version": "1.2.0",
     "model_name": "LayoutModel",
     "state": {
      "_model_module": "@jupyter-widgets/base",
      "_model_module_version": "1.2.0",
      "_model_name": "LayoutModel",
      "_view_count": null,
      "_view_module": "@jupyter-widgets/base",
      "_view_module_version": "1.2.0",
      "_view_name": "LayoutView",
      "align_content": null,
      "align_items": null,
      "align_self": null,
      "border": null,
      "bottom": null,
      "display": null,
      "flex": null,
      "flex_flow": null,
      "grid_area": null,
      "grid_auto_columns": null,
      "grid_auto_flow": null,
      "grid_auto_rows": null,
      "grid_column": null,
      "grid_gap": null,
      "grid_row": null,
      "grid_template_areas": null,
      "grid_template_columns": null,
      "grid_template_rows": null,
      "height": null,
      "justify_content": null,
      "justify_items": null,
      "left": null,
      "margin": null,
      "max_height": null,
      "max_width": null,
      "min_height": null,
      "min_width": null,
      "object_fit": null,
      "object_position": null,
      "order": null,
      "overflow": null,
      "overflow_x": null,
      "overflow_y": null,
      "padding": null,
      "right": null,
      "top": null,
      "visibility": null,
      "width": null
     }
    },
    "d23b43c1924b4f62bc346585556bb031": {
     "model_module": "@jupyter-widgets/base",
     "model_module_version": "1.2.0",
     "model_name": "LayoutModel",
     "state": {
      "_model_module": "@jupyter-widgets/base",
      "_model_module_version": "1.2.0",
      "_model_name": "LayoutModel",
      "_view_count": null,
      "_view_module": "@jupyter-widgets/base",
      "_view_module_version": "1.2.0",
      "_view_name": "LayoutView",
      "align_content": null,
      "align_items": null,
      "align_self": null,
      "border": null,
      "bottom": null,
      "display": null,
      "flex": null,
      "flex_flow": null,
      "grid_area": null,
      "grid_auto_columns": null,
      "grid_auto_flow": null,
      "grid_auto_rows": null,
      "grid_column": null,
      "grid_gap": null,
      "grid_row": null,
      "grid_template_areas": null,
      "grid_template_columns": null,
      "grid_template_rows": null,
      "height": null,
      "justify_content": null,
      "justify_items": null,
      "left": null,
      "margin": null,
      "max_height": null,
      "max_width": null,
      "min_height": null,
      "min_width": null,
      "object_fit": null,
      "object_position": null,
      "order": null,
      "overflow": null,
      "overflow_x": null,
      "overflow_y": null,
      "padding": null,
      "right": null,
      "top": null,
      "visibility": null,
      "width": null
     }
    },
    "d48a107f32f54f5e9f97c23407722848": {
     "model_module": "@jupyter-widgets/controls",
     "model_module_version": "1.5.0",
     "model_name": "ProgressStyleModel",
     "state": {
      "_model_module": "@jupyter-widgets/controls",
      "_model_module_version": "1.5.0",
      "_model_name": "ProgressStyleModel",
      "_view_count": null,
      "_view_module": "@jupyter-widgets/base",
      "_view_module_version": "1.2.0",
      "_view_name": "StyleView",
      "bar_color": null,
      "description_width": ""
     }
    },
    "d5fb1bbb46ca44f69e044d5dfc534f96": {
     "model_module": "@jupyter-widgets/base",
     "model_module_version": "1.2.0",
     "model_name": "LayoutModel",
     "state": {
      "_model_module": "@jupyter-widgets/base",
      "_model_module_version": "1.2.0",
      "_model_name": "LayoutModel",
      "_view_count": null,
      "_view_module": "@jupyter-widgets/base",
      "_view_module_version": "1.2.0",
      "_view_name": "LayoutView",
      "align_content": null,
      "align_items": null,
      "align_self": null,
      "border": null,
      "bottom": null,
      "display": null,
      "flex": null,
      "flex_flow": null,
      "grid_area": null,
      "grid_auto_columns": null,
      "grid_auto_flow": null,
      "grid_auto_rows": null,
      "grid_column": null,
      "grid_gap": null,
      "grid_row": null,
      "grid_template_areas": null,
      "grid_template_columns": null,
      "grid_template_rows": null,
      "height": null,
      "justify_content": null,
      "justify_items": null,
      "left": null,
      "margin": null,
      "max_height": null,
      "max_width": null,
      "min_height": null,
      "min_width": null,
      "object_fit": null,
      "object_position": null,
      "order": null,
      "overflow": null,
      "overflow_x": null,
      "overflow_y": null,
      "padding": null,
      "right": null,
      "top": null,
      "visibility": null,
      "width": null
     }
    },
    "d8a8da62ec334b03b4ab11eea625d7f0": {
     "model_module": "@jupyter-widgets/controls",
     "model_module_version": "1.5.0",
     "model_name": "HTMLModel",
     "state": {
      "_dom_classes": [],
      "_model_module": "@jupyter-widgets/controls",
      "_model_module_version": "1.5.0",
      "_model_name": "HTMLModel",
      "_view_count": null,
      "_view_module": "@jupyter-widgets/controls",
      "_view_module_version": "1.5.0",
      "_view_name": "HTMLView",
      "description": "",
      "description_tooltip": null,
      "layout": "IPY_MODEL_1881a0688da64a11a929f95cae871a99",
      "placeholder": "​",
      "style": "IPY_MODEL_573742e0a7664e27bda050eb3037acee",
      "value": "Processing nodes: 100%"
     }
    },
    "e7a622e051d643caace03bdec3330680": {
     "model_module": "@jupyter-widgets/controls",
     "model_module_version": "1.5.0",
     "model_name": "FloatProgressModel",
     "state": {
      "_dom_classes": [],
      "_model_module": "@jupyter-widgets/controls",
      "_model_module_version": "1.5.0",
      "_model_name": "FloatProgressModel",
      "_view_count": null,
      "_view_module": "@jupyter-widgets/controls",
      "_view_module_version": "1.5.0",
      "_view_name": "ProgressView",
      "bar_style": "success",
      "description": "",
      "description_tooltip": null,
      "layout": "IPY_MODEL_d23b43c1924b4f62bc346585556bb031",
      "max": 104,
      "min": 0,
      "orientation": "horizontal",
      "style": "IPY_MODEL_92d57e0eee084f6db4bbad8b72d7b9ef",
      "value": 104
     }
    }
   }
  }
 },
 "nbformat": 4,
 "nbformat_minor": 0
}
