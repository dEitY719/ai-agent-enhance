{
 "cells": [
  {
   "cell_type": "markdown",
   "id": "8479ab85",
   "metadata": {},
   "source": [
    "# RAGAS를 활용한 데이터 생성\n",
    "\n",
    "RAGAS 라이브러리에서는 데이터 생성 및 합성 기능 또한 제공합니다."
   ]
  },
  {
   "cell_type": "code",
   "execution_count": null,
   "id": "280f1edd",
   "metadata": {},
   "outputs": [
    {
     "name": "stdout",
     "output_type": "stream",
     "text": [
      "OpenAI API Key: ········\n"
     ]
    }
   ],
   "source": [
    "import os\n",
    "from dotenv import load_dotenv\n",
    "\n",
    "# .env 파일 로드, 환경 변수에서 API 키 읽기\n",
    "load_dotenv()\n",
    "os.environ[\"OPENAI_API_KEY\"] = os.getenv(\"OPENAI_API_KEY\")"
   ]
  },
  {
   "cell_type": "code",
   "execution_count": 3,
   "id": "db41b8fe",
   "metadata": {},
   "outputs": [
    {
     "name": "stderr",
     "output_type": "stream",
     "text": [
      "/home/elicer/.local/lib/python3.10/site-packages/tqdm/auto.py:21: TqdmWarning: IProgress not found. Please update jupyter and ipywidgets. See https://ipywidgets.readthedocs.io/en/stable/user_install.html\n",
      "  from .autonotebook import tqdm as notebook_tqdm\n"
     ]
    }
   ],
   "source": [
    "from ragas.testset import TestsetGenerator\n",
    "from ragas.testset.graph import KnowledgeGraph, Node, NodeType\n",
    "from ragas.testset.transforms import apply_transforms, HeadlinesExtractor, HeadlineSplitter, KeyphrasesExtractor\n",
    "from ragas.testset.persona import Persona\n",
    "from ragas.testset.synthesizers.single_hop.specific import SingleHopSpecificQuerySynthesizer\n",
    "from ragas.llms import LangchainLLMWrapper\n",
    "from ragas.embeddings import LangchainEmbeddingsWrapper\n",
    "\n",
    "from langchain_openai import ChatOpenAI, OpenAIEmbeddings\n",
    "from langchain_community.document_loaders import PyPDFLoader\n",
    "from langchain_text_splitters import RecursiveCharacterTextSplitter\n",
    "import pandas as pd"
   ]
  },
  {
   "cell_type": "code",
   "execution_count": null,
   "id": "bb629b05",
   "metadata": {},
   "outputs": [],
   "source": [
    "# 1. LLM과 임베딩 모델 설정 및 Ragas 래퍼 적용\n",
    "generator_llm = LangchainLLMWrapper(ChatOpenAI(model=\"gpt-4o-mini\"))\n",
    "\n",
    "# embedding_model\n",
    "generator_embeddings = LangchainEmbeddingsWrapper(OpenAIEmbeddings(model=\"text-embedding-3-small\"))\n",
    "\n",
    "# 2. 문서 로드 및 전처리\n",
    "loader = PyPDFLoader(\"./National_AI_Plan.pdf\")\n",
    "pdf = loader.load()\n",
    "\n",
    "\n",
    "# 문서 분할 (긴 문서의 경우)\n",
    "text_splitter = RecursiveCharacterTextSplitter(\n",
    "    chunk_size=1500,  # 튜토리얼의 HeadlineSplitter max_tokens와 유사하게 설정\n",
    "    chunk_overlap=200\n",
    ")\n",
    "documents = text_splitter.split_documents(pdf)\n",
    "\n",
    "# 너무 짧은 문서 제거 (Ragas 처리 시 오류 방지)\n",
    "processed_documents = [doc for doc in documents if len(doc.page_content) > 100]\n",
    "print(f\"총 {len(pdf)} 페이지에서 {len(processed_documents)}개의 문서 조각을 생성했습니다.\")"
   ]
  },
  {
   "cell_type": "markdown",
   "id": "058d65af",
   "metadata": {},
   "source": [
    "비정형 데이터(문서 텍스트)를 Ragas가 이해하고 활용할 수 있는 구조적인 형태로 만들기 위해 지식 그래프로 변환합니다.  \n",
    "\n",
    "`TestsetGenerator`는 전체 문서에서 무작위로 질문을 만드는 것이 아니라, 지식 그래프의 특정 노드 하나를 선택하고 그 노드의 내용과 속성(헤드라인, 키워드 등)에 집중하여 질문을 생성합니다. 이는 생성된 질문이 특정 컨텍스트에 기반하고, 그에 대한 '정답' 역시 해당 노드 내용으로 한정될 수 있게 해줍니다. 이는 RAG 평가의 신뢰도를 높입니다."
   ]
  },
  {
   "cell_type": "code",
   "execution_count": null,
   "id": "8117c895",
   "metadata": {},
   "outputs": [],
   "source": [
    "# 3. 문서를 지식 그래프의 노드로 변환\n",
    "kg = KnowledgeGraph()\n",
    "\n",
    "for doc in processed_documents:\n",
    "    kg.nodes.append(\n",
    "        Node(\n",
    "            type=NodeType.DOCUMENT,\n",
    "            properties={\"page_content\": doc.page_content, \"document_metadata\": doc.metadata}\n",
    "        )\n",
    "    )\n",
    "\n",
    "print(f\"\\n초기 지식 그래프 상태: {kg}\")"
   ]
  },
  {
   "cell_type": "markdown",
   "id": "5696b16d",
   "metadata": {},
   "source": [
    "지식 그래프의 노드에 저장된 정보를 더 풍부하게 만들어, 더 다양하고 품질 좋은 질문을 생성하기 위해서 변환을 적용합니다.\n",
    "\n",
    "- `HeadlinesExtractor` (헤드라인 추출): 문서 조각에서 소제목이나 핵심 주제를 추출하여 노드에 'headlines' 속성으로 추가합니다. \n",
    "\n",
    "- `KeyphrasesExtractor` (키워드 추출): 문서 조각의 핵심 키워드들을 추출하여 노드에 'keyphrases' 속성으로 추가합니다. \n",
    "\n",
    "- `HeadlineSplitter` (헤드라인 기준 분할): 하나의 노드가 너무 길고 여러 주제를 포함하고 있을 때, 추출된 헤드라인을 기준으로 노드를 더 작고 의미 있는 단위로 쪼개줍니다. 이렇게 하면 각 노드가 하나의 주제에 더 집중하게 되어, 질문과 정답의 명확성이 높아집니다."
   ]
  },
  {
   "cell_type": "code",
   "execution_count": null,
   "id": "905d5341",
   "metadata": {},
   "outputs": [],
   "source": [
    "# 4. 변환(Transforms) 설정 및 적용\n",
    "# 헤드라인, 키워드 추출 등을 통해 그래프를 풍부하게 만듭니다.\n",
    "headline_extractor = HeadlinesExtractor(llm=generator_llm, max_num=5) # 문서당 최대 5개 헤드라인 추출\n",
    "headline_splitter = HeadlineSplitter(max_tokens=1500)\n",
    "keyphrase_extractor = KeyphrasesExtractor(llm=generator_llm)\n",
    "\n",
    "transforms = [\n",
    "    headline_extractor,\n",
    "    headline_splitter,\n",
    "    keyphrase_extractor\n",
    "]\n",
    "\n",
    "# 변환 적용\n",
    "apply_transforms(kg, transforms=transforms)\n",
    "print(f\"변환 적용 후 지식 그래프 상태: {kg}\\n\")"
   ]
  },
  {
   "cell_type": "code",
   "execution_count": null,
   "id": "c413919f",
   "metadata": {},
   "outputs": [],
   "source": [
    "# 5. 페르소나 설정\n",
    "# '국가 AI 전략' 문서에 어울리는 가상의 페르소나를 정의합니다.\n",
    "persona_policy_maker = Persona(\n",
    "    name=\"정부 정책 입안자\",\n",
    "    role_description=\"국가 AI 전략의 실행 계획, 예산, 부처 간 협력 방안에 대해 구체적이고 현실적인 질문을 합니다. 정책의 기대 효과와 잠재적 리스크에 관심이 많습니다.\",\n",
    ")\n",
    "\n",
    "persona_ai_researcher = Persona(\n",
    "    name=\"AI 연구원\",\n",
    "    role_description=\"AI 기술 개발, 연구 지원, 인재 양성, 데이터 인프라 구축 등 기술적인 세부 사항에 대해 깊이 있는 질문을 합니다. 최신 기술 동향과 전략의 연관성을 파악하고자 합니다.\",\n",
    ")\n",
    "\n",
    "persona_concerned_citizen = Persona(\n",
    "    name=\"관심 있는 시민\",\n",
    "    role_description=\"AI 기술이 일상 생활과 사회에 미칠 영향, 특히 윤리 문제, 일자리 변화, 개인정보 보호에 대해 우려 섞인 질문을 합니다. 일반인이 이해하기 쉬운 설명을 요구합니다.\",\n",
    ")\n",
    "\n",
    "personas = [persona_policy_maker, persona_ai_researcher, persona_concerned_citizen]\n"
   ]
  },
  {
   "cell_type": "markdown",
   "id": "3f438549",
   "metadata": {},
   "source": [
    "- `Synthesizer`: 질문과 답변 쌍을 생성하는 엔진입니다. 지식 그래프의 노드와 페르소나 정보를 입력받아, LLM을 활용하여 최종적인 테스트 데이터를 만들어내는 역할을 합니다.\n",
    "\n",
    "- `SingleHopSpecificQuerySynthesizer`: 하나의 노드에서 얻은 구체적인 정보(헤드라인, 키워드 등)를 바탕으로, 해당 노드의 내용만으로 답변할 수 있는 명확한 질문과 정답 쌍을 만드는 역할을 합니다.\n",
    "    - `SingleHop`: 질문에 대한 답을 하나의 문서(또는 하나의 노드) 안에서 찾을 수 있다는 의미\n",
    "    - `MultiHop`: 여러 문서에 흩어져 있는 정보를 종합해야만 답할 수 있는 복잡한 질문\n",
    "    - `SpecificQuery`: 일반적이거나 모호한 질문이 아닌, 구체적인 정보를 묻는 질문을 생성"
   ]
  },
  {
   "cell_type": "code",
   "execution_count": null,
   "id": "1302df1b",
   "metadata": {},
   "outputs": [],
   "source": [
    "# 6. 신디사이저(Synthesizer)를 이용한 질문 생성 방식 정의\n",
    "# 헤드라인과 키워드를 기반으로 질문을 생성하도록 설정합니다(1:1 비율).\n",
    "query_distribution = [\n",
    "    (\n",
    "        SingleHopSpecificQuerySynthesizer(llm=generator_llm, property_name=\"headlines\"),\n",
    "        0.5,\n",
    "    ),\n",
    "    (\n",
    "        SingleHopSpecificQuerySynthesizer(\n",
    "            llm=generator_llm, property_name=\"keyphrases\"\n",
    "        ),\n",
    "        0.5,\n",
    "    ),\n",
    "]"
   ]
  },
  {
   "cell_type": "code",
   "execution_count": null,
   "id": "818289f0",
   "metadata": {},
   "outputs": [],
   "source": [
    "# 7. 테스트셋 생성기(TestsetGenerator) 초기화 및 생성\n",
    "generator = TestsetGenerator(\n",
    "    llm=generator_llm,\n",
    "    embedding_model=generator_embeddings,\n",
    "    knowledge_graph=kg,\n",
    "    persona_list=personas,\n",
    ")\n",
    "\n",
    "# 테스트셋 생성 실행 (시간이 다소 소요될 수 있습니다)\n",
    "testset_size = 10\n",
    "testset = generator.generate(testset_size=testset_size, query_distribution=query_distribution)\n"
   ]
  },
  {
   "cell_type": "code",
   "execution_count": null,
   "id": "5d6c981e",
   "metadata": {},
   "outputs": [],
   "source": [
    "# 8. 생성된 테스트셋을 pandas DataFrame으로 변환\n",
    "df = testset.to_pandas()\n",
    "pd.set_option('display.max_colwidth', None)\n",
    "print(df)"
   ]
  },
  {
   "cell_type": "code",
   "execution_count": null,
   "id": "93ff8275",
   "metadata": {},
   "outputs": [],
   "source": [
    "df.to_csv(\"ragas_testset.csv\", index=False)"
   ]
  }
 ],
 "metadata": {
  "kernelspec": {
   "display_name": "Python 3 (ipykernel)",
   "language": "python",
   "name": "python3"
  },
  "language_info": {
   "codemirror_mode": {
    "name": "ipython",
    "version": 3
   },
   "file_extension": ".py",
   "mimetype": "text/x-python",
   "name": "python",
   "nbconvert_exporter": "python",
   "pygments_lexer": "ipython3",
   "version": "3.10.14"
  }
 },
 "nbformat": 4,
 "nbformat_minor": 5
}
