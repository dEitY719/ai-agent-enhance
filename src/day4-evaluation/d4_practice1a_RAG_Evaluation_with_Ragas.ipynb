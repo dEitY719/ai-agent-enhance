{
 "cells": [
  {
   "cell_type": "markdown",
   "id": "a815e8a2",
   "metadata": {
    "id": "a815e8a2"
   },
   "source": [
    "# `Naive RAG`, `Advanced RAG` 구현 코드\n",
    "\n",
    "### 실습 목표\n",
    "Naive RAG와 Re-ranker를 도입한 Advanced RAG를 구축할 수 있습니다. 두 파이프라인의 응답 결과를 직관적으로 비교하며, 정량적 평가의 필요성을 체감합니다."
   ]
  },
  {
   "cell_type": "markdown",
   "id": "f5170bfb",
   "metadata": {
    "id": "f5170bfb"
   },
   "source": [
    "## 1. 환경 설정\n",
    "필요한 라이브러리를 설치하고 불러옵니다."
   ]
  },
  {
   "cell_type": "code",
   "execution_count": null,
   "id": "343ee6c5",
   "metadata": {
    "id": "343ee6c5"
   },
   "outputs": [],
   "source": [
    "import os\n",
    "import requests\n",
    "\n",
    "# LangChain 관련 라이브러리\n",
    "# PDF 로더를 위해 PyPDFLoader를 추가합니다.\n",
    "from langchain_community.document_loaders import PyPDFLoader\n",
    "from langchain_community.vectorstores import FAISS\n",
    "from langchain_community.cross_encoders import HuggingFaceCrossEncoder\n",
    "from langchain_core.output_parsers import StrOutputParser\n",
    "from langchain_core.prompts import ChatPromptTemplate\n",
    "from langchain_core.runnables import RunnablePassthrough\n",
    "from langchain_openai import ChatOpenAI\n",
    "from langchain.embeddings import HuggingFaceEmbeddings\n",
    "from langchain.text_splitter import RecursiveCharacterTextSplitter\n",
    "from langchain.retrievers import ContextualCompressionRetriever\n",
    "from langchain.retrievers.document_compressors import CrossEncoderReranker\n",
    "from langchain.chains.combine_documents import create_stuff_documents_chain"
   ]
  },
  {
   "cell_type": "code",
   "execution_count": null,
   "id": "f7dcf4d1",
   "metadata": {
    "id": "f7dcf4d1"
   },
   "outputs": [
    {
     "name": "stdout",
     "output_type": "stream",
     "text": [
      "OpenAI API Key: ········\n"
     ]
    }
   ],
   "source": [
    "import os\n",
    "from dotenv import load_dotenv\n",
    "\n",
    "# .env 파일 로드, 환경 변수에서 API 키 읽기\n",
    "load_dotenv()\n",
    "os.environ[\"OPENAI_API_KEY\"] = os.getenv(\"OPENAI_API_KEY\")"
   ]
  },
  {
   "cell_type": "markdown",
   "id": "6a803723",
   "metadata": {
    "id": "6a803723"
   },
   "source": [
    "## 1. 샘플 문서 로드\n",
    "비교를 위해 의미 있는 내용이 충분히 담긴 문서를 로드합니다.  \n",
    "여기서는 **한국지능정보사회진흥원**의 AI국가전략 보고서 중 \"전국민 AI 일상화 실행 계획\"을 사용하겠습니다.\n",
    " - https://www.nia.or.kr/site/nia_kor/ex/bbs/View.do?cbIdx=99952&bcIdx=27378&parentSeq=27378"
   ]
  },
  {
   "cell_type": "code",
   "execution_count": 5,
   "id": "B4_e0MgrjlaF",
   "metadata": {
    "colab": {
     "base_uri": "https://localhost:8080/"
    },
    "id": "B4_e0MgrjlaF",
    "outputId": "f90baff3-c02a-43aa-f630-75057a8243aa",
    "scrolled": true
   },
   "outputs": [
    {
     "name": "stdout",
     "output_type": "stream",
     "text": [
      "-6-\n",
      " Ⅲ. 국내 현황 진단◈전 세계적 디지털 모범국가로 나아가기 위한 정부의 전략 추진과민간의 선제적 혁신으로 전국민 AI일상화초석 마련○(정부)디지털 심화 시대에 대응한 신속한 전략･\n",
      "정책추진을 통해 AI기술･\n",
      "산업 경쟁력을 강화하고 민간 혁신을 뒷받침  * 대한민국 디지털 전략(‘22.9) → AI일상화·산업 고도화계획(’23.1)→초거대 AI경쟁력강화방안(‘23.4)-｢\n",
      "AI법제정비단(’23.8~)｣\n",
      "를 통해 AI확산에 따른 사회적 이슈를 정비하고,AI거버넌스 정립과 공동 번영을 위한 글로벌 협력 본격화○(민간)독자적 초거대 AI개발･\n",
      "출시 본격화,중소･\n",
      "스타트업 중심의다양한 응용서비스출시 등 산업 생태계 조성시작네이버, ‘클로바’LG, ‘엑사원’카카오, KoGPT SKT, ‘에이닷’KT, ‘믿음’\n",
      "-의료 등 다양한 도메인에서의중소·스타트업 역시 초거대 AI기반전문서비스를 출시,체감되는 AI활용·확산을 주도\n",
      "* 의료 AI 기업 ‘루닛’이 美정부의 암정복 프로젝트 ‘캔서 문샷\n"
     ]
    }
   ],
   "source": [
    "loader = PyPDFLoader(\"./National_AI_Plan.pdf\")\n",
    "documents = loader.load()\n",
    "\n",
    "## 문서를 잘 읽고 있는지 페이지를 달리하면서, 확인해보세요\n",
    "print(documents[15].page_content[:500])"
   ]
  },
  {
   "cell_type": "code",
   "execution_count": 6,
   "id": "34dba45c",
   "metadata": {
    "colab": {
     "base_uri": "https://localhost:8080/"
    },
    "id": "34dba45c",
    "outputId": "28764145-508a-46a2-b902-33e02651c93d"
   },
   "outputs": [
    {
     "name": "stdout",
     "output_type": "stream",
     "text": [
      "총 문서 개수: 46\n"
     ]
    }
   ],
   "source": [
    "# 문서 분할\n",
    "text_splitter = RecursiveCharacterTextSplitter(chunk_size=1000, chunk_overlap=150)\n",
    "docs = text_splitter.split_documents(documents)\n",
    "\n",
    "print(f\"총 문서 개수: {len(docs)}\")"
   ]
  },
  {
   "cell_type": "markdown",
   "id": "A9J548IVFI3g",
   "metadata": {
    "id": "A9J548IVFI3g"
   },
   "source": [
    "## 2. 공통 컴포넌트 준비\n",
    "Naive RAG와 Advanced RAG에서 공통으로 사용할 LLM, 임베딩 모델, 프롬프트 템플릿을 정의합니다."
   ]
  },
  {
   "cell_type": "code",
   "execution_count": 7,
   "id": "MV3x6tk_FiEP",
   "metadata": {
    "id": "MV3x6tk_FiEP"
   },
   "outputs": [],
   "source": [
    "# LLM 초기화\n",
    "llm = ChatOpenAI(\n",
    "    model_name = \"gpt-4o-mini\",\n",
    "    temperature=0\n",
    ")"
   ]
  },
  {
   "cell_type": "code",
   "execution_count": 8,
   "id": "53317c70",
   "metadata": {},
   "outputs": [],
   "source": [
    "from langchain_openai import OpenAIEmbeddings\n",
    "\n",
    "embeddings = OpenAIEmbeddings(\n",
    "    model = \"text-embedding-3-small\",\n",
    ")"
   ]
  },
  {
   "cell_type": "code",
   "execution_count": 9,
   "id": "tkWOZNPTFodw",
   "metadata": {
    "colab": {
     "base_uri": "https://localhost:8080/"
    },
    "id": "tkWOZNPTFodw",
    "outputId": "ff90854a-113c-4b87-fb50-1786b5c6bb69"
   },
   "outputs": [
    {
     "name": "stdout",
     "output_type": "stream",
     "text": [
      "--- 공통 컴포넌트(LLM, Embedding, Prompt, Test_query) 준비 완료 ---\n"
     ]
    }
   ],
   "source": [
    "prompt_template = \"\"\"\n",
    "당신은 주어진 문맥(context)만을 사용하여 사용자의 질문에 답변하는 AI 어시스턴트입니다.\n",
    "문맥은 '전국민 AI 일상화 실행 계획' 보고서의 일부입니다.\n",
    "주어진 문맥의 내용을 충실하게 요약하여, 질문에 명확하고 간결하게 답변해주세요.\n",
    "절대로 문맥에 없는 내용을 지어내서 답변하면 안 됩니다. 문맥에서 답을 찾을 수 없다면 \"문맥에서 관련 정보를 찾을 수 없습니다.\"라고 답변하세요.\n",
    "\n",
    "[문맥]\n",
    "{context}\n",
    "\n",
    "[질문]\n",
    "{question}\n",
    "\n",
    "[답변]\n",
    "\"\"\"\n",
    "prompt = ChatPromptTemplate.from_template(prompt_template)\n",
    "\n",
    "Test_query = \"정보통신전략위원회는 어떤 역할을 하나요?\"\n",
    "\n",
    "print(\"--- 공통 컴포넌트(LLM, Embedding, Prompt, Test_query) 준비 완료 ---\")"
   ]
  },
  {
   "cell_type": "markdown",
   "id": "8208db39",
   "metadata": {
    "id": "8208db39"
   },
   "source": [
    "## [TODO] 3. 기본 RAG 구현 (Naive RAG)\n",
    "가장 기본적인 RAG 체인을 구현합니다. `검색(Retrieve) -> 생성(Generate)`의 단순한 구조입니다.  \n",
    "\n",
    "빈 칸을 채워주세요"
   ]
  },
  {
   "cell_type": "code",
   "execution_count": 20,
   "id": "4539cc3f",
   "metadata": {
    "colab": {
     "base_uri": "https://localhost:8080/"
    },
    "id": "4539cc3f",
    "outputId": "b40f2f6d-1302-4340-d427-c918f14f7d9f"
   },
   "outputs": [
    {
     "name": "stdout",
     "output_type": "stream",
     "text": [
      "\n",
      "--- Naive RAG 실행 결과 ---\n",
      "질문: 정보통신전략위원회는 어떤 역할을 하나요?\n",
      "답변: 정보통신전략위원회는 '전국민 AI 일상화 실행 계획'의 추진실적을 점검하는 역할을 합니다.\n"
     ]
    }
   ],
   "source": [
    "from operator import itemgetter\n",
    "\n",
    "# FAISS 벡터 스토어 생성\n",
    "naive_vectorstore = FAISS.from_documents(docs, embeddings)\n",
    "\n",
    "# 기본 검색기 생성 (k=10)\n",
    "# k=10은 10개의 가장 유사한 문서를 반환하도록 설정합니다.\n",
    "# 즉, naive_vectorstore 를 runnable 하게 만들기 위해 as_retriever 를 호출\n",
    "naive_retriever = naive_vectorstore.as_retriever(search_kwargs={\"k\": 10})\n",
    "\n",
    "# Document Chain 생성\n",
    "naive_chain = create_stuff_documents_chain(llm, prompt)\n",
    "\n",
    "# Naive RAG 체인 구성 (파이프라인 방식)\n",
    "# below code is made by GEMINI\n",
    "# naive_rag_chain = (\n",
    "#     RunnablePassthrough.assign(context=(lambda x: x[\"question\"]) | naive_retriever)\n",
    "#     | naive_chain\n",
    "# )\n",
    "# below code is made by 강사님\n",
    "# 강사님 스타일 코드로 수정하고 TypeError를 해결합니다.\n",
    "naive_rag_chain = (\n",
    "    {\"context\": itemgetter(\"question\") | naive_retriever, \"question\": RunnablePassthrough()}\n",
    "    | naive_chain\n",
    ")\n",
    "\n",
    "\n",
    "def naive_rag(query):\n",
    "    \"\"\"기본 RAG 체인으로 답변을 생성합니다.\"\"\"\n",
    "    result = naive_rag_chain.invoke({\"question\": query})\n",
    "    return result\n",
    "\n",
    "# 테스트 쿼리 실행\n",
    "print(\"\\n--- Naive RAG 실행 결과 ---\")\n",
    "answer = naive_rag(Test_query)\n",
    "print(f\"질문: {Test_query}\")\n",
    "print(f\"답변: {answer}\")"
   ]
  },
  {
   "cell_type": "markdown",
   "id": "39eed0ea",
   "metadata": {
    "id": "39eed0ea"
   },
   "source": [
    "테스트 쿼리를 실행해 Naive RAG의 작동을 확인합니다."
   ]
  },
  {
   "cell_type": "code",
   "execution_count": 11,
   "id": "66a18c44",
   "metadata": {
    "colab": {
     "base_uri": "https://localhost:8080/"
    },
    "id": "66a18c44",
    "outputId": "77801cd5-5506-4dea-b274-a3c86543ccd9"
   },
   "outputs": [
    {
     "name": "stdout",
     "output_type": "stream",
     "text": [
      "Test_query:  정보통신전략위원회는 어떤 역할을 하나요?\n",
      "===========================================================================\n",
      "Naive RAG 답변:\n",
      "정보통신전략위원회는 '전국민 AI 일상화 실행 계획'의 추진실적을 점검하는 역할을 합니다.\n"
     ]
    }
   ],
   "source": [
    "# Naive RAG 실행\n",
    "print(\"Test_query: \", Test_query)\n",
    "print(\"=\"*75)\n",
    "print(\"Naive RAG 답변:\")\n",
    "print(naive_rag(Test_query))"
   ]
  },
  {
   "cell_type": "markdown",
   "id": "e7b9e368",
   "metadata": {
    "id": "e7b9e368"
   },
   "source": [
    "## [TODO] 4. Advanced RAG 구현\n",
    "Reranking은 초기 검색 결과를 더 정교한 방법으로 재평가하여 문서 관련성을 재정렬하는 기법입니다. 여기서는 BERT 기반 Cross-Encoder를 활용한 Reranker를 구현합니다."
   ]
  },
  {
   "cell_type": "code",
   "execution_count": 15,
   "id": "2c4990fc",
   "metadata": {
    "colab": {
     "base_uri": "https://localhost:8080/"
    },
    "id": "2c4990fc",
    "outputId": "f7b317d5-6f97-4067-a5f9-0086fd3ff610"
   },
   "outputs": [
    {
     "name": "stdout",
     "output_type": "stream",
     "text": [
      "\n",
      "--- Reranking RAG 실행 결과 ---\n",
      "질문: 정보통신전략위원회는 어떤 역할을 하나요?\n",
      "답변: 정보통신전략위원회는 '전국민 AI 일상화 실행 계획'의 추진실적을 점검하는 역할을 합니다.\n"
     ]
    }
   ],
   "source": [
    "# Reranking은 초기 검색 결과를 더 정교한 방법으로 재평가하여 문서 관련성을 재정렬하는 기법입니다. 여기서는 BERT 기반 Cross-Encoder를 활용한 Reranker를 구현합니다.\n",
    "\n",
    "# FAISS 벡터 스토어 생성\n",
    "advanced_vectorstore = FAISS.from_documents(docs, embeddings)\n",
    "\n",
    "# Document Chain 생성\n",
    "document_chain = create_stuff_documents_chain(llm, prompt)\n",
    "\n",
    "# Cross-Encoder Reranker 구현\n",
    "cross_encoder = HuggingFaceCrossEncoder(model_name=\"BAAI/bge-reranker-v2-m3\")\n",
    "reranker = CrossEncoderReranker(model=cross_encoder, top_n=5)\n",
    "\n",
    "# Reranking 검색기 생성\n",
    "reranking_retriever = ContextualCompressionRetriever(\n",
    "    base_retriever=advanced_vectorstore.as_retriever(search_kwargs={\"k\": 10}),\n",
    "    base_compressor=reranker\n",
    ")\n",
    "\n",
    "# Reranking RAG 체인 구성\n",
    "reranking_rag_chain = (\n",
    "    {\"context\": reranking_retriever, \"question\": RunnablePassthrough()}\n",
    "    | document_chain\n",
    ")\n",
    "\n",
    "\n",
    "def reranking_rag(query):\n",
    "    \"\"\"Reranking을 적용한 RAG 체인으로 답변을 생성합니다.\"\"\"\n",
    "    result = reranking_rag_chain.invoke(query)\n",
    "    return result\n",
    "\n",
    "# 테스트 쿼리 실행\n",
    "print(\"\\n--- Reranking RAG 실행 결과 ---\")\n",
    "reranking_answer = reranking_rag(Test_query)\n",
    "print(f\"질문: {Test_query}\")\n",
    "print(f\"답변: {reranking_answer}\")"
   ]
  },
  {
   "cell_type": "markdown",
   "id": "V3YSXiVwJP6T",
   "metadata": {
    "id": "V3YSXiVwJP6T"
   },
   "source": [
    "테스트 쿼리를 실행해 Advanced RAG의 작동을 확인합니다."
   ]
  },
  {
   "cell_type": "code",
   "execution_count": 13,
   "id": "d2c46430",
   "metadata": {
    "colab": {
     "base_uri": "https://localhost:8080/"
    },
    "id": "d2c46430",
    "outputId": "e714bb82-45f2-4c54-d9ee-e6596c18c99d"
   },
   "outputs": [
    {
     "name": "stdout",
     "output_type": "stream",
     "text": [
      "원본 검색 결과:\n",
      "\n",
      "문서 1: -v-\n",
      "□ (공공서비스) 수입식품 위험성을 예측･\n",
      "분석하는 AI솔루션을 적용(식약처)하고,수돗물 수질관리등을 최적화하는 ‘AI정수장’구축 검토(환경부)○강수･\n",
      "폭염･\n",
      "강풍 예보지원AI를 통해신속･\n",
      "정확한기상정보를 제공(기상청),구인정보,직무데이터 등을 분석하여 구직자가...\n",
      "\n",
      "문서 2: -27-\n",
      " Ⅵ. 추진체계 및 계획□ 추진체계 및 향후계획ㅇ ’정보통신전략위원회‘를 통해 동 실행계획의 추진실적 점검 ㅇ 각 부처 소관 영역의 AI일상화 신규과제 발굴,예산 반영 협의ㅇ 개발･\n",
      "실증 및 현장적용 단계에서 효과가 검증된 AI제품･\n",
      "서비스에대해서는 민관 협업...\n",
      "\n",
      "문서 3: -20-\n",
      " 3. AI를 가장 잘 사용하는 똑똑한 정부를 만들겠습니다 <3-1> 고품질 대국민 공공서비스 제공◇ AI기반 정수 처리, 식품 안전, 기상 예보 및 지능형 민원대응 등을 통한 대국민 공공서비스 품질의 고도화 추진□ 건강한 식품･식수 환경 제공 ○(수입식품 검...\n",
      "\n",
      "문서 4: -30-\n",
      " ④ AI 일상화 기반을 선제적으로 조성하겠습니다추진과제추진시기소관부처▶ AI 문해력 제고AI 리터러시 함양 교수학습자료 개발 및 인정과목 개설’23교육부과기정통부디지털 튜터 배치 및 디지털 문제해결센터 운영’23교육부SW 미래채움센터 운영(’23년 13...\n",
      "\n",
      "문서 5: -23-\n",
      " <3-3> 행정기관 내부업무 효율화◇ 특허, 산림보호, 통관, 통계 등 행정영역 전반에 AI 활용을 확대하여, 행정 업무 효율성 제고 및 국민 체감 극대화○(특허) 특허문서 등을 학습한 특허전용 초거대 AI언어모델을 구축하고,이를 특허문서 검색･\n",
      "분류 등 심...\n",
      "\n",
      "문서 6: -26-\n",
      " <4-2> AI 윤리･신뢰성 강화◇ 최근 전 세계적으로 강조되는 AI 윤리·신뢰성 이슈에 대응하여, 국내기업이 정부사업 등 AI 개발·적용 과정에서 윤리·신뢰성을 확보하도록 지원□(민관협업 신뢰성 확립)신뢰할 수 있는 AI개발안내서(’22)를 기반으로 AI제...\n",
      "\n",
      "문서 7: -29-\n",
      " ③ AI를 가장 잘 사용하는 똑똑한 정부를 만들겠습니다추진과제추진시기소관부처▶ 고품질 대국민 공공서비스 제공수입식품 위험성 예측･분석 AI 솔루션 개발･활용  ‘23식약처상수도 시설 ‘AI 정수장’ 구축 검토‘25(잠정)환경부공공입찰 등 기업 맞춤형 정...\n",
      "\n",
      "문서 8: -2-\n",
      "참고  ｢전국민 AI 일상화 실행계획｣ 추진경과□ ｢대한민국 디지털 전략｣ 및 ｢新성장 4.0 전략｣ 수립ㅇ‘뉴욕구상’의 기조･\n",
      "철학을 반영하여,AI등 디지털 역량 강화,포용하는 디지털 사회등을 포함한 ‘대한민국 디지털 전략(’22.9)’수립\n",
      "･“디지털시대는 인...\n",
      "\n",
      "문서 9: -iv-\n",
      "□ (소상공인) 소상공인(’24년 5,500개 점포)을 대상으로 서빙로봇,안면인식 출입장치등 AI융합 디지털기기 도입 지원(중기부)○미용실,피트니스 등 서비스업 매장(‘24년 200개)을 대상으로 두피진단,체형분석 등 AI제품･\n",
      "서비스 도입 지원(과기정통부)□...\n",
      "\n",
      "문서 10: -22-\n",
      "□ 지역 생활공간･주요시설에 대한 안전관리 제고○(지능형 관제)사람 육안에 의존하고 있는 지자체 CCTV관제를AI기반의 지능형 관제(’22년32%→’27년 100%)로 전환(행안부)-재난 예방을 위한 CCTV활용 법적 근거*를 마련하고,다기종 CCTV연계 표준...\n",
      "===========================================================================\n",
      "\n",
      "Cross-Encoder 점수로 재정렬된 결과 (상위 5개):\n",
      "\n",
      "문서 1 (점수: 0.5478): -27-\n",
      " Ⅵ. 추진체계 및 계획□ 추진체계 및 향후계획ㅇ ’정보통신전략위원회‘를 통해 동 실행계획의 추진실적 점검 ㅇ 각 부처 소관 영역의 AI일상화 신규과제 발굴,예산 반영 협의ㅇ 개발･\n",
      "실증 및 현장적용 단계에서 효과가 검증된 AI제품･\n",
      "서비스에대해서는 민관 협업...\n",
      "\n",
      "문서 2 (점수: 0.4172): -v-\n",
      "□ (공공서비스) 수입식품 위험성을 예측･\n",
      "분석하는 AI솔루션을 적용(식약처)하고,수돗물 수질관리등을 최적화하는 ‘AI정수장’구축 검토(환경부)○강수･\n",
      "폭염･\n",
      "강풍 예보지원AI를 통해신속･\n",
      "정확한기상정보를 제공(기상청),구인정보,직무데이터 등을 분석하여 구직자가...\n",
      "\n",
      "문서 3 (점수: 0.0010): -iv-\n",
      "□ (소상공인) 소상공인(’24년 5,500개 점포)을 대상으로 서빙로봇,안면인식 출입장치등 AI융합 디지털기기 도입 지원(중기부)○미용실,피트니스 등 서비스업 매장(‘24년 200개)을 대상으로 두피진단,체형분석 등 AI제품･\n",
      "서비스 도입 지원(과기정통부)□...\n",
      "\n",
      "문서 4 (점수: 0.0008): -22-\n",
      "□ 지역 생활공간･주요시설에 대한 안전관리 제고○(지능형 관제)사람 육안에 의존하고 있는 지자체 CCTV관제를AI기반의 지능형 관제(’22년32%→’27년 100%)로 전환(행안부)-재난 예방을 위한 CCTV활용 법적 근거*를 마련하고,다기종 CCTV연계 표준...\n",
      "\n",
      "문서 5 (점수: 0.0008): -2-\n",
      "참고  ｢전국민 AI 일상화 실행계획｣ 추진경과□ ｢대한민국 디지털 전략｣ 및 ｢新성장 4.0 전략｣ 수립ㅇ‘뉴욕구상’의 기조･\n",
      "철학을 반영하여,AI등 디지털 역량 강화,포용하는 디지털 사회등을 포함한 ‘대한민국 디지털 전략(’22.9)’수립\n",
      "･“디지털시대는 인...\n"
     ]
    }
   ],
   "source": [
    "# 테스트 쿼리로 문서 검색\n",
    "retrieved_docs = advanced_vectorstore.similarity_search(Test_query, k=10)\n",
    "\n",
    "# Cross-Encoder 점수 계산\n",
    "def get_cross_encoder_scores(query, docs):\n",
    "    \"\"\"Cross-Encoder를 사용해 문서의 관련성 점수를 계산합니다.\"\"\"\n",
    "    text_pairs = [(query, doc.page_content) for doc in docs]\n",
    "    scores = cross_encoder.score(text_pairs)\n",
    "    return list(zip(docs, scores))\n",
    "\n",
    "# 원본 검색 결과와 Reranker 적용 결과 비교\n",
    "reranked_docs = reranker.compress_documents(retrieved_docs, Test_query)\n",
    "\n",
    "print(\"원본 검색 결과:\")\n",
    "for i, doc in enumerate(retrieved_docs):\n",
    "    print(f\"\\n문서 {i+1}: {doc.page_content[:150]}...\")\n",
    "\n",
    "docs_with_scores = get_cross_encoder_scores(Test_query, retrieved_docs)\n",
    "docs_with_scores.sort(key=lambda x: x[1], reverse=True)\n",
    "\n",
    "print(\"=\"*75)\n",
    "\n",
    "print(\"\\nCross-Encoder 점수로 재정렬된 결과 (상위 5개):\")\n",
    "for i, (doc, score) in enumerate(docs_with_scores[:5]):\n",
    "    print(f\"\\n문서 {i+1} (점수: {score:.4f}): {doc.page_content[:150]}...\")"
   ]
  },
  {
   "cell_type": "code",
   "execution_count": 14,
   "id": "47IY_yzEIF-b",
   "metadata": {
    "colab": {
     "base_uri": "https://localhost:8080/"
    },
    "id": "47IY_yzEIF-b",
    "outputId": "1f06622c-f48d-4a46-8892-6022587a1128"
   },
   "outputs": [
    {
     "name": "stdout",
     "output_type": "stream",
     "text": [
      "Test_query:  정보통신전략위원회는 어떤 역할을 하나요?\n",
      "===========================================================================\n",
      "\n",
      "Reranking RAG 답변:\n",
      "정보통신전략위원회는 '전국민 AI 일상화 실행 계획'의 추진실적을 점검하는 역할을 합니다.\n"
     ]
    }
   ],
   "source": [
    "# Reranking RAG 실행\n",
    "print(\"Test_query: \", Test_query)\n",
    "print(\"=\"*75)\n",
    "print(\"\\nReranking RAG 답변:\")\n",
    "print(reranking_rag(Test_query))"
   ]
  },
  {
   "cell_type": "markdown",
   "id": "IQB7HfBbJmsq",
   "metadata": {
    "id": "IQB7HfBbJmsq"
   },
   "source": [
    "## 5. Naive RAG vs Advanced RAG 실행 및 비교\n",
    "동일한 질문에 대해 두 RAG 파이프라인이 어떻게 다른 답변을 생성하는지 비교해봅니다. 보고서의 핵심 내용을 잘 요약하는지 확인해보세요."
   ]
  },
  {
   "cell_type": "code",
   "execution_count": 21,
   "id": "CC3HSJq6Jq5o",
   "metadata": {
    "id": "CC3HSJq6Jq5o"
   },
   "outputs": [],
   "source": [
    "query = \"보고서에 언급된 '전국민 AI 일상화'를 위한 3대 추진 전략과 각각의 핵심 과제는 무엇인가요?\""
   ]
  },
  {
   "cell_type": "code",
   "execution_count": null,
   "id": "B4j3P5aIJ6Ad",
   "metadata": {
    "colab": {
     "base_uri": "https://localhost:8080/"
    },
    "id": "B4j3P5aIJ6Ad",
    "outputId": "da494232-0e59-46e6-cbb2-5b5feb26d8f4"
   },
   "outputs": [
    {
     "name": "stdout",
     "output_type": "stream",
     "text": [
      "질문 : 보고서에 언급된 '전국민 AI 일상화'를 위한 3대 추진 전략과 각각의 핵심 과제는 무엇인가요?\n",
      "==================================================\n",
      "Naive RAG 답변 생성!\n",
      "\n",
      " Naive RAG 답변 : \n",
      "보고서에 언급된 '전국민 AI 일상화'를 위한 3대 추진 전략과 각각의 핵심 과제는 다음과 같습니다:\n",
      "\n",
      "1. **AI로 국민 일상을 풍요롭게 하겠습니다**\n",
      "   - 사회적 약자 돌봄 및 배려 서비스 제공\n",
      "   - 의료 및 보건 서비스 품질 제고\n",
      "   - 아동 및 청소년 성장 환경 개선\n",
      "\n",
      "2. **AI 내재화로 산업･일터를 혁신하겠습니다**\n",
      "   - 제조 및 서비스업에 AI 적용\n",
      "   - 품질 개선 및 생산성 향상\n",
      "   - 공공행정에 AI 도입\n",
      "\n",
      "3. **AI를 가장 잘 사용하는 똑똑한 정부를 만들겠습니다**\n",
      "   - 행정업무 효율성 제고\n",
      "   - 데이터･AI 중심의 디지털 플랫폼 정부 실현\n",
      "   - AI 기반의 공공 서비스 개선\n",
      "\n",
      "이러한 전략을 통해 AI를 국민의 삶 전반에 전방위적으로 확산하고, 디지털 모범국가로 도약하는 것을 목표로 하고 있습니다.\n",
      "==================================================\n",
      "Reranking RAG 답변 생성!\n"
     ]
    }
   ],
   "source": [
    "print(f\"질문 : {query}\")\n",
    "print(\"=\" * 50)\n",
    "\n",
    "# Naive RAG 실행\n",
    "print(\"Naive RAG 답변 생성!\")\n",
    "naive_answer = naive_rag(query)\n",
    "print(f\"\\n Naive RAG 답변 : \\n{naive_answer}\")\n",
    "print(\"=\" * 50)\n",
    "\n",
    "# Reranking RAG 실행\n",
    "print(\"Reranking RAG 답변 생성!\")\n",
    "reranking_answer = reranking_rag(query)\n",
    "print(f\"\\n Naive RAG 답변 : \\n{reranking_answer}\")"
   ]
  },
  {
   "cell_type": "markdown",
   "id": "_uw-Dy7YUrCd",
   "metadata": {
    "id": "_uw-Dy7YUrCd"
   },
   "source": [
    "# 평가 자동화 프레임워크 : RAGAS\n",
    "\n",
    "### 실습 목표\n",
    "구축한 Naive RAG와 Advanced RAG 시스템의 성능을 RAGAS 프레임워크를 사용하여 정량적으로 측정하고, 객관적인 지표로 비교 분석하는 능력을 기릅니다.\n",
    "\n",
    "https://docs.ragas.io/en/stable/concepts/metrics/available_metrics/\n"
   ]
  },
  {
   "cell_type": "markdown",
   "id": "bkc9XEe-YHu8",
   "metadata": {
    "id": "bkc9XEe-YHu8"
   },
   "source": [
    "## 1. 환경 설정\n",
    "필요한 라이브러리를 불러옵니다."
   ]
  },
  {
   "cell_type": "code",
   "execution_count": null,
   "id": "AixGIaw8YMr-",
   "metadata": {
    "id": "AixGIaw8YMr-"
   },
   "outputs": [],
   "source": [
    "import pandas as pd\n",
    "import matplotlib.pyplot as plt\n",
    "import seaborn as sns\n",
    "from datasets import Dataset\n",
    "from ragas import evaluate\n",
    "from ragas.metrics import (\n",
    "    faithfulness,\n",
    "    answer_relevancy,\n",
    "    context_recall,\n",
    "    context_precision,\n",
    ")"
   ]
  },
  {
   "cell_type": "markdown",
   "id": "siMv3ajcYM0S",
   "metadata": {
    "id": "siMv3ajcYM0S"
   },
   "source": [
    "## 2. RAGAS 평가를 위한 데이터셋 준비\n",
    "- RAGAS 평가에 사용할 질문-정답 쌍을 정의합니다.\n",
    "- 이 질문과 정답은 '전국민 AI 일상화 실행 계획' 보고서 내용을 기반으로 직접 작성해야 합니다.\n",
    "- 최소 5~10개 이상의 질문-정답 쌍을 만드는 것을 권장합니다."
   ]
  },
  {
   "cell_type": "code",
   "execution_count": null,
   "id": "ap1orVf7X4E5",
   "metadata": {
    "id": "ap1orVf7X4E5"
   },
   "outputs": [],
   "source": [
    "eval_data = {\n",
    "    \"question\": [\n",
    "        \"전국민 AI 일상화 실행 계획의 주요 목표는 무엇인가요?\",\n",
    "        \"AI 일상화 계획에서 초거대 AI 확산 지원을 위해 어떤 방안을 추진하고 있나요?\",\n",
    "        \"AI 친화적인 디지털 교육 환경을 구축하기 위한 계획은 무엇인가요?\",\n",
    "        \"시니어 및 소상공인을 위한 AI 활용 지원 방안에는 어떤 것들이 포함되나요?\",\n",
    "        \"AI 기술을 활용한 사회 문제 해결 분야의 주요 과제는 무엇인가요?\"\n",
    "        # 여기에 보고서 내용을 기반으로 더 많은 질문을 추가하세요.\n",
    "        # 예: \"AI 서비스 활용 역량을 강화하기 위한 국민 참여 프로그램에는 어떤 것이 있나요?\"\n",
    "        # 예: \"초거대 AI 기술을 공공 서비스에 적용하는 사례는 무엇인가요?\"\n",
    "    ],\n",
    "    \"ground_truth\": [\n",
    "        \"전국민 AI 일상화 실행 계획의 주요 목표는 누구나 일상 속에서 AI 혜택을 누리는 'AI 일상화 시대'를 구현하고, AI를 활용하여 국가 전반의 생산성을 높이는 것입니다.\",\n",
    "        \"초거대 AI 확산 지원을 위해 AI 인프라 확충, 초거대 AI 기반 서비스 개발 지원, AI 전문기업 육성 등을 추진하고 있습니다.\",\n",
    "        \"AI 친화적인 디지털 교육 환경 구축을 위해 유아부터 성인까지 전 국민 대상의 AI 교육 기회를 확대하고, 교육 콘텐츠 및 플랫폼을 개발하며, AI 전문 강사를 양성할 계획입니다.\",\n",
    "        \"시니어 및 소상공인을 위한 AI 활용 지원 방안에는 AI 기반 돌봄 서비스 제공, 소상공인 AI 비서 및 챗봇 도입 지원, AI 기반 생산성 향상 도구 보급 등이 포함됩니다.\",\n",
    "        \"AI 기술을 활용한 사회 문제 해결 분야의 주요 과제는 국민 안전 및 건강 증진, 사회적 약자 지원, 환경 문제 해결 등 다양한 분야에서 AI 기반 솔루션을 도입하고 확산하는 것입니다.\"\n",
    "        # 여기에 각 질문에 대한 정확한 '정답'을 직접 작성하세요.\n",
    "    ]\n",
    "}\n",
    "eval_df = pd.DataFrame(eval_data)"
   ]
  },
  {
   "cell_type": "markdown",
   "id": "Ol2mUSkKncMY",
   "metadata": {
    "id": "Ol2mUSkKncMY"
   },
   "source": [
    "## Naive RAG 시스템 평가\n",
    "- RAGAS 평가에 필요한 'contexts' 및 'answer' 필드 채우기\n",
    "- 각 질문에 대해 Naive RAG 시스템을 실행하고 결과 저장"
   ]
  },
  {
   "cell_type": "code",
   "execution_count": null,
   "id": "Mn1uM3mvVEU-",
   "metadata": {
    "colab": {
     "base_uri": "https://localhost:8080/",
     "height": 1000,
     "referenced_widgets": [
      "2227689b4748444bb42b7e104fda97e4",
      "8a9387dab3cf44369347fe2e64fcd783",
      "5133feb8a9264100b5313330017bbc6c",
      "7114bb5244824099961801c80f2733dc",
      "cd5e41e4e15a4a8bb28ca93ea992ee2c",
      "0969a05ffc414998a8f0b7739d4e9132",
      "ef0d2656dcfc44df9ad4c8dde41ed957",
      "517d130d254b4af49a90eecc73daf326",
      "aaeabb8375a841e099b7e14a885d7d77",
      "46426a3b7bec4d98ae97fe9597ae2ad9",
      "3ab6ef4c37874fb0afba02bb34bf19bb"
     ]
    },
    "collapsed": true,
    "id": "Mn1uM3mvVEU-",
    "outputId": "70f662b3-555a-458c-b12c-e63175590584"
   },
   "outputs": [],
   "source": [
    "print(\"--- Naive RAG 시스템 평가 시작 ---\")\n",
    "\n",
    "naive_results = []\n",
    "for i, row in eval_df.iterrows():\n",
    "    question = row[\"question\"]\n",
    "    # Naive RAG의 답변 생성\n",
    "    answer = naive_rag(question)\n",
    "\n",
    "    # Naive RAG의 컨텍스트 검색\n",
    "    retrieved_docs = naive_retriever.invoke(question)\n",
    "    contexts = [doc.page_content for doc in retrieved_docs]\n",
    "\n",
    "    naive_results.append({\n",
    "        \"question\": question,\n",
    "        \"answer\": answer,\n",
    "        \"contexts\": contexts,\n",
    "        \"ground_truth\": row[\"ground_truth\"]\n",
    "    })\n",
    "\n",
    "naive_dataset = Dataset.from_list(naive_results)\n",
    "\n",
    "# Naive RAG 평가 실행\n",
    "naive_metrics = [\n",
    "    faithfulness,\n",
    "    answer_relevancy,\n",
    "    context_recall,\n",
    "    context_precision\n",
    "]\n",
    "\n",
    "naive_eval_result = evaluate(\n",
    "    dataset=naive_dataset,\n",
    "    metrics=naive_metrics,\n",
    "    llm=llm, # RAGAS 평가를 위한 LLM\n",
    "    embeddings=embeddings, # RAGAS 평가를 위한 임베딩 모델\n",
    ")\n",
    "\n",
    "print(\"\\n--- Naive RAG 평가 결과 ---\")\n",
    "print(naive_eval_result)\n",
    "print(naive_eval_result.to_pandas())"
   ]
  },
  {
   "cell_type": "markdown",
   "id": "s_J4jfmhnp9u",
   "metadata": {
    "id": "s_J4jfmhnp9u"
   },
   "source": [
    "## Advanced RAG 시스템 평가\n",
    "- RAGAS 평가에 필요한 'contexts' 및 'answer' 필드 채우기\n",
    "- 각 질문에 대해 Advanced RAG 시스템을 실행하고 결과 저장"
   ]
  },
  {
   "cell_type": "code",
   "execution_count": null,
   "id": "iZYdnqpCXRv2",
   "metadata": {
    "colab": {
     "base_uri": "https://localhost:8080/",
     "height": 1000,
     "referenced_widgets": [
      "307b58c3b940406288e17a46e1bd8859",
      "17b2a70eab734fc0b67df8b9b2613afd",
      "cae50d1c13f84187ac095cfc44db6b94",
      "939b1ef5dcdd46be99b45f65b1e5ae5d",
      "145ce6cf449c4c8bab7a2807483a82b4",
      "0d35efe01db347c89f0954b0ca083cf3",
      "da50f098b9d240eab7158d31527a2274",
      "a63761a22618484abaedc7a5ac5c604a",
      "39a18301205640678537b17f27acee34",
      "0eccd8c718da4e408a46cde3e43c25c1",
      "803dea7f80f4416fb7c00ddeee494ea3"
     ]
    },
    "collapsed": true,
    "id": "iZYdnqpCXRv2",
    "outputId": "9d048905-d91f-4a8d-82a7-7d9ec894838d"
   },
   "outputs": [],
   "source": [
    "print(\"\\n--- Advanced RAG 시스템 평가 시작 ---\")\n",
    "\n",
    "advanced_results = []\n",
    "for i, row in eval_df.iterrows():\n",
    "    question = row[\"question\"]\n",
    "    # Advanced RAG의 답변 생성\n",
    "    answer = reranking_rag(question)\n",
    "\n",
    "    # Advanced RAG의 컨텍스트 검색 (reranking_retriever는 압축된 컨텍스트를 반환)\n",
    "    # RAGAS는 원본 컨텍스트를 필요로 할 수 있으므로, reranking_retriever가 반환하는 내용을 확인하세요.\n",
    "    # 여기서는 reranking_retriever가 최종적으로 선택한 문서를 반환한다고 가정합니다.\n",
    "    retrieved_docs_advanced = reranking_retriever.invoke(question)\n",
    "    contexts_advanced = [doc.page_content for doc in retrieved_docs_advanced]\n",
    "\n",
    "    advanced_results.append({\n",
    "        \"question\": question,\n",
    "        \"answer\": answer,\n",
    "        \"contexts\": contexts_advanced,\n",
    "        \"ground_truth\": row[\"ground_truth\"]\n",
    "    })\n",
    "\n",
    "advanced_dataset = Dataset.from_list(advanced_results)\n",
    "\n",
    "# Advanced RAG 평가 실행\n",
    "advanced_metrics = [\n",
    "    faithfulness,\n",
    "    answer_relevancy,\n",
    "    context_recall,\n",
    "    context_precision\n",
    "]\n",
    "\n",
    "advanced_eval_result = evaluate(\n",
    "    dataset=advanced_dataset,\n",
    "    metrics=advanced_metrics,\n",
    "    llm=llm, # RAGAS 평가를 위한 LLM\n",
    "    embeddings=embeddings, # RAGAS 평가를 위한 임베딩 모델\n",
    "    # is_html_report=True # HTML 리포트 생성\n",
    ")\n",
    "\n",
    "print(\"\\n--- Advanced RAG 평가 결과 ---\")\n",
    "print(advanced_eval_result)\n",
    "print(advanced_eval_result.to_pandas())"
   ]
  },
  {
   "cell_type": "markdown",
   "id": "GQ0L346xn7da",
   "metadata": {
    "id": "GQ0L346xn7da"
   },
   "source": [
    "## 평가 결과 비교"
   ]
  },
  {
   "cell_type": "code",
   "execution_count": null,
   "id": "iRgpBcHsXTxV",
   "metadata": {
    "colab": {
     "base_uri": "https://localhost:8080/"
    },
    "id": "iRgpBcHsXTxV",
    "outputId": "44a0bb3a-1d28-4857-b38f-d72f556e6b4e"
   },
   "outputs": [],
   "source": [
    "print(\"\\n--- RAG 시스템 성능 비교 ---\")\n",
    "naive_df = naive_eval_result.to_pandas()\n",
    "advanced_df = advanced_eval_result.to_pandas()\n",
    "\n",
    "comparison_df = pd.DataFrame({\n",
    "    \"Metric\": [\"faithfulness\", \"answer_relevancy\", \"context_recall\", \"context_precision\"],\n",
    "    \"Naive RAG\": [\n",
    "        naive_df['faithfulness'].mean(),\n",
    "        naive_df['answer_relevancy'].mean(),\n",
    "        naive_df['context_recall'].mean(),\n",
    "        naive_df['context_precision'].mean()\n",
    "    ],\n",
    "    \"Advanced RAG\": [\n",
    "        advanced_df['faithfulness'].mean(),\n",
    "        advanced_df['answer_relevancy'].mean(),\n",
    "        advanced_df['context_recall'].mean(),\n",
    "        advanced_df['context_precision'].mean()\n",
    "    ]\n",
    "})\n",
    "\n",
    "print(comparison_df)"
   ]
  },
  {
   "cell_type": "code",
   "execution_count": null,
   "id": "l_9VlYKwXXLJ",
   "metadata": {
    "colab": {
     "base_uri": "https://localhost:8080/",
     "height": 607
    },
    "id": "l_9VlYKwXXLJ",
    "outputId": "dcd7533a-d5e4-4f73-8b49-723b3a03ce29"
   },
   "outputs": [],
   "source": [
    "comparison_df.set_index(\"Metric\").plot(kind='bar', figsize=(10, 6))\n",
    "plt.title(\"RAG System Performance Comparison\")\n",
    "plt.ylabel(\"Score\")\n",
    "plt.ylim(0, 1)\n",
    "plt.xticks(rotation=45, ha='right')\n",
    "plt.legend(title=\"RAG System\")\n",
    "plt.tight_layout()\n",
    "plt.show()"
   ]
  }
 ],
 "metadata": {
  "colab": {
   "collapsed_sections": [
    "6a803723",
    "A9J548IVFI3g",
    "8208db39",
    "e7b9e368",
    "IQB7HfBbJmsq",
    "_uw-Dy7YUrCd",
    "bkc9XEe-YHu8",
    "siMv3ajcYM0S",
    "Ol2mUSkKncMY",
    "s_J4jfmhnp9u",
    "GQ0L346xn7da"
   ],
   "provenance": []
  },
  "kernelspec": {
   "display_name": "Python 3 (ipykernel)",
   "language": "python",
   "name": "python3"
  },
  "language_info": {
   "codemirror_mode": {
    "name": "ipython",
    "version": 3
   },
   "file_extension": ".py",
   "mimetype": "text/x-python",
   "name": "python",
   "nbconvert_exporter": "python",
   "pygments_lexer": "ipython3",
   "version": "3.10.14"
  },
  "widgets": {
   "application/vnd.jupyter.widget-state+json": {
    "0969a05ffc414998a8f0b7739d4e9132": {
     "model_module": "@jupyter-widgets/base",
     "model_module_version": "1.2.0",
     "model_name": "LayoutModel",
     "state": {
      "_model_module": "@jupyter-widgets/base",
      "_model_module_version": "1.2.0",
      "_model_name": "LayoutModel",
      "_view_count": null,
      "_view_module": "@jupyter-widgets/base",
      "_view_module_version": "1.2.0",
      "_view_name": "LayoutView",
      "align_content": null,
      "align_items": null,
      "align_self": null,
      "border": null,
      "bottom": null,
      "display": null,
      "flex": null,
      "flex_flow": null,
      "grid_area": null,
      "grid_auto_columns": null,
      "grid_auto_flow": null,
      "grid_auto_rows": null,
      "grid_column": null,
      "grid_gap": null,
      "grid_row": null,
      "grid_template_areas": null,
      "grid_template_columns": null,
      "grid_template_rows": null,
      "height": null,
      "justify_content": null,
      "justify_items": null,
      "left": null,
      "margin": null,
      "max_height": null,
      "max_width": null,
      "min_height": null,
      "min_width": null,
      "object_fit": null,
      "object_position": null,
      "order": null,
      "overflow": null,
      "overflow_x": null,
      "overflow_y": null,
      "padding": null,
      "right": null,
      "top": null,
      "visibility": null,
      "width": null
     }
    },
    "0d35efe01db347c89f0954b0ca083cf3": {
     "model_module": "@jupyter-widgets/base",
     "model_module_version": "1.2.0",
     "model_name": "LayoutModel",
     "state": {
      "_model_module": "@jupyter-widgets/base",
      "_model_module_version": "1.2.0",
      "_model_name": "LayoutModel",
      "_view_count": null,
      "_view_module": "@jupyter-widgets/base",
      "_view_module_version": "1.2.0",
      "_view_name": "LayoutView",
      "align_content": null,
      "align_items": null,
      "align_self": null,
      "border": null,
      "bottom": null,
      "display": null,
      "flex": null,
      "flex_flow": null,
      "grid_area": null,
      "grid_auto_columns": null,
      "grid_auto_flow": null,
      "grid_auto_rows": null,
      "grid_column": null,
      "grid_gap": null,
      "grid_row": null,
      "grid_template_areas": null,
      "grid_template_columns": null,
      "grid_template_rows": null,
      "height": null,
      "justify_content": null,
      "justify_items": null,
      "left": null,
      "margin": null,
      "max_height": null,
      "max_width": null,
      "min_height": null,
      "min_width": null,
      "object_fit": null,
      "object_position": null,
      "order": null,
      "overflow": null,
      "overflow_x": null,
      "overflow_y": null,
      "padding": null,
      "right": null,
      "top": null,
      "visibility": null,
      "width": null
     }
    },
    "0eccd8c718da4e408a46cde3e43c25c1": {
     "model_module": "@jupyter-widgets/base",
     "model_module_version": "1.2.0",
     "model_name": "LayoutModel",
     "state": {
      "_model_module": "@jupyter-widgets/base",
      "_model_module_version": "1.2.0",
      "_model_name": "LayoutModel",
      "_view_count": null,
      "_view_module": "@jupyter-widgets/base",
      "_view_module_version": "1.2.0",
      "_view_name": "LayoutView",
      "align_content": null,
      "align_items": null,
      "align_self": null,
      "border": null,
      "bottom": null,
      "display": null,
      "flex": null,
      "flex_flow": null,
      "grid_area": null,
      "grid_auto_columns": null,
      "grid_auto_flow": null,
      "grid_auto_rows": null,
      "grid_column": null,
      "grid_gap": null,
      "grid_row": null,
      "grid_template_areas": null,
      "grid_template_columns": null,
      "grid_template_rows": null,
      "height": null,
      "justify_content": null,
      "justify_items": null,
      "left": null,
      "margin": null,
      "max_height": null,
      "max_width": null,
      "min_height": null,
      "min_width": null,
      "object_fit": null,
      "object_position": null,
      "order": null,
      "overflow": null,
      "overflow_x": null,
      "overflow_y": null,
      "padding": null,
      "right": null,
      "top": null,
      "visibility": null,
      "width": null
     }
    },
    "145ce6cf449c4c8bab7a2807483a82b4": {
     "model_module": "@jupyter-widgets/base",
     "model_module_version": "1.2.0",
     "model_name": "LayoutModel",
     "state": {
      "_model_module": "@jupyter-widgets/base",
      "_model_module_version": "1.2.0",
      "_model_name": "LayoutModel",
      "_view_count": null,
      "_view_module": "@jupyter-widgets/base",
      "_view_module_version": "1.2.0",
      "_view_name": "LayoutView",
      "align_content": null,
      "align_items": null,
      "align_self": null,
      "border": null,
      "bottom": null,
      "display": null,
      "flex": null,
      "flex_flow": null,
      "grid_area": null,
      "grid_auto_columns": null,
      "grid_auto_flow": null,
      "grid_auto_rows": null,
      "grid_column": null,
      "grid_gap": null,
      "grid_row": null,
      "grid_template_areas": null,
      "grid_template_columns": null,
      "grid_template_rows": null,
      "height": null,
      "justify_content": null,
      "justify_items": null,
      "left": null,
      "margin": null,
      "max_height": null,
      "max_width": null,
      "min_height": null,
      "min_width": null,
      "object_fit": null,
      "object_position": null,
      "order": null,
      "overflow": null,
      "overflow_x": null,
      "overflow_y": null,
      "padding": null,
      "right": null,
      "top": null,
      "visibility": null,
      "width": null
     }
    },
    "17b2a70eab734fc0b67df8b9b2613afd": {
     "model_module": "@jupyter-widgets/controls",
     "model_module_version": "1.5.0",
     "model_name": "HTMLModel",
     "state": {
      "_dom_classes": [],
      "_model_module": "@jupyter-widgets/controls",
      "_model_module_version": "1.5.0",
      "_model_name": "HTMLModel",
      "_view_count": null,
      "_view_module": "@jupyter-widgets/controls",
      "_view_module_version": "1.5.0",
      "_view_name": "HTMLView",
      "description": "",
      "description_tooltip": null,
      "layout": "IPY_MODEL_0d35efe01db347c89f0954b0ca083cf3",
      "placeholder": "​",
      "style": "IPY_MODEL_da50f098b9d240eab7158d31527a2274",
      "value": "Evaluating: 100%"
     }
    },
    "2227689b4748444bb42b7e104fda97e4": {
     "model_module": "@jupyter-widgets/controls",
     "model_module_version": "1.5.0",
     "model_name": "HBoxModel",
     "state": {
      "_dom_classes": [],
      "_model_module": "@jupyter-widgets/controls",
      "_model_module_version": "1.5.0",
      "_model_name": "HBoxModel",
      "_view_count": null,
      "_view_module": "@jupyter-widgets/controls",
      "_view_module_version": "1.5.0",
      "_view_name": "HBoxView",
      "box_style": "",
      "children": [
       "IPY_MODEL_8a9387dab3cf44369347fe2e64fcd783",
       "IPY_MODEL_5133feb8a9264100b5313330017bbc6c",
       "IPY_MODEL_7114bb5244824099961801c80f2733dc"
      ],
      "layout": "IPY_MODEL_cd5e41e4e15a4a8bb28ca93ea992ee2c"
     }
    },
    "307b58c3b940406288e17a46e1bd8859": {
     "model_module": "@jupyter-widgets/controls",
     "model_module_version": "1.5.0",
     "model_name": "HBoxModel",
     "state": {
      "_dom_classes": [],
      "_model_module": "@jupyter-widgets/controls",
      "_model_module_version": "1.5.0",
      "_model_name": "HBoxModel",
      "_view_count": null,
      "_view_module": "@jupyter-widgets/controls",
      "_view_module_version": "1.5.0",
      "_view_name": "HBoxView",
      "box_style": "",
      "children": [
       "IPY_MODEL_17b2a70eab734fc0b67df8b9b2613afd",
       "IPY_MODEL_cae50d1c13f84187ac095cfc44db6b94",
       "IPY_MODEL_939b1ef5dcdd46be99b45f65b1e5ae5d"
      ],
      "layout": "IPY_MODEL_145ce6cf449c4c8bab7a2807483a82b4"
     }
    },
    "39a18301205640678537b17f27acee34": {
     "model_module": "@jupyter-widgets/controls",
     "model_module_version": "1.5.0",
     "model_name": "ProgressStyleModel",
     "state": {
      "_model_module": "@jupyter-widgets/controls",
      "_model_module_version": "1.5.0",
      "_model_name": "ProgressStyleModel",
      "_view_count": null,
      "_view_module": "@jupyter-widgets/base",
      "_view_module_version": "1.2.0",
      "_view_name": "StyleView",
      "bar_color": null,
      "description_width": ""
     }
    },
    "3ab6ef4c37874fb0afba02bb34bf19bb": {
     "model_module": "@jupyter-widgets/controls",
     "model_module_version": "1.5.0",
     "model_name": "DescriptionStyleModel",
     "state": {
      "_model_module": "@jupyter-widgets/controls",
      "_model_module_version": "1.5.0",
      "_model_name": "DescriptionStyleModel",
      "_view_count": null,
      "_view_module": "@jupyter-widgets/base",
      "_view_module_version": "1.2.0",
      "_view_name": "StyleView",
      "description_width": ""
     }
    },
    "46426a3b7bec4d98ae97fe9597ae2ad9": {
     "model_module": "@jupyter-widgets/base",
     "model_module_version": "1.2.0",
     "model_name": "LayoutModel",
     "state": {
      "_model_module": "@jupyter-widgets/base",
      "_model_module_version": "1.2.0",
      "_model_name": "LayoutModel",
      "_view_count": null,
      "_view_module": "@jupyter-widgets/base",
      "_view_module_version": "1.2.0",
      "_view_name": "LayoutView",
      "align_content": null,
      "align_items": null,
      "align_self": null,
      "border": null,
      "bottom": null,
      "display": null,
      "flex": null,
      "flex_flow": null,
      "grid_area": null,
      "grid_auto_columns": null,
      "grid_auto_flow": null,
      "grid_auto_rows": null,
      "grid_column": null,
      "grid_gap": null,
      "grid_row": null,
      "grid_template_areas": null,
      "grid_template_columns": null,
      "grid_template_rows": null,
      "height": null,
      "justify_content": null,
      "justify_items": null,
      "left": null,
      "margin": null,
      "max_height": null,
      "max_width": null,
      "min_height": null,
      "min_width": null,
      "object_fit": null,
      "object_position": null,
      "order": null,
      "overflow": null,
      "overflow_x": null,
      "overflow_y": null,
      "padding": null,
      "right": null,
      "top": null,
      "visibility": null,
      "width": null
     }
    },
    "5133feb8a9264100b5313330017bbc6c": {
     "model_module": "@jupyter-widgets/controls",
     "model_module_version": "1.5.0",
     "model_name": "FloatProgressModel",
     "state": {
      "_dom_classes": [],
      "_model_module": "@jupyter-widgets/controls",
      "_model_module_version": "1.5.0",
      "_model_name": "FloatProgressModel",
      "_view_count": null,
      "_view_module": "@jupyter-widgets/controls",
      "_view_module_version": "1.5.0",
      "_view_name": "ProgressView",
      "bar_style": "success",
      "description": "",
      "description_tooltip": null,
      "layout": "IPY_MODEL_517d130d254b4af49a90eecc73daf326",
      "max": 20,
      "min": 0,
      "orientation": "horizontal",
      "style": "IPY_MODEL_aaeabb8375a841e099b7e14a885d7d77",
      "value": 20
     }
    },
    "517d130d254b4af49a90eecc73daf326": {
     "model_module": "@jupyter-widgets/base",
     "model_module_version": "1.2.0",
     "model_name": "LayoutModel",
     "state": {
      "_model_module": "@jupyter-widgets/base",
      "_model_module_version": "1.2.0",
      "_model_name": "LayoutModel",
      "_view_count": null,
      "_view_module": "@jupyter-widgets/base",
      "_view_module_version": "1.2.0",
      "_view_name": "LayoutView",
      "align_content": null,
      "align_items": null,
      "align_self": null,
      "border": null,
      "bottom": null,
      "display": null,
      "flex": null,
      "flex_flow": null,
      "grid_area": null,
      "grid_auto_columns": null,
      "grid_auto_flow": null,
      "grid_auto_rows": null,
      "grid_column": null,
      "grid_gap": null,
      "grid_row": null,
      "grid_template_areas": null,
      "grid_template_columns": null,
      "grid_template_rows": null,
      "height": null,
      "justify_content": null,
      "justify_items": null,
      "left": null,
      "margin": null,
      "max_height": null,
      "max_width": null,
      "min_height": null,
      "min_width": null,
      "object_fit": null,
      "object_position": null,
      "order": null,
      "overflow": null,
      "overflow_x": null,
      "overflow_y": null,
      "padding": null,
      "right": null,
      "top": null,
      "visibility": null,
      "width": null
     }
    },
    "7114bb5244824099961801c80f2733dc": {
     "model_module": "@jupyter-widgets/controls",
     "model_module_version": "1.5.0",
     "model_name": "HTMLModel",
     "state": {
      "_dom_classes": [],
      "_model_module": "@jupyter-widgets/controls",
      "_model_module_version": "1.5.0",
      "_model_name": "HTMLModel",
      "_view_count": null,
      "_view_module": "@jupyter-widgets/controls",
      "_view_module_version": "1.5.0",
      "_view_name": "HTMLView",
      "description": "",
      "description_tooltip": null,
      "layout": "IPY_MODEL_46426a3b7bec4d98ae97fe9597ae2ad9",
      "placeholder": "​",
      "style": "IPY_MODEL_3ab6ef4c37874fb0afba02bb34bf19bb",
      "value": " 20/20 [00:41&lt;00:00,  5.06s/it]"
     }
    },
    "803dea7f80f4416fb7c00ddeee494ea3": {
     "model_module": "@jupyter-widgets/controls",
     "model_module_version": "1.5.0",
     "model_name": "DescriptionStyleModel",
     "state": {
      "_model_module": "@jupyter-widgets/controls",
      "_model_module_version": "1.5.0",
      "_model_name": "DescriptionStyleModel",
      "_view_count": null,
      "_view_module": "@jupyter-widgets/base",
      "_view_module_version": "1.2.0",
      "_view_name": "StyleView",
      "description_width": ""
     }
    },
    "8a9387dab3cf44369347fe2e64fcd783": {
     "model_module": "@jupyter-widgets/controls",
     "model_module_version": "1.5.0",
     "model_name": "HTMLModel",
     "state": {
      "_dom_classes": [],
      "_model_module": "@jupyter-widgets/controls",
      "_model_module_version": "1.5.0",
      "_model_name": "HTMLModel",
      "_view_count": null,
      "_view_module": "@jupyter-widgets/controls",
      "_view_module_version": "1.5.0",
      "_view_name": "HTMLView",
      "description": "",
      "description_tooltip": null,
      "layout": "IPY_MODEL_0969a05ffc414998a8f0b7739d4e9132",
      "placeholder": "​",
      "style": "IPY_MODEL_ef0d2656dcfc44df9ad4c8dde41ed957",
      "value": "Evaluating: 100%"
     }
    },
    "939b1ef5dcdd46be99b45f65b1e5ae5d": {
     "model_module": "@jupyter-widgets/controls",
     "model_module_version": "1.5.0",
     "model_name": "HTMLModel",
     "state": {
      "_dom_classes": [],
      "_model_module": "@jupyter-widgets/controls",
      "_model_module_version": "1.5.0",
      "_model_name": "HTMLModel",
      "_view_count": null,
      "_view_module": "@jupyter-widgets/controls",
      "_view_module_version": "1.5.0",
      "_view_name": "HTMLView",
      "description": "",
      "description_tooltip": null,
      "layout": "IPY_MODEL_0eccd8c718da4e408a46cde3e43c25c1",
      "placeholder": "​",
      "style": "IPY_MODEL_803dea7f80f4416fb7c00ddeee494ea3",
      "value": " 20/20 [00:29&lt;00:00,  3.54s/it]"
     }
    },
    "a63761a22618484abaedc7a5ac5c604a": {
     "model_module": "@jupyter-widgets/base",
     "model_module_version": "1.2.0",
     "model_name": "LayoutModel",
     "state": {
      "_model_module": "@jupyter-widgets/base",
      "_model_module_version": "1.2.0",
      "_model_name": "LayoutModel",
      "_view_count": null,
      "_view_module": "@jupyter-widgets/base",
      "_view_module_version": "1.2.0",
      "_view_name": "LayoutView",
      "align_content": null,
      "align_items": null,
      "align_self": null,
      "border": null,
      "bottom": null,
      "display": null,
      "flex": null,
      "flex_flow": null,
      "grid_area": null,
      "grid_auto_columns": null,
      "grid_auto_flow": null,
      "grid_auto_rows": null,
      "grid_column": null,
      "grid_gap": null,
      "grid_row": null,
      "grid_template_areas": null,
      "grid_template_columns": null,
      "grid_template_rows": null,
      "height": null,
      "justify_content": null,
      "justify_items": null,
      "left": null,
      "margin": null,
      "max_height": null,
      "max_width": null,
      "min_height": null,
      "min_width": null,
      "object_fit": null,
      "object_position": null,
      "order": null,
      "overflow": null,
      "overflow_x": null,
      "overflow_y": null,
      "padding": null,
      "right": null,
      "top": null,
      "visibility": null,
      "width": null
     }
    },
    "aaeabb8375a841e099b7e14a885d7d77": {
     "model_module": "@jupyter-widgets/controls",
     "model_module_version": "1.5.0",
     "model_name": "ProgressStyleModel",
     "state": {
      "_model_module": "@jupyter-widgets/controls",
      "_model_module_version": "1.5.0",
      "_model_name": "ProgressStyleModel",
      "_view_count": null,
      "_view_module": "@jupyter-widgets/base",
      "_view_module_version": "1.2.0",
      "_view_name": "StyleView",
      "bar_color": null,
      "description_width": ""
     }
    },
    "cae50d1c13f84187ac095cfc44db6b94": {
     "model_module": "@jupyter-widgets/controls",
     "model_module_version": "1.5.0",
     "model_name": "FloatProgressModel",
     "state": {
      "_dom_classes": [],
      "_model_module": "@jupyter-widgets/controls",
      "_model_module_version": "1.5.0",
      "_model_name": "FloatProgressModel",
      "_view_count": null,
      "_view_module": "@jupyter-widgets/controls",
      "_view_module_version": "1.5.0",
      "_view_name": "ProgressView",
      "bar_style": "success",
      "description": "",
      "description_tooltip": null,
      "layout": "IPY_MODEL_a63761a22618484abaedc7a5ac5c604a",
      "max": 20,
      "min": 0,
      "orientation": "horizontal",
      "style": "IPY_MODEL_39a18301205640678537b17f27acee34",
      "value": 20
     }
    },
    "cd5e41e4e15a4a8bb28ca93ea992ee2c": {
     "model_module": "@jupyter-widgets/base",
     "model_module_version": "1.2.0",
     "model_name": "LayoutModel",
     "state": {
      "_model_module": "@jupyter-widgets/base",
      "_model_module_version": "1.2.0",
      "_model_name": "LayoutModel",
      "_view_count": null,
      "_view_module": "@jupyter-widgets/base",
      "_view_module_version": "1.2.0",
      "_view_name": "LayoutView",
      "align_content": null,
      "align_items": null,
      "align_self": null,
      "border": null,
      "bottom": null,
      "display": null,
      "flex": null,
      "flex_flow": null,
      "grid_area": null,
      "grid_auto_columns": null,
      "grid_auto_flow": null,
      "grid_auto_rows": null,
      "grid_column": null,
      "grid_gap": null,
      "grid_row": null,
      "grid_template_areas": null,
      "grid_template_columns": null,
      "grid_template_rows": null,
      "height": null,
      "justify_content": null,
      "justify_items": null,
      "left": null,
      "margin": null,
      "max_height": null,
      "max_width": null,
      "min_height": null,
      "min_width": null,
      "object_fit": null,
      "object_position": null,
      "order": null,
      "overflow": null,
      "overflow_x": null,
      "overflow_y": null,
      "padding": null,
      "right": null,
      "top": null,
      "visibility": null,
      "width": null
     }
    },
    "da50f098b9d240eab7158d31527a2274": {
     "model_module": "@jupyter-widgets/controls",
     "model_module_version": "1.5.0",
     "model_name": "DescriptionStyleModel",
     "state": {
      "_model_module": "@jupyter-widgets/controls",
      "_model_module_version": "1.5.0",
      "_model_name": "DescriptionStyleModel",
      "_view_count": null,
      "_view_module": "@jupyter-widgets/base",
      "_view_module_version": "1.2.0",
      "_view_name": "StyleView",
      "description_width": ""
     }
    },
    "ef0d2656dcfc44df9ad4c8dde41ed957": {
     "model_module": "@jupyter-widgets/controls",
     "model_module_version": "1.5.0",
     "model_name": "DescriptionStyleModel",
     "state": {
      "_model_module": "@jupyter-widgets/controls",
      "_model_module_version": "1.5.0",
      "_model_name": "DescriptionStyleModel",
      "_view_count": null,
      "_view_module": "@jupyter-widgets/base",
      "_view_module_version": "1.2.0",
      "_view_name": "StyleView",
      "description_width": ""
     }
    }
   }
  }
 },
 "nbformat": 4,
 "nbformat_minor": 5
}
